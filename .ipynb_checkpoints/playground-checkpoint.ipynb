{
 "cells": [
  {
   "cell_type": "code",
   "execution_count": 58,
   "metadata": {
    "execution": {
     "iopub.execute_input": "2021-06-24T00:15:03.947064Z",
     "iopub.status.busy": "2021-06-24T00:15:03.947064Z",
     "iopub.status.idle": "2021-06-24T00:15:03.958063Z",
     "shell.execute_reply": "2021-06-24T00:15:03.957060Z",
     "shell.execute_reply.started": "2021-06-24T00:15:03.947064Z"
    }
   },
   "outputs": [
    {
     "name": "stdout",
     "output_type": "stream",
     "text": [
      "CaseManPill\n"
     ]
    },
    {
     "data": {
      "text/plain": [
       "['camel', ['', 'aseManPill'], ['Case', 'anPill'], ['CaseMan', 'ill']]"
      ]
     },
     "execution_count": 58,
     "metadata": {},
     "output_type": "execute_result"
    }
   ],
   "source": [
    "word = \"camelCaseManPill\"\n",
    "splitting_letters = [\"C\", \"M\", \"P\"]\n",
    "\n",
    "# add the first word to a list called words_to_concat\n",
    "words_to_concat = [word.split(splitting_letters[0])[0]]\n",
    "\n",
    "# remove that string from word\n",
    "word = word.replace(words_to_concat[0], '')\n",
    "\n",
    "print(word)\n",
    "i = 0\n",
    "for letter in splitting_letters:\n",
    "    word.split(letter)\n",
    "    words_to_concat.append(word.split(letter))\n",
    "\n",
    "words_to_concat"
   ]
  },
  {
   "cell_type": "code",
   "execution_count": 34,
   "metadata": {
    "execution": {
     "iopub.execute_input": "2021-06-24T00:00:57.153623Z",
     "iopub.status.busy": "2021-06-24T00:00:57.152623Z",
     "iopub.status.idle": "2021-06-24T00:00:57.174625Z",
     "shell.execute_reply": "2021-06-24T00:00:57.173625Z",
     "shell.execute_reply.started": "2021-06-24T00:00:57.153623Z"
    }
   },
   "outputs": [
    {
     "data": {
      "text/plain": [
       "'camel'"
      ]
     },
     "execution_count": 34,
     "metadata": {},
     "output_type": "execute_result"
    }
   ],
   "source": [
    "\"camelCase\"[:-4]"
   ]
  },
  {
   "cell_type": "code",
   "execution_count": 28,
   "metadata": {
    "execution": {
     "iopub.execute_input": "2021-06-23T23:55:43.268029Z",
     "iopub.status.busy": "2021-06-23T23:55:43.268029Z",
     "iopub.status.idle": "2021-06-23T23:55:43.293027Z",
     "shell.execute_reply": "2021-06-23T23:55:43.292029Z",
     "shell.execute_reply.started": "2021-06-23T23:55:43.268029Z"
    }
   },
   "outputs": [
    {
     "ename": "AttributeError",
     "evalue": "'str' object has no attribute 'removeprefix'",
     "output_type": "error",
     "traceback": [
      "\u001b[1;31m---------------------------------------------------------------------------\u001b[0m",
      "\u001b[1;31mAttributeError\u001b[0m                            Traceback (most recent call last)",
      "\u001b[1;32m<ipython-input-28-e1709484c9cc>\u001b[0m in \u001b[0;36m<module>\u001b[1;34m\u001b[0m\n\u001b[1;32m----> 1\u001b[1;33m \u001b[1;34m'TestHook'\u001b[0m\u001b[1;33m.\u001b[0m\u001b[0mremoveprefix\u001b[0m\u001b[1;33m(\u001b[0m\u001b[1;34m'Test'\u001b[0m\u001b[1;33m)\u001b[0m\u001b[1;33m\u001b[0m\u001b[1;33m\u001b[0m\u001b[0m\n\u001b[0m",
      "\u001b[1;31mAttributeError\u001b[0m: 'str' object has no attribute 'removeprefix'"
     ]
    }
   ],
   "source": [
    "'TestHook'.removeprefix('Test')"
   ]
  },
  {
   "cell_type": "code",
   "execution_count": null,
   "metadata": {},
   "outputs": [],
   "source": []
  },
  {
   "cell_type": "code",
   "execution_count": null,
   "metadata": {},
   "outputs": [],
   "source": []
  },
  {
   "cell_type": "code",
   "execution_count": 2,
   "metadata": {
    "execution": {
     "iopub.execute_input": "2021-06-23T21:35:59.395618Z",
     "iopub.status.busy": "2021-06-23T21:35:59.395618Z",
     "iopub.status.idle": "2021-06-23T21:35:59.404571Z",
     "shell.execute_reply": "2021-06-23T21:35:59.403571Z",
     "shell.execute_reply.started": "2021-06-23T21:35:59.395618Z"
    }
   },
   "outputs": [
    {
     "data": {
      "text/plain": [
       "['c', 'melC', 'se']"
      ]
     },
     "execution_count": 2,
     "metadata": {},
     "output_type": "execute_result"
    }
   ],
   "source": [
    "word = \"camelCase\"\n",
    "word.split(\"a\")"
   ]
  },
  {
   "cell_type": "code",
   "execution_count": 9,
   "metadata": {
    "execution": {
     "iopub.execute_input": "2021-06-23T23:39:27.533327Z",
     "iopub.status.busy": "2021-06-23T23:39:27.528314Z",
     "iopub.status.idle": "2021-06-23T23:39:27.585691Z",
     "shell.execute_reply": "2021-06-23T23:39:27.584691Z",
     "shell.execute_reply.started": "2021-06-23T23:39:27.532313Z"
    }
   },
   "outputs": [
    {
     "data": {
      "text/plain": [
       "['camelC', 'aseC']"
      ]
     },
     "execution_count": 9,
     "metadata": {},
     "output_type": "execute_result"
    }
   ],
   "source": [
    "word = \"camelCase\"\n",
    "delimiter = \"C\"\n",
    "for letter in word:\n",
    "    split_words = [word + delimiter for word in word.split(delimiter) if delimiter]\n",
    "split_words\n"
   ]
  },
  {
   "cell_type": "code",
   "execution_count": 10,
   "metadata": {
    "execution": {
     "iopub.execute_input": "2021-06-23T23:40:27.899212Z",
     "iopub.status.busy": "2021-06-23T23:40:27.899212Z",
     "iopub.status.idle": "2021-06-23T23:40:27.920213Z",
     "shell.execute_reply": "2021-06-23T23:40:27.919212Z",
     "shell.execute_reply.started": "2021-06-23T23:40:27.899212Z"
    }
   },
   "outputs": [
    {
     "data": {
      "text/plain": [
       "['camel', 'ase']"
      ]
     },
     "execution_count": 10,
     "metadata": {},
     "output_type": "execute_result"
    }
   ],
   "source": [
    "word = \"camelCase\"\n",
    "delimiter = \"C\"\n",
    "for letter in word:\n",
    "    split_words = [word for word in word.split(delimiter) if delimiter]\n",
    "split_words\n"
   ]
  },
  {
   "cell_type": "code",
   "execution_count": 8,
   "metadata": {
    "execution": {
     "iopub.execute_input": "2021-06-23T22:01:28.652495Z",
     "iopub.status.busy": "2021-06-23T22:01:28.652495Z",
     "iopub.status.idle": "2021-06-23T22:01:28.662495Z",
     "shell.execute_reply": "2021-06-23T22:01:28.661496Z",
     "shell.execute_reply.started": "2021-06-23T22:01:28.652495Z"
    }
   },
   "outputs": [
    {
     "data": {
      "text/plain": [
       "'camel'"
      ]
     },
     "execution_count": 8,
     "metadata": {},
     "output_type": "execute_result"
    }
   ],
   "source": [
    "word = \"camelCase\"\n",
    "word.split('C')[0]"
   ]
  },
  {
   "cell_type": "code",
   "execution_count": null,
   "metadata": {},
   "outputs": [],
   "source": []
  },
  {
   "cell_type": "code",
   "execution_count": 13,
   "metadata": {
    "execution": {
     "iopub.execute_input": "2021-06-20T22:38:50.387454Z",
     "iopub.status.busy": "2021-06-20T22:38:50.386453Z",
     "iopub.status.idle": "2021-06-20T22:38:50.403452Z",
     "shell.execute_reply": "2021-06-20T22:38:50.402452Z",
     "shell.execute_reply.started": "2021-06-20T22:38:50.387454Z"
    }
   },
   "outputs": [
    {
     "data": {
      "text/plain": [
       "['Hello', 'World']"
      ]
     },
     "execution_count": 13,
     "metadata": {},
     "output_type": "execute_result"
    }
   ],
   "source": [
    "words = [\"Hello  \", \" World\"]\n",
    "[word.strip() for word in words]"
   ]
  },
  {
   "cell_type": "code",
   "execution_count": 16,
   "metadata": {
    "execution": {
     "iopub.execute_input": "2021-06-20T22:49:00.702803Z",
     "iopub.status.busy": "2021-06-20T22:49:00.701799Z",
     "iopub.status.idle": "2021-06-20T22:49:00.711801Z",
     "shell.execute_reply": "2021-06-20T22:49:00.710801Z",
     "shell.execute_reply.started": "2021-06-20T22:49:00.702803Z"
    }
   },
   "outputs": [
    {
     "data": {
      "text/plain": [
       "['world', 'Hello']"
      ]
     },
     "execution_count": 16,
     "metadata": {},
     "output_type": "execute_result"
    }
   ],
   "source": [
    "words = [\"Hello\", \"world\"]\n",
    "words.reverse()\n",
    "words"
   ]
  },
  {
   "cell_type": "code",
   "execution_count": null,
   "metadata": {},
   "outputs": [],
   "source": []
  },
  {
   "cell_type": "code",
   "execution_count": 1,
   "metadata": {
    "execution": {
     "iopub.execute_input": "2021-06-20T22:19:32.421130Z",
     "iopub.status.busy": "2021-06-20T22:19:32.420128Z",
     "iopub.status.idle": "2021-06-20T22:19:32.438129Z",
     "shell.execute_reply": "2021-06-20T22:19:32.436134Z",
     "shell.execute_reply.started": "2021-06-20T22:19:32.421130Z"
    }
   },
   "outputs": [
    {
     "data": {
      "text/plain": [
       "0"
      ]
     },
     "execution_count": 1,
     "metadata": {},
     "output_type": "execute_result"
    }
   ],
   "source": [
    "len(\"\")"
   ]
  },
  {
   "cell_type": "code",
   "execution_count": 2,
   "metadata": {
    "execution": {
     "iopub.execute_input": "2021-06-20T22:23:47.400647Z",
     "iopub.status.busy": "2021-06-20T22:23:47.400647Z",
     "iopub.status.idle": "2021-06-20T22:23:47.420648Z",
     "shell.execute_reply": "2021-06-20T22:23:47.418660Z",
     "shell.execute_reply.started": "2021-06-20T22:23:47.400647Z"
    }
   },
   "outputs": [
    {
     "data": {
      "text/plain": [
       "True"
      ]
     },
     "execution_count": 2,
     "metadata": {},
     "output_type": "execute_result"
    }
   ],
   "source": [
    "\"abb\".endswith(\"b\")"
   ]
  },
  {
   "cell_type": "code",
   "execution_count": 3,
   "metadata": {
    "execution": {
     "iopub.execute_input": "2021-06-20T22:26:27.645489Z",
     "iopub.status.busy": "2021-06-20T22:26:27.644489Z",
     "iopub.status.idle": "2021-06-20T22:26:27.664490Z",
     "shell.execute_reply": "2021-06-20T22:26:27.662491Z",
     "shell.execute_reply.started": "2021-06-20T22:26:27.645489Z"
    }
   },
   "outputs": [],
   "source": [
    "txt = \"Hello\""
   ]
  },
  {
   "cell_type": "code",
   "execution_count": 8,
   "metadata": {
    "execution": {
     "iopub.execute_input": "2021-06-20T22:27:20.425489Z",
     "iopub.status.busy": "2021-06-20T22:27:20.424489Z",
     "iopub.status.idle": "2021-06-20T22:27:20.441488Z",
     "shell.execute_reply": "2021-06-20T22:27:20.439487Z",
     "shell.execute_reply.started": "2021-06-20T22:27:20.425489Z"
    }
   },
   "outputs": [
    {
     "data": {
      "text/plain": [
       "''"
      ]
     },
     "execution_count": 8,
     "metadata": {},
     "output_type": "execute_result"
    }
   ],
   "source": [
    "txt[0:3:-3]"
   ]
  },
  {
   "cell_type": "code",
   "execution_count": 13,
   "metadata": {
    "execution": {
     "iopub.execute_input": "2021-06-18T02:04:55.667042Z",
     "iopub.status.busy": "2021-06-18T02:04:55.667042Z",
     "iopub.status.idle": "2021-06-18T02:04:55.674047Z",
     "shell.execute_reply": "2021-06-18T02:04:55.673044Z",
     "shell.execute_reply.started": "2021-06-18T02:04:55.667042Z"
    }
   },
   "outputs": [
    {
     "data": {
      "text/plain": [
       "True"
      ]
     },
     "execution_count": 13,
     "metadata": {},
     "output_type": "execute_result"
    }
   ],
   "source": [
    "y = 3 == 3\n",
    "y "
   ]
  },
  {
   "cell_type": "code",
   "execution_count": 15,
   "metadata": {
    "execution": {
     "iopub.execute_input": "2021-06-18T02:06:28.308148Z",
     "iopub.status.busy": "2021-06-18T02:06:28.307147Z",
     "iopub.status.idle": "2021-06-18T02:06:28.330150Z",
     "shell.execute_reply": "2021-06-18T02:06:28.329148Z",
     "shell.execute_reply.started": "2021-06-18T02:06:28.307147Z"
    }
   },
   "outputs": [
    {
     "data": {
      "text/plain": [
       "False"
      ]
     },
     "execution_count": 15,
     "metadata": {},
     "output_type": "execute_result"
    }
   ],
   "source": [
    "y = True if 3==4 else False\n",
    "y"
   ]
  },
  {
   "cell_type": "code",
   "execution_count": 1,
   "metadata": {
    "execution": {
     "iopub.execute_input": "2021-06-17T14:28:42.832541Z",
     "iopub.status.busy": "2021-06-17T14:28:42.832541Z",
     "iopub.status.idle": "2021-06-17T14:28:42.855542Z",
     "shell.execute_reply": "2021-06-17T14:28:42.854541Z",
     "shell.execute_reply.started": "2021-06-17T14:28:42.832541Z"
    }
   },
   "outputs": [
    {
     "data": {
      "text/plain": [
       "[3, 5, 7, 9, 11, 13, 15, 17, 19]"
      ]
     },
     "execution_count": 1,
     "metadata": {},
     "output_type": "execute_result"
    }
   ],
   "source": [
    "nums = list(range(100))\n",
    "nums[3:20:2]"
   ]
  },
  {
   "cell_type": "code",
   "execution_count": 6,
   "metadata": {
    "execution": {
     "iopub.execute_input": "2021-06-17T14:30:57.851415Z",
     "iopub.status.busy": "2021-06-17T14:30:57.850411Z",
     "iopub.status.idle": "2021-06-17T14:30:57.866413Z",
     "shell.execute_reply": "2021-06-17T14:30:57.865412Z",
     "shell.execute_reply.started": "2021-06-17T14:30:57.851415Z"
    }
   },
   "outputs": [
    {
     "data": {
      "text/plain": [
       "2"
      ]
     },
     "execution_count": 6,
     "metadata": {},
     "output_type": "execute_result"
    }
   ],
   "source": [
    "import string\n",
    "\n",
    "# list of letters\n",
    "alpha = list(string.ascii_lowercase)\n",
    "\n",
    "# the letter 'c' is at index position 2\n",
    "alpha.index(\"c\")"
   ]
  },
  {
   "cell_type": "code",
   "execution_count": 7,
   "metadata": {
    "execution": {
     "iopub.execute_input": "2021-06-17T21:42:39.301998Z",
     "iopub.status.busy": "2021-06-17T21:42:39.296998Z",
     "iopub.status.idle": "2021-06-17T21:42:39.349002Z",
     "shell.execute_reply": "2021-06-17T21:42:39.346002Z",
     "shell.execute_reply.started": "2021-06-17T21:42:39.301998Z"
    }
   },
   "outputs": [
    {
     "data": {
      "text/plain": [
       "['a', 'b', 'c', 'd', 'e', 'f', 'g', 'h', 'i', 'j', 'k', 'l', 'm']"
      ]
     },
     "execution_count": 7,
     "metadata": {},
     "output_type": "execute_result"
    }
   ],
   "source": [
    "list('abcdefghijklm')"
   ]
  },
  {
   "cell_type": "code",
   "execution_count": 9,
   "metadata": {
    "execution": {
     "iopub.execute_input": "2021-06-17T21:52:34.444219Z",
     "iopub.status.busy": "2021-06-17T21:52:34.443221Z",
     "iopub.status.idle": "2021-06-17T21:52:34.470243Z",
     "shell.execute_reply": "2021-06-17T21:52:34.468219Z",
     "shell.execute_reply.started": "2021-06-17T21:52:34.444219Z"
    }
   },
   "outputs": [
    {
     "data": {
      "text/plain": [
       "3"
      ]
     },
     "execution_count": 9,
     "metadata": {},
     "output_type": "execute_result"
    }
   ],
   "source": [
    "len(range(3))"
   ]
  },
  {
   "cell_type": "code",
   "execution_count": 16,
   "metadata": {
    "execution": {
     "iopub.execute_input": "2021-06-18T02:29:44.808101Z",
     "iopub.status.busy": "2021-06-18T02:29:44.795102Z",
     "iopub.status.idle": "2021-06-18T02:29:44.899103Z",
     "shell.execute_reply": "2021-06-18T02:29:44.895104Z",
     "shell.execute_reply.started": "2021-06-18T02:29:44.808101Z"
    }
   },
   "outputs": [
    {
     "data": {
      "text/plain": [
       "True"
      ]
     },
     "execution_count": 16,
     "metadata": {},
     "output_type": "execute_result"
    }
   ],
   "source": [
    "1 == 3-2"
   ]
  },
  {
   "cell_type": "code",
   "execution_count": 17,
   "metadata": {
    "execution": {
     "iopub.execute_input": "2021-06-18T02:29:56.839929Z",
     "iopub.status.busy": "2021-06-18T02:29:56.839929Z",
     "iopub.status.idle": "2021-06-18T02:29:56.861926Z",
     "shell.execute_reply": "2021-06-18T02:29:56.860926Z",
     "shell.execute_reply.started": "2021-06-18T02:29:56.839929Z"
    }
   },
   "outputs": [
    {
     "data": {
      "text/plain": [
       "False"
      ]
     },
     "execution_count": 17,
     "metadata": {},
     "output_type": "execute_result"
    }
   ],
   "source": [
    "1 + 0 == 10"
   ]
  },
  {
   "cell_type": "code",
   "execution_count": 18,
   "metadata": {
    "execution": {
     "iopub.execute_input": "2021-06-18T02:30:17.096730Z",
     "iopub.status.busy": "2021-06-18T02:30:17.096730Z",
     "iopub.status.idle": "2021-06-18T02:30:17.112733Z",
     "shell.execute_reply": "2021-06-18T02:30:17.111734Z",
     "shell.execute_reply.started": "2021-06-18T02:30:17.096730Z"
    }
   },
   "outputs": [
    {
     "data": {
      "text/plain": [
       "True"
      ]
     },
     "execution_count": 18,
     "metadata": {},
     "output_type": "execute_result"
    }
   ],
   "source": [
    "1 + 0 != 10"
   ]
  },
  {
   "cell_type": "code",
   "execution_count": 19,
   "metadata": {
    "execution": {
     "iopub.execute_input": "2021-06-18T02:30:35.868429Z",
     "iopub.status.busy": "2021-06-18T02:30:35.868429Z",
     "iopub.status.idle": "2021-06-18T02:30:35.879427Z",
     "shell.execute_reply": "2021-06-18T02:30:35.877431Z",
     "shell.execute_reply.started": "2021-06-18T02:30:35.868429Z"
    }
   },
   "outputs": [
    {
     "data": {
      "text/plain": [
       "True"
      ]
     },
     "execution_count": 19,
     "metadata": {},
     "output_type": "execute_result"
    }
   ],
   "source": [
    "5 != 60"
   ]
  },
  {
   "cell_type": "code",
   "execution_count": null,
   "metadata": {},
   "outputs": [],
   "source": []
  }
 ],
 "metadata": {
  "kernelspec": {
   "display_name": "Python 3",
   "language": "python",
   "name": "python3"
  },
  "language_info": {
   "codemirror_mode": {
    "name": "ipython",
    "version": 3
   },
   "file_extension": ".py",
   "mimetype": "text/x-python",
   "name": "python",
   "nbconvert_exporter": "python",
   "pygments_lexer": "ipython3",
   "version": "3.6.9"
  }
 },
 "nbformat": 4,
 "nbformat_minor": 4
}
