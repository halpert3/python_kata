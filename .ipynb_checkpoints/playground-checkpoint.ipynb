{
 "cells": [
  {
   "cell_type": "code",
   "execution_count": 1,
   "metadata": {
    "execution": {
     "iopub.execute_input": "2021-06-17T14:28:42.832541Z",
     "iopub.status.busy": "2021-06-17T14:28:42.832541Z",
     "iopub.status.idle": "2021-06-17T14:28:42.855542Z",
     "shell.execute_reply": "2021-06-17T14:28:42.854541Z",
     "shell.execute_reply.started": "2021-06-17T14:28:42.832541Z"
    }
   },
   "outputs": [
    {
     "data": {
      "text/plain": [
       "[3, 5, 7, 9, 11, 13, 15, 17, 19]"
      ]
     },
     "execution_count": 1,
     "metadata": {},
     "output_type": "execute_result"
    }
   ],
   "source": [
    "nums = list(range(100))\n",
    "nums[3:20:2]"
   ]
  },
  {
   "cell_type": "code",
   "execution_count": 6,
   "metadata": {
    "execution": {
     "iopub.execute_input": "2021-06-17T14:30:57.851415Z",
     "iopub.status.busy": "2021-06-17T14:30:57.850411Z",
     "iopub.status.idle": "2021-06-17T14:30:57.866413Z",
     "shell.execute_reply": "2021-06-17T14:30:57.865412Z",
     "shell.execute_reply.started": "2021-06-17T14:30:57.851415Z"
    }
   },
   "outputs": [
    {
     "data": {
      "text/plain": [
       "2"
      ]
     },
     "execution_count": 6,
     "metadata": {},
     "output_type": "execute_result"
    }
   ],
   "source": [
    "import string\n",
    "\n",
    "# list of letters\n",
    "alpha = list(string.ascii_lowercase)\n",
    "\n",
    "# the letter 'c' is at index position 2\n",
    "alpha.index(\"c\")"
   ]
  }
 ],
 "metadata": {
  "kernelspec": {
   "display_name": "Python 3",
   "language": "python",
   "name": "python3"
  },
  "language_info": {
   "codemirror_mode": {
    "name": "ipython",
    "version": 3
   },
   "file_extension": ".py",
   "mimetype": "text/x-python",
   "name": "python",
   "nbconvert_exporter": "python",
   "pygments_lexer": "ipython3",
   "version": "3.6.9"
  }
 },
 "nbformat": 4,
 "nbformat_minor": 4
}
