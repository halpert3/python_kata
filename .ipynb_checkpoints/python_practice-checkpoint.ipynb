{
 "cells": [
  {
   "cell_type": "markdown",
   "metadata": {},
   "source": [
    "# Help the bookseller - 6th\n",
    "A bookseller has lots of books classified in 26 categories labeled A, B, ... Z. Each book has a code c of 3, 4, 5 or more characters. The 1st character of a code is a capital letter which defines the book category.\n",
    "\n",
    "In the bookseller's stocklist each code c is followed by a space and by a positive integer n (int n >= 0) which indicates the quantity of books of this code in stock.\n",
    "\n",
    "For example an extract of a stocklist could be:\n",
    "\n",
    "```\n",
    "L = [\"ABART 20\", \"CDXEF 50\", \"BKWRK 25\", \"BTSQZ 89\", \"DRTYM 60\"]\n",
    "```\n",
    "\n",
    "You will be given a stocklist (e.g. : L) and a list of categories in capital letters e.g :\n",
    "```\n",
    "M = [\"A\", \"B\", \"C\", \"W\"]\n",
    "```\n",
    "and your task is to find all the books of L with codes belonging to each category of M and to sum their quantity according to each category.\n",
    "\n",
    "For the lists L and M of example you have to return the string:\n",
    "```\n",
    "(A : 20) - (B : 114) - (C : 50) - (W : 0)\n",
    "```\n",
    "where A, B, C, W are the categories, 20 is the sum of the unique book of category A, 114 the sum corresponding to \"BKWRK\" and \"BTSQZ\", 50 corresponding to \"CDXEF\" and 0 to category 'W' since there are no code beginning with W.\n",
    "\n",
    "If L or M are empty return string is `\"\"`.\n",
    "\n",
    "**Note:**\n",
    "In the result codes and their values are in the same order as in M."
   ]
  },
  {
   "cell_type": "code",
   "execution_count": 183,
   "metadata": {
    "execution": {
     "iopub.execute_input": "2021-09-03T16:51:38.315223Z",
     "iopub.status.busy": "2021-09-03T16:51:38.314224Z",
     "iopub.status.idle": "2021-09-03T16:51:38.334224Z",
     "shell.execute_reply": "2021-09-03T16:51:38.333222Z",
     "shell.execute_reply.started": "2021-09-03T16:51:38.315223Z"
    }
   },
   "outputs": [],
   "source": [
    "import re \n",
    "\n",
    "def stock_list(listOfArt, listOfCat):\n",
    "    # make a list of tuples of first letters and their numbers\n",
    "    letters = []\n",
    "    numbers = []\n",
    "   \n",
    "    for art in listOfArt:\n",
    "        let = re.findall(\"^[A-Z]\", art)\n",
    "        num = re.findall(\"\\d+\", art)\n",
    "        letters.append(let[0])\n",
    "        numbers.append(num[0])\n",
    "    let_num = list(zip(letters, numbers))\n",
    "   \n",
    "    # create dictionary of needed keys with values of 0\n",
    "    calc = {}\n",
    "    for x in listOfCat:\n",
    "        calc[x] = 0\n",
    "\n",
    "    # add the necessary numbers to the dictionary\n",
    "    for x in listOfCat:\n",
    "        for item in let_num:\n",
    "            if item[0] == x:\n",
    "                calc[item[0]] += int(item[1])\n",
    "    \n",
    "    string_to_return = \"\"\n",
    "    \n",
    "    # return empty string if all values are 0\n",
    "    total = 0\n",
    "    for elem in calc:\n",
    "        total += calc[elem]\n",
    "    if total == 0:\n",
    "        return string_to_return\n",
    "    \n",
    "    # otherwise, return dictionary as the asked-for string\n",
    "    for x in calc:\n",
    "        string_to_return += (f\"({x} : {calc[x]}) - \")\n",
    "    \n",
    "    return string_to_return[0:-3]\n"
   ]
  },
  {
   "cell_type": "code",
   "execution_count": 184,
   "metadata": {
    "execution": {
     "iopub.execute_input": "2021-09-03T16:51:39.426225Z",
     "iopub.status.busy": "2021-09-03T16:51:39.425221Z",
     "iopub.status.idle": "2021-09-03T16:51:39.440224Z",
     "shell.execute_reply": "2021-09-03T16:51:39.438225Z",
     "shell.execute_reply.started": "2021-09-03T16:51:39.426225Z"
    }
   },
   "outputs": [
    {
     "data": {
      "text/plain": [
       "'(A : 200) - (B : 1140)'"
      ]
     },
     "execution_count": 184,
     "metadata": {},
     "output_type": "execute_result"
    }
   ],
   "source": [
    "L = [\"ABAR 200\", \"CDXE 500\", \"BKWR 250\", \"BTSQ 890\", \"DRTY 600\"]\n",
    "M = [\"A\", \"B\"]\n",
    "stock_list(L, M)\n",
    "#\"(A : 200) - (B : 1140)\""
   ]
  },
  {
   "cell_type": "code",
   "execution_count": 185,
   "metadata": {
    "execution": {
     "iopub.execute_input": "2021-09-03T16:51:42.370224Z",
     "iopub.status.busy": "2021-09-03T16:51:42.370224Z",
     "iopub.status.idle": "2021-09-03T16:51:42.386223Z",
     "shell.execute_reply": "2021-09-03T16:51:42.385221Z",
     "shell.execute_reply.started": "2021-09-03T16:51:42.370224Z"
    }
   },
   "outputs": [
    {
     "data": {
      "text/plain": [
       "''"
      ]
     },
     "execution_count": 185,
     "metadata": {},
     "output_type": "execute_result"
    }
   ],
   "source": [
    "L = [\"ABAR 00\", \"CDXE 00\", \"BKWR 0\", \"BTSQ 0\", \"DRTY 0\"]\n",
    "M = [\"A\", \"B\"]\n",
    "stock_list(L, M)"
   ]
  },
  {
   "cell_type": "code",
   "execution_count": 150,
   "metadata": {
    "execution": {
     "iopub.execute_input": "2021-09-03T16:39:58.800601Z",
     "iopub.status.busy": "2021-09-03T16:39:58.800601Z",
     "iopub.status.idle": "2021-09-03T16:39:58.820599Z",
     "shell.execute_reply": "2021-09-03T16:39:58.819600Z",
     "shell.execute_reply.started": "2021-09-03T16:39:58.800601Z"
    }
   },
   "outputs": [
    {
     "data": {
      "text/plain": [
       "{'A': 303, 'B': 500, 'C': 499}"
      ]
     },
     "execution_count": 150,
     "metadata": {},
     "output_type": "execute_result"
    }
   ],
   "source": [
    "test_dict = {'A': 300, 'B': 500}\n",
    "\n",
    "test_dict['A'] += 3\n",
    "test_dict['C'] = 499\n",
    "test_dict"
   ]
  },
  {
   "cell_type": "code",
   "execution_count": 75,
   "metadata": {
    "execution": {
     "iopub.execute_input": "2021-09-03T16:12:51.988056Z",
     "iopub.status.busy": "2021-09-03T16:12:51.987049Z",
     "iopub.status.idle": "2021-09-03T16:12:52.006046Z",
     "shell.execute_reply": "2021-09-03T16:12:52.005070Z",
     "shell.execute_reply.started": "2021-09-03T16:12:51.988056Z"
    }
   },
   "outputs": [],
   "source": [
    "test = [('A', '200'), ('C', '500'), ('B', '250'), ('B', '890'), ('D', '600')]"
   ]
  },
  {
   "cell_type": "code",
   "execution_count": 41,
   "metadata": {
    "execution": {
     "iopub.execute_input": "2021-09-03T15:56:29.840288Z",
     "iopub.status.busy": "2021-09-03T15:56:29.840288Z",
     "iopub.status.idle": "2021-09-03T15:56:29.858283Z",
     "shell.execute_reply": "2021-09-03T15:56:29.857279Z",
     "shell.execute_reply.started": "2021-09-03T15:56:29.840288Z"
    }
   },
   "outputs": [
    {
     "data": {
      "text/plain": [
       "'200'"
      ]
     },
     "execution_count": 41,
     "metadata": {},
     "output_type": "execute_result"
    }
   ],
   "source": [
    "test[0][1]"
   ]
  },
  {
   "cell_type": "markdown",
   "metadata": {},
   "source": [
    "# Take a Ten Minute Walk - 6th\n",
    "You live in the city of Cartesia where all roads are laid out in a perfect grid. You arrived ten minutes too early to an appointment, so you decided to take the opportunity to go for a short walk. The city provides its citizens with a Walk Generating App on their phones -- everytime you press the button it sends you an array of one-letter strings representing directions to walk (eg. ['n', 's', 'w', 'e']). You always walk only a single block for each letter (direction) and you know it takes you one minute to traverse one city block, so create a function that will return true if the walk the app gives you will take you exactly ten minutes (you don't want to be early or late!) and will, of course, return you to your starting point. Return false otherwise.\n",
    "\n",
    "Note: you will always receive a valid array containing a random assortment of direction letters ('n', 's', 'e', or 'w' only). It will never give you an empty array (that's not a walk, that's standing still!)."
   ]
  },
  {
   "cell_type": "code",
   "execution_count": 16,
   "metadata": {
    "execution": {
     "iopub.execute_input": "2021-09-01T19:00:48.080544Z",
     "iopub.status.busy": "2021-09-01T19:00:48.080544Z",
     "iopub.status.idle": "2021-09-01T19:00:48.096544Z",
     "shell.execute_reply": "2021-09-01T19:00:48.095580Z",
     "shell.execute_reply.started": "2021-09-01T19:00:48.080544Z"
    }
   },
   "outputs": [],
   "source": [
    "# this one passed\n",
    "\n",
    "def is_valid_walk(walk):\n",
    "    \n",
    "    # only 10 minute walks can yield True\n",
    "    if len(walk) != 10:\n",
    "        return False\n",
    "\n",
    "    north_south = 0\n",
    "    east_west = 0\n",
    "    \n",
    "    \n",
    "    # Add 1 for relevant axis for going N or E. Subtract 1 for going S or W\n",
    "    for i in walk:\n",
    "        if i == 'n':\n",
    "            north_south += 1\n",
    "        if i == 's':\n",
    "            north_south -= 1\n",
    "        if i == 'e':\n",
    "            east_west += 1\n",
    "        if i == 'w':\n",
    "            east_west -= 1\n",
    "    \n",
    "    # the walk is valid if the two axes are both 0\n",
    "    if (north_south == 0) & (east_west == 0):\n",
    "        return True\n",
    "    else:\n",
    "        return False\n",
    "    \n"
   ]
  },
  {
   "cell_type": "code",
   "execution_count": 20,
   "metadata": {
    "execution": {
     "iopub.execute_input": "2021-09-01T19:10:57.002252Z",
     "iopub.status.busy": "2021-09-01T19:10:57.001252Z",
     "iopub.status.idle": "2021-09-01T19:10:57.020253Z",
     "shell.execute_reply": "2021-09-01T19:10:57.018276Z",
     "shell.execute_reply.started": "2021-09-01T19:10:57.001252Z"
    }
   },
   "outputs": [],
   "source": [
    "# making it a little tighter after seeing other solutions\n",
    "\n",
    "def is_valid_walk(walk):\n",
    "\n",
    "    north_south, east_west = 0, 0\n",
    "    \n",
    "    for i in walk:\n",
    "        if i == 'n':\n",
    "            north_south += 1\n",
    "        if i == 's':\n",
    "            north_south -= 1\n",
    "        if i == 'e':\n",
    "            east_west += 1\n",
    "        if i == 'w':\n",
    "            east_west -= 1\n",
    "    \n",
    "    if len(walk) == 10 and north_south == 0 and east_west == 0:\n",
    "        return True\n",
    "    else:\n",
    "        return False"
   ]
  },
  {
   "cell_type": "code",
   "execution_count": 14,
   "metadata": {
    "execution": {
     "iopub.execute_input": "2021-09-01T18:54:00.557666Z",
     "iopub.status.busy": "2021-09-01T18:54:00.557666Z",
     "iopub.status.idle": "2021-09-01T18:54:00.569277Z",
     "shell.execute_reply": "2021-09-01T18:54:00.568273Z",
     "shell.execute_reply.started": "2021-09-01T18:54:00.557666Z"
    }
   },
   "outputs": [],
   "source": [
    "sample_list = ['n', 's', 'e']\n",
    "sample_list2 = ['n', 's', 'e', 'n', 's', 'e','n', 's', 'e', 'w']"
   ]
  },
  {
   "cell_type": "code",
   "execution_count": 21,
   "metadata": {
    "execution": {
     "iopub.execute_input": "2021-09-01T19:10:58.538833Z",
     "iopub.status.busy": "2021-09-01T19:10:58.537833Z",
     "iopub.status.idle": "2021-09-01T19:10:58.547828Z",
     "shell.execute_reply": "2021-09-01T19:10:58.546828Z",
     "shell.execute_reply.started": "2021-09-01T19:10:58.537833Z"
    }
   },
   "outputs": [
    {
     "data": {
      "text/plain": [
       "False"
      ]
     },
     "execution_count": 21,
     "metadata": {},
     "output_type": "execute_result"
    }
   ],
   "source": [
    "is_valid_walk(sample_list2)"
   ]
  },
  {
   "cell_type": "code",
   "execution_count": null,
   "metadata": {},
   "outputs": [],
   "source": []
  },
  {
   "cell_type": "markdown",
   "metadata": {},
   "source": [
    "# Word a10n (abbreviation) - 6th\n",
    "\n",
    "The word `18n`is a common abbreviation of `internationalization` in the developer community, used instead of typing the whole word and trying to spell it correctly. Similarly, `a11y` is an abbreviation of `accessibility`.\n",
    "\n",
    "Write a function that takes a string and turns any and all \"words\" (see below) within that string of length 4 or greater into an abbreviation, following these rules:\n",
    "\n",
    "A \"word\" is a sequence of alphabetical characters. By this definition, any other character like a space or hyphen (eg. \"elephant-ride\") will split up a series of letters into two words (eg. \"elephant\" and \"ride\").\n",
    "\n",
    "The abbreviated version of the word should have the first letter, then the number of removed characters, then the last letter (eg. \"elephant ride\" => \"e6t r2e\").\n",
    "### Example\n",
    "```\n",
    "abbreviate(\"elephant-rides are really fun!\")\n",
    "//          ^^^^^^^^*^^^^^*^^^*^^^^^^*^^^*\n",
    "// words (^):   \"elephant\" \"rides\" \"are\" \"really\" \"fun\"\n",
    "//                123456     123     1     1234     1\n",
    "// ignore short words:               X              X\n",
    "\n",
    "// abbreviate:    \"e6t\"     \"r3s\"  \"are\"  \"r4y\"   \"fun\"\n",
    "// all non-word characters (*) remain in place\n",
    "//                     \"-\"      \" \"    \" \"     \" \"     \"!\"\n",
    "=== \"e6t-r3s are r4y fun!\"\n",
    "```"
   ]
  },
  {
   "cell_type": "code",
   "execution_count": 14,
   "metadata": {
    "execution": {
     "iopub.execute_input": "2021-07-30T17:39:30.192026Z",
     "iopub.status.busy": "2021-07-30T17:39:30.191020Z",
     "iopub.status.idle": "2021-07-30T17:39:30.212018Z",
     "shell.execute_reply": "2021-07-30T17:39:30.211016Z",
     "shell.execute_reply.started": "2021-07-30T17:39:30.192026Z"
    }
   },
   "outputs": [],
   "source": [
    "def abbrev_one_word(string):\n",
    "    \n",
    "    # ignore strings less than 3 chars\n",
    "    if len(string) < 4:\n",
    "        return string\n",
    "    \n",
    "    # figure out how many chars to remove, convert to string, add first and last letter\n",
    "    else:\n",
    "        num_removed_chars = str(len(string) - 2)\n",
    "        return string[0] + num_removed_chars + string[-1]"
   ]
  },
  {
   "cell_type": "code",
   "execution_count": 27,
   "metadata": {
    "execution": {
     "iopub.execute_input": "2021-07-30T17:51:00.118350Z",
     "iopub.status.busy": "2021-07-30T17:51:00.118350Z",
     "iopub.status.idle": "2021-07-30T17:51:00.133345Z",
     "shell.execute_reply": "2021-07-30T17:51:00.131890Z",
     "shell.execute_reply.started": "2021-07-30T17:51:00.118350Z"
    }
   },
   "outputs": [],
   "source": [
    "def abbreviate(s):\n",
    "    word = ''\n",
    "    final = ''\n",
    "    \n",
    "    for char in s:\n",
    "        # build up each word with only alpha chars\n",
    "        if char.isalpha():\n",
    "            word += char\n",
    "        # if reach a non-alpha\n",
    "        else:\n",
    "            # transform the word, add the non-alpha char, add to final\n",
    "            final += abbrev_one_word(word) + char\n",
    "            # reset the empty word\n",
    "            word = ''\n",
    "    # transform any last word, add to final\n",
    "    final += abbrev_one_word(word)\n",
    "    \n",
    "    return final\n",
    "    "
   ]
  },
  {
   "cell_type": "code",
   "execution_count": 28,
   "metadata": {
    "execution": {
     "iopub.execute_input": "2021-07-30T17:51:01.681378Z",
     "iopub.status.busy": "2021-07-30T17:51:01.681378Z",
     "iopub.status.idle": "2021-07-30T17:51:01.689381Z",
     "shell.execute_reply": "2021-07-30T17:51:01.688377Z",
     "shell.execute_reply.started": "2021-07-30T17:51:01.681378Z"
    }
   },
   "outputs": [
    {
     "data": {
      "text/plain": [
       "'e6t-r3s'"
      ]
     },
     "execution_count": 28,
     "metadata": {},
     "output_type": "execute_result"
    }
   ],
   "source": [
    "abbreviate(\"elephant-rides\")"
   ]
  },
  {
   "cell_type": "code",
   "execution_count": 9,
   "metadata": {
    "execution": {
     "iopub.execute_input": "2021-07-30T17:37:20.839902Z",
     "iopub.status.busy": "2021-07-30T17:37:20.839662Z",
     "iopub.status.idle": "2021-07-30T17:37:20.852663Z",
     "shell.execute_reply": "2021-07-30T17:37:20.851664Z",
     "shell.execute_reply.started": "2021-07-30T17:37:20.839902Z"
    }
   },
   "outputs": [
    {
     "data": {
      "text/plain": [
       "'h2o'"
      ]
     },
     "execution_count": 9,
     "metadata": {},
     "output_type": "execute_result"
    }
   ],
   "source": []
  },
  {
   "cell_type": "markdown",
   "metadata": {},
   "source": [
    "https://www.programmersought.com/article/14875549067/ "
   ]
  },
  {
   "cell_type": "code",
   "execution_count": 4,
   "metadata": {
    "execution": {
     "iopub.execute_input": "2021-07-30T17:33:09.141331Z",
     "iopub.status.busy": "2021-07-30T17:33:09.140336Z",
     "iopub.status.idle": "2021-07-30T17:33:09.151392Z",
     "shell.execute_reply": "2021-07-30T17:33:09.149385Z",
     "shell.execute_reply.started": "2021-07-30T17:33:09.141331Z"
    }
   },
   "outputs": [],
   "source": [
    "import re\n",
    "\n",
    "regex = re.compile('[a-z]{4,}', re.IGNORECASE)"
   ]
  },
  {
   "cell_type": "code",
   "execution_count": 5,
   "metadata": {
    "execution": {
     "iopub.execute_input": "2021-07-30T17:33:18.785291Z",
     "iopub.status.busy": "2021-07-30T17:33:18.784288Z",
     "iopub.status.idle": "2021-07-30T17:33:18.793285Z",
     "shell.execute_reply": "2021-07-30T17:33:18.791971Z",
     "shell.execute_reply.started": "2021-07-30T17:33:18.785291Z"
    }
   },
   "outputs": [
    {
     "data": {
      "text/plain": [
       "re.compile(r'[a-z]{4,}', re.IGNORECASE|re.UNICODE)"
      ]
     },
     "execution_count": 5,
     "metadata": {},
     "output_type": "execute_result"
    }
   ],
   "source": [
    "regex"
   ]
  },
  {
   "cell_type": "markdown",
   "metadata": {},
   "source": [
    "# Sum of integers in string - 7th\n",
    "\n",
    "Your task in this kata is to implement a function that calculates the sum of the integers inside a string. For example, in the string `The30quick20brown10f0x1203jumps914ov3r1349the102l4zy dog`, the sum of the integers is 3635."
   ]
  },
  {
   "cell_type": "code",
   "execution_count": 26,
   "metadata": {
    "execution": {
     "iopub.execute_input": "2021-07-28T19:01:26.504658Z",
     "iopub.status.busy": "2021-07-28T19:01:26.503656Z",
     "iopub.status.idle": "2021-07-28T19:01:26.513658Z",
     "shell.execute_reply": "2021-07-28T19:01:26.512658Z",
     "shell.execute_reply.started": "2021-07-28T19:01:26.504658Z"
    }
   },
   "outputs": [],
   "source": [
    "import re\n",
    "def sum_of_integers_in_string(s):\n",
    "    # findall - Find all substrings where the RE matches, and returns them as a list.\n",
    "    numbers_str = re.findall(r\"\\d+\", s)\n",
    "    numbers_int = [int(num) for num in numbers_str]\n",
    "    return sum(numbers_int)\n",
    "    "
   ]
  },
  {
   "cell_type": "code",
   "execution_count": 27,
   "metadata": {
    "execution": {
     "iopub.execute_input": "2021-07-28T19:01:27.216665Z",
     "iopub.status.busy": "2021-07-28T19:01:27.215658Z",
     "iopub.status.idle": "2021-07-28T19:01:27.235658Z",
     "shell.execute_reply": "2021-07-28T19:01:27.234656Z",
     "shell.execute_reply.started": "2021-07-28T19:01:27.216665Z"
    }
   },
   "outputs": [
    {
     "data": {
      "text/plain": [
       "579"
      ]
     },
     "execution_count": 27,
     "metadata": {},
     "output_type": "execute_result"
    }
   ],
   "source": [
    "sum_of_integers_in_string('abc123b456')"
   ]
  },
  {
   "cell_type": "code",
   "execution_count": null,
   "metadata": {},
   "outputs": [],
   "source": []
  },
  {
   "cell_type": "markdown",
   "metadata": {},
   "source": [
    "# Cost of my ride - 7th  \n",
    "\n",
    "Create a function, called insurance(), that computes the cost of renting a car. The function takes 3 arguments: the age of the renter, the size of the car, and the number days for the rental. The function should return an integer number of the calculated total cost of the rental.\n",
    "\n",
    "Age (integer) : There is a daily charge of $10 if the driver is under 25\n",
    "\n",
    "Car Size (string) : There may be an additional daily charge based on the car size:\n",
    "\n",
    "car size surcharge   \n",
    "- economy $0   \n",
    "- medium $10  \n",
    "- full-size $15\n",
    "\n",
    "Rental Days (integer) : There is a base daily charge of $50 for renting a car. Simply multiply the one day cost by the number of days the car is rented in order to get the full cost.\n",
    "\n",
    "Note: Negative rental days should return 0 cost. Any other car size NOT listed should come with a same surcharge as the \"full-size\", $15.\n",
    "```\n",
    "insurance(18, \"medium\", 7); // => 490\n",
    "insurance(30,\"full-size\",30); // => 1950\n",
    "insurance(21,\"economy\",-10); // => 0\n",
    "insurance(42,\"my custom car\",7); // => 455\n",
    "```"
   ]
  },
  {
   "cell_type": "code",
   "execution_count": 11,
   "metadata": {
    "execution": {
     "iopub.execute_input": "2021-07-20T20:39:32.879548Z",
     "iopub.status.busy": "2021-07-20T20:39:32.879548Z",
     "iopub.status.idle": "2021-07-20T20:39:32.888548Z",
     "shell.execute_reply": "2021-07-20T20:39:32.887547Z",
     "shell.execute_reply.started": "2021-07-20T20:39:32.879548Z"
    }
   },
   "outputs": [],
   "source": [
    "def insurance(age, size, num_of_days): \n",
    "    if num_of_days < 0: return 0\n",
    "\n",
    "    cost = num_of_days * 50\n",
    "    if age < 25:\n",
    "        cost += (10 * num_of_days)\n",
    "    \n",
    "    if size == 'medium': \n",
    "        cost += (10 * num_of_days)\n",
    "    elif size == 'economy':\n",
    "        cost += 0\n",
    "    else:\n",
    "        cost += (15 * num_of_days)\n",
    "    \n",
    "    return cost"
   ]
  },
  {
   "cell_type": "code",
   "execution_count": 6,
   "metadata": {
    "execution": {
     "iopub.execute_input": "2021-07-20T20:37:46.988262Z",
     "iopub.status.busy": "2021-07-20T20:37:46.987262Z",
     "iopub.status.idle": "2021-07-20T20:37:47.009262Z",
     "shell.execute_reply": "2021-07-20T20:37:47.008264Z",
     "shell.execute_reply.started": "2021-07-20T20:37:46.987262Z"
    }
   },
   "outputs": [
    {
     "data": {
      "text/plain": [
       "490"
      ]
     },
     "execution_count": 6,
     "metadata": {},
     "output_type": "execute_result"
    }
   ],
   "source": [
    "insurance(18, \"medium\", 7)"
   ]
  },
  {
   "cell_type": "code",
   "execution_count": 7,
   "metadata": {
    "execution": {
     "iopub.execute_input": "2021-07-20T20:37:56.448360Z",
     "iopub.status.busy": "2021-07-20T20:37:56.448360Z",
     "iopub.status.idle": "2021-07-20T20:37:56.470361Z",
     "shell.execute_reply": "2021-07-20T20:37:56.469359Z",
     "shell.execute_reply.started": "2021-07-20T20:37:56.448360Z"
    }
   },
   "outputs": [
    {
     "data": {
      "text/plain": [
       "1950"
      ]
     },
     "execution_count": 7,
     "metadata": {},
     "output_type": "execute_result"
    }
   ],
   "source": [
    "insurance(30,\"full-size\",30)"
   ]
  },
  {
   "cell_type": "code",
   "execution_count": 10,
   "metadata": {
    "execution": {
     "iopub.execute_input": "2021-07-20T20:39:25.151551Z",
     "iopub.status.busy": "2021-07-20T20:39:25.151551Z",
     "iopub.status.idle": "2021-07-20T20:39:25.172547Z",
     "shell.execute_reply": "2021-07-20T20:39:25.171583Z",
     "shell.execute_reply.started": "2021-07-20T20:39:25.151551Z"
    }
   },
   "outputs": [
    {
     "data": {
      "text/plain": [
       "0"
      ]
     },
     "execution_count": 10,
     "metadata": {},
     "output_type": "execute_result"
    }
   ],
   "source": [
    "insurance(21,\"economy\",-10)"
   ]
  },
  {
   "cell_type": "code",
   "execution_count": 12,
   "metadata": {
    "execution": {
     "iopub.execute_input": "2021-07-20T20:39:46.591369Z",
     "iopub.status.busy": "2021-07-20T20:39:46.591369Z",
     "iopub.status.idle": "2021-07-20T20:39:46.610367Z",
     "shell.execute_reply": "2021-07-20T20:39:46.609402Z",
     "shell.execute_reply.started": "2021-07-20T20:39:46.591369Z"
    }
   },
   "outputs": [
    {
     "data": {
      "text/plain": [
       "455"
      ]
     },
     "execution_count": 12,
     "metadata": {},
     "output_type": "execute_result"
    }
   ],
   "source": [
    "insurance(42,\"my custom car\",7)"
   ]
  },
  {
   "cell_type": "code",
   "execution_count": null,
   "metadata": {},
   "outputs": [],
   "source": []
  },
  {
   "cell_type": "markdown",
   "metadata": {},
   "source": [
    "# Consecutive Strings - 6th\n",
    "\n",
    "You are given an array(list) `strarr` of strings and an integer `k`. Your task is to return the first longest string consisting of `k` consecutive strings taken in the array.  \n",
    "\n",
    "```\n",
    "strarr = [\"tree\", \"foling\", \"trashy\", \"blue\", \"abcdef\", \"uvwxyz\"], k = 2\n",
    "```\n",
    "\n",
    "Concatenate the consecutive strings of strarr by 2, we get:\n",
    "```\n",
    "treefoling   (length 10)  concatenation of strarr[0] and strarr[1]\n",
    "folingtrashy (\"      12)  concatenation of strarr[1] and strarr[2]\n",
    "trashyblue   (\"      10)  concatenation of strarr[2] and strarr[3]\n",
    "blueabcdef   (\"      10)  concatenation of strarr[3] and strarr[4]\n",
    "abcdefuvwxyz (\"      12)  concatenation of strarr[4] and strarr[5]\n",
    "```\n",
    "Two strings are the longest: \"folingtrashy\" and \"abcdefuvwxyz\".\n",
    "The first that came is \"folingtrashy\" so \n",
    "`longest_consec(strarr, 2)` should return \"folingtrashy\".\n",
    "\n",
    "In the same way:\n",
    "```\n",
    "longest_consec([\"zone\", \"abigail\", \"theta\", \"form\", \"libe\", \"zas\", \"theta\", \"abigail\"], 2) --> \"abigailtheta\"\n",
    "n being the length of the string array, if n = 0 or k > n or k <= 0 return \"\".\n",
    "```"
   ]
  },
  {
   "cell_type": "markdown",
   "metadata": {},
   "source": [
    "**My solution**"
   ]
  },
  {
   "cell_type": "code",
   "execution_count": 15,
   "metadata": {
    "execution": {
     "iopub.execute_input": "2021-07-19T18:09:35.834911Z",
     "iopub.status.busy": "2021-07-19T18:09:35.834911Z",
     "iopub.status.idle": "2021-07-19T18:09:35.852910Z",
     "shell.execute_reply": "2021-07-19T18:09:35.851910Z",
     "shell.execute_reply.started": "2021-07-19T18:09:35.834911Z"
    }
   },
   "outputs": [],
   "source": [
    "def longest_consec(strarr, k):\n",
    "    # return an empty string for outliers\n",
    "    if strarr==[] or k==0 or k > len(strarr): return ''\n",
    "    \n",
    "    # instantiate empty list to hold all concatenated words\n",
    "    concatenated_words = []\n",
    "    \n",
    "    # make iterating variables depend on value for k \n",
    "    loop_length = len(strarr) - (k - 1)\n",
    "    indices = list(range(k))\n",
    "    \n",
    "    # add concentated words to list\n",
    "    for i in range(loop_length):\n",
    "        new_word = \"\"\n",
    "        for j in indices:\n",
    "            new_word += strarr[i+j]\n",
    "        concatenated_words.append(new_word)\n",
    "    \n",
    "    # figure out which word is longest\n",
    "    # instatiate variable\n",
    "    final_concat_word = \"\"\n",
    "\n",
    "    # create q to (list length - 1) for iterating through list backwards  \n",
    "    q = len(concatenated_words) - 1\n",
    "    \n",
    "    # iterate through list backwards, each time replacing with longest word\n",
    "    while q >= 0:\n",
    "        for word in concatenated_words:\n",
    "            if len(word) > len(final_concat_word):\n",
    "                final_concat_word = word\n",
    "        q -= 1\n",
    "    \n",
    "    return final_concat_word"
   ]
  },
  {
   "cell_type": "code",
   "execution_count": 50,
   "metadata": {
    "execution": {
     "iopub.execute_input": "2021-07-18T20:20:03.105158Z",
     "iopub.status.busy": "2021-07-18T20:20:03.104157Z",
     "iopub.status.idle": "2021-07-18T20:20:03.125157Z",
     "shell.execute_reply": "2021-07-18T20:20:03.124193Z",
     "shell.execute_reply.started": "2021-07-18T20:20:03.105158Z"
    }
   },
   "outputs": [],
   "source": [
    "# here I'm trying out k = 2\n",
    "\n",
    "def longest_consec(strarr, k):\n",
    "    concatenated_words = []\n",
    "    \n",
    "    loop_length = len(strarr) - 1\n",
    "    for i in range(loop_length):\n",
    "        concatenated_words.append(strarr[i] + strarr[i + 1])\n",
    "    concatenated_words.reverse()\n",
    "    print(concatenated_words)\n",
    "    \n",
    "    final_concat_word = concatenated_words[0]\n",
    "\n",
    "    for word in concatenated_words[1:]:\n",
    "        print(word)\n",
    "        if len(word) > len(final_concat_word):\n",
    "            final_concat_word = word\n",
    "    \n",
    "    return final_concat_word\n",
    "\n",
    "    "
   ]
  },
  {
   "cell_type": "code",
   "execution_count": 51,
   "metadata": {
    "execution": {
     "iopub.execute_input": "2021-07-18T20:20:04.168610Z",
     "iopub.status.busy": "2021-07-18T20:20:04.167608Z",
     "iopub.status.idle": "2021-07-18T20:20:04.182610Z",
     "shell.execute_reply": "2021-07-18T20:20:04.181611Z",
     "shell.execute_reply.started": "2021-07-18T20:20:04.168610Z"
    }
   },
   "outputs": [
    {
     "name": "stdout",
     "output_type": "stream",
     "text": [
      "['libezas', 'formlibe', 'thetaform', 'abigailtheta', 'zoneabigail']\n",
      "formlibe\n",
      "thetaform\n",
      "abigailtheta\n",
      "zoneabigail\n"
     ]
    },
    {
     "data": {
      "text/plain": [
       "'abigailtheta'"
      ]
     },
     "execution_count": 51,
     "metadata": {},
     "output_type": "execute_result"
    }
   ],
   "source": [
    "longest_consec([\"zone\", \"abigail\", \"theta\", \"form\", \"libe\", \"zas\"], 2)"
   ]
  },
  {
   "cell_type": "code",
   "execution_count": 56,
   "metadata": {
    "execution": {
     "iopub.execute_input": "2021-07-18T20:30:52.437295Z",
     "iopub.status.busy": "2021-07-18T20:30:52.437295Z",
     "iopub.status.idle": "2021-07-18T20:30:52.461293Z",
     "shell.execute_reply": "2021-07-18T20:30:52.460290Z",
     "shell.execute_reply.started": "2021-07-18T20:30:52.437295Z"
    }
   },
   "outputs": [],
   "source": [
    "# here I'm trying out k = 3\n",
    "\n",
    "def longest_consec(strarr, k):\n",
    "    concatenated_words = []\n",
    "    \n",
    "    loop_length = len(strarr) - 2\n",
    "    for i in range(loop_length):\n",
    "        concatenated_words.append(strarr[i] + strarr[i + 1] + strarr[i + 2])\n",
    "    concatenated_words.reverse()\n",
    "    print(concatenated_words)\n",
    "    \n",
    "    final_concat_word = concatenated_words[0]\n",
    "\n",
    "    for word in concatenated_words[1:]:\n",
    "        if len(word) > len(final_concat_word):\n",
    "            final_concat_word = word\n",
    "    \n",
    "    return final_concat_word\n"
   ]
  },
  {
   "cell_type": "code",
   "execution_count": 57,
   "metadata": {
    "execution": {
     "iopub.execute_input": "2021-07-18T20:30:53.018331Z",
     "iopub.status.busy": "2021-07-18T20:30:53.017332Z",
     "iopub.status.idle": "2021-07-18T20:30:53.033295Z",
     "shell.execute_reply": "2021-07-18T20:30:53.032292Z",
     "shell.execute_reply.started": "2021-07-18T20:30:53.018331Z"
    }
   },
   "outputs": [
    {
     "name": "stdout",
     "output_type": "stream",
     "text": [
      "['formlibezas', 'thetaformlibe', 'abigailthetaform', 'zoneabigailtheta']\n"
     ]
    },
    {
     "data": {
      "text/plain": [
       "'abigailthetaform'"
      ]
     },
     "execution_count": 57,
     "metadata": {},
     "output_type": "execute_result"
    }
   ],
   "source": [
    "longest_consec([\"zone\", \"abigail\", \"theta\", \"form\", \"libe\", \"zas\"], 2)"
   ]
  },
  {
   "cell_type": "code",
   "execution_count": 78,
   "metadata": {
    "execution": {
     "iopub.execute_input": "2021-07-18T20:55:31.607613Z",
     "iopub.status.busy": "2021-07-18T20:55:31.606616Z",
     "iopub.status.idle": "2021-07-18T20:55:31.630618Z",
     "shell.execute_reply": "2021-07-18T20:55:31.629613Z",
     "shell.execute_reply.started": "2021-07-18T20:55:31.607613Z"
    }
   },
   "outputs": [],
   "source": [
    "\n",
    "def longest_consec(strarr, k):\n",
    "    if strarr==[] or k==0 or k > len(strarr): return ''\n",
    "    concatenated_words = []\n",
    "    \n",
    "    loop_length = len(strarr) - (k - 1)\n",
    "    indices = list(range(k))\n",
    "    \n",
    "    for i in range(loop_length):\n",
    "        new_word = \"\"\n",
    "        for j in indices:\n",
    "            new_word += strarr[i+j]\n",
    "        concatenated_words.append(new_word)\n",
    "    concatenated_words.reverse()\n",
    "    \n",
    "    final_concat_word = concatenated_words[0]\n",
    "\n",
    "    for word in concatenated_words[1:]:\n",
    "        if len(word) > len(final_concat_word):\n",
    "            final_concat_word = word\n",
    "    \n",
    "    return final_concat_word\n"
   ]
  },
  {
   "cell_type": "code",
   "execution_count": 76,
   "metadata": {
    "execution": {
     "iopub.execute_input": "2021-07-18T20:53:43.706670Z",
     "iopub.status.busy": "2021-07-18T20:53:43.705669Z",
     "iopub.status.idle": "2021-07-18T20:53:43.725670Z",
     "shell.execute_reply": "2021-07-18T20:53:43.724669Z",
     "shell.execute_reply.started": "2021-07-18T20:53:43.706670Z"
    }
   },
   "outputs": [
    {
     "name": "stdout",
     "output_type": "stream",
     "text": [
      "['formlibezas', 'thetaformlibe', 'abigailthetaform', 'zoneabigailtheta']\n"
     ]
    },
    {
     "data": {
      "text/plain": [
       "'abigailthetaform'"
      ]
     },
     "execution_count": 76,
     "metadata": {},
     "output_type": "execute_result"
    }
   ],
   "source": [
    "longest_consec([\"zone\", \"abigail\", \"theta\", \"form\", \"libe\", \"zas\"], 3)"
   ]
  },
  {
   "cell_type": "code",
   "execution_count": 16,
   "metadata": {
    "execution": {
     "iopub.execute_input": "2021-07-19T18:09:36.590910Z",
     "iopub.status.busy": "2021-07-19T18:09:36.589912Z",
     "iopub.status.idle": "2021-07-19T18:09:36.616910Z",
     "shell.execute_reply": "2021-07-19T18:09:36.614910Z",
     "shell.execute_reply.started": "2021-07-19T18:09:36.590910Z"
    }
   },
   "outputs": [
    {
     "data": {
      "text/plain": [
       "'abigailtheta'"
      ]
     },
     "execution_count": 16,
     "metadata": {},
     "output_type": "execute_result"
    }
   ],
   "source": [
    "longest_consec([\"zone\", \"abigail\", \"theta\", \"form\", \"libe\", \"zas\"], 2)"
   ]
  },
  {
   "cell_type": "code",
   "execution_count": 17,
   "metadata": {
    "execution": {
     "iopub.execute_input": "2021-07-19T18:17:43.461962Z",
     "iopub.status.busy": "2021-07-19T18:17:43.457961Z",
     "iopub.status.idle": "2021-07-19T18:17:43.517962Z",
     "shell.execute_reply": "2021-07-19T18:17:43.514963Z",
     "shell.execute_reply.started": "2021-07-19T18:17:43.460958Z"
    }
   },
   "outputs": [],
   "source": [
    "test = [0, 1, 2, 3, 4, 5]"
   ]
  },
  {
   "cell_type": "code",
   "execution_count": 18,
   "metadata": {
    "execution": {
     "iopub.execute_input": "2021-07-19T18:17:48.538962Z",
     "iopub.status.busy": "2021-07-19T18:17:48.537963Z",
     "iopub.status.idle": "2021-07-19T18:17:48.557962Z",
     "shell.execute_reply": "2021-07-19T18:17:48.556962Z",
     "shell.execute_reply.started": "2021-07-19T18:17:48.538962Z"
    }
   },
   "outputs": [
    {
     "data": {
      "text/plain": [
       "6"
      ]
     },
     "execution_count": 18,
     "metadata": {},
     "output_type": "execute_result"
    }
   ],
   "source": [
    "len(test)"
   ]
  },
  {
   "cell_type": "code",
   "execution_count": null,
   "metadata": {},
   "outputs": [],
   "source": []
  },
  {
   "cell_type": "markdown",
   "metadata": {},
   "source": [
    "# Count the divisors of a number - 7th\n",
    "Count the number of divisors of a positive integer `n`.\n",
    "\n",
    "Random tests go up to `n = 500000`.\n",
    "\n",
    "Examples:\n",
    "```\n",
    "divisors(4)  == 3  # 1, 2, 4\n",
    "divisors(5)  == 2  # 1, 5\n",
    "divisors(12) == 6  # 1, 2, 3, 4, 6, 12\n",
    "divisors(30) == 8  # 1, 2, 3, 5, 6, 10, 15, 30\n",
    "```\n"
   ]
  },
  {
   "cell_type": "code",
   "execution_count": 20,
   "metadata": {
    "execution": {
     "iopub.execute_input": "2021-07-16T18:38:21.832562Z",
     "iopub.status.busy": "2021-07-16T18:38:21.831560Z",
     "iopub.status.idle": "2021-07-16T18:38:21.848563Z",
     "shell.execute_reply": "2021-07-16T18:38:21.847562Z",
     "shell.execute_reply.started": "2021-07-16T18:38:21.831560Z"
    }
   },
   "outputs": [],
   "source": [
    "def divisors(n):\n",
    "    divisor = 1\n",
    "    counter = 0\n",
    "    while divisor <= n:\n",
    "        if n % divisor == 0:\n",
    "            counter += 1\n",
    "        divisor += 1\n",
    "    return counter\n",
    "        \n",
    "    "
   ]
  },
  {
   "cell_type": "code",
   "execution_count": 21,
   "metadata": {
    "execution": {
     "iopub.execute_input": "2021-07-16T18:38:23.161558Z",
     "iopub.status.busy": "2021-07-16T18:38:23.161558Z",
     "iopub.status.idle": "2021-07-16T18:38:23.183558Z",
     "shell.execute_reply": "2021-07-16T18:38:23.182557Z",
     "shell.execute_reply.started": "2021-07-16T18:38:23.161558Z"
    }
   },
   "outputs": [
    {
     "data": {
      "text/plain": [
       "3"
      ]
     },
     "execution_count": 21,
     "metadata": {},
     "output_type": "execute_result"
    }
   ],
   "source": [
    "divisors(9)"
   ]
  },
  {
   "cell_type": "code",
   "execution_count": 5,
   "metadata": {
    "execution": {
     "iopub.execute_input": "2021-07-16T18:33:11.167284Z",
     "iopub.status.busy": "2021-07-16T18:33:11.166278Z",
     "iopub.status.idle": "2021-07-16T18:33:11.179283Z",
     "shell.execute_reply": "2021-07-16T18:33:11.177291Z",
     "shell.execute_reply.started": "2021-07-16T18:33:11.167284Z"
    }
   },
   "outputs": [
    {
     "data": {
      "text/plain": [
       "8.571428571428571"
      ]
     },
     "execution_count": 5,
     "metadata": {},
     "output_type": "execute_result"
    }
   ],
   "source": [
    "60/7"
   ]
  },
  {
   "cell_type": "code",
   "execution_count": null,
   "metadata": {},
   "outputs": [],
   "source": []
  },
  {
   "cell_type": "code",
   "execution_count": null,
   "metadata": {},
   "outputs": [],
   "source": []
  },
  {
   "cell_type": "markdown",
   "metadata": {},
   "source": [
    "# Blog - Various ways to count characters in string "
   ]
  },
  {
   "cell_type": "code",
   "execution_count": 22,
   "metadata": {
    "execution": {
     "iopub.execute_input": "2021-07-15T21:37:10.630570Z",
     "iopub.status.busy": "2021-07-15T21:37:10.629573Z",
     "iopub.status.idle": "2021-07-15T21:37:10.638884Z",
     "shell.execute_reply": "2021-07-15T21:37:10.636882Z",
     "shell.execute_reply.started": "2021-07-15T21:37:10.630570Z"
    }
   },
   "outputs": [],
   "source": [
    "from collections import Counter\n",
    "def count(string):\n",
    "    return dict(Counter(string))"
   ]
  },
  {
   "cell_type": "code",
   "execution_count": 7,
   "metadata": {
    "execution": {
     "iopub.execute_input": "2021-07-15T21:28:51.303225Z",
     "iopub.status.busy": "2021-07-15T21:28:51.303225Z",
     "iopub.status.idle": "2021-07-15T21:28:51.322219Z",
     "shell.execute_reply": "2021-07-15T21:28:51.320227Z",
     "shell.execute_reply.started": "2021-07-15T21:28:51.303225Z"
    }
   },
   "outputs": [
    {
     "data": {
      "text/plain": [
       "{'B': 2, 'c': 5, 'R': 2, 'm': 3}"
      ]
     },
     "execution_count": 7,
     "metadata": {},
     "output_type": "execute_result"
    }
   ],
   "source": [
    "count('BcRmmBcmRccc')"
   ]
  },
  {
   "cell_type": "code",
   "execution_count": 23,
   "metadata": {
    "execution": {
     "iopub.execute_input": "2021-07-15T21:37:13.292833Z",
     "iopub.status.busy": "2021-07-15T21:37:13.291833Z",
     "iopub.status.idle": "2021-07-15T21:37:13.309831Z",
     "shell.execute_reply": "2021-07-15T21:37:13.308830Z",
     "shell.execute_reply.started": "2021-07-15T21:37:13.292833Z"
    }
   },
   "outputs": [
    {
     "data": {
      "text/plain": [
       "{'pear': 3, 'apple': 2, 'orange': 1}"
      ]
     },
     "execution_count": 23,
     "metadata": {},
     "output_type": "execute_result"
    }
   ],
   "source": [
    "count(['pear', 'pear', 'apple', 'pear', 'orange', 'apple'])"
   ]
  },
  {
   "cell_type": "code",
   "execution_count": 20,
   "metadata": {
    "execution": {
     "iopub.execute_input": "2021-07-15T21:35:13.011724Z",
     "iopub.status.busy": "2021-07-15T21:35:13.010725Z",
     "iopub.status.idle": "2021-07-15T21:35:13.032724Z",
     "shell.execute_reply": "2021-07-15T21:35:13.031725Z",
     "shell.execute_reply.started": "2021-07-15T21:35:13.011724Z"
    }
   },
   "outputs": [],
   "source": [
    "def count(string):\n",
    "    counted = {}\n",
    "    \n",
    "    # loop through the string\n",
    "    for i in string:\n",
    "        # if the key is not already in the dictionary, instatiate it with value of 1\n",
    "        if i not in counted:\n",
    "            counted[i] = 1\n",
    "        # else create add 1 to the value\n",
    "        else:\n",
    "            counted[i] += 1\n",
    "    \n",
    "    return counted"
   ]
  },
  {
   "cell_type": "code",
   "execution_count": 21,
   "metadata": {
    "execution": {
     "iopub.execute_input": "2021-07-15T21:35:20.005339Z",
     "iopub.status.busy": "2021-07-15T21:35:20.005339Z",
     "iopub.status.idle": "2021-07-15T21:35:20.019334Z",
     "shell.execute_reply": "2021-07-15T21:35:20.018336Z",
     "shell.execute_reply.started": "2021-07-15T21:35:20.005339Z"
    }
   },
   "outputs": [
    {
     "data": {
      "text/plain": [
       "{'B': 2, 'c': 5, 'R': 2, 'm': 3}"
      ]
     },
     "execution_count": 21,
     "metadata": {},
     "output_type": "execute_result"
    }
   ],
   "source": [
    "count('BcRmmBcmRccc')"
   ]
  },
  {
   "cell_type": "code",
   "execution_count": 6,
   "metadata": {
    "execution": {
     "iopub.execute_input": "2021-07-15T21:28:44.762948Z",
     "iopub.status.busy": "2021-07-15T21:28:44.761949Z",
     "iopub.status.idle": "2021-07-15T21:28:44.783955Z",
     "shell.execute_reply": "2021-07-15T21:28:44.781960Z",
     "shell.execute_reply.started": "2021-07-15T21:28:44.762948Z"
    }
   },
   "outputs": [],
   "source": [
    "def count(string):\n",
    "    return {x:string.count(x) for x in string}"
   ]
  },
  {
   "cell_type": "code",
   "execution_count": 10,
   "metadata": {
    "execution": {
     "iopub.execute_input": "2021-07-15T21:29:54.682453Z",
     "iopub.status.busy": "2021-07-15T21:29:54.682453Z",
     "iopub.status.idle": "2021-07-15T21:29:54.698417Z",
     "shell.execute_reply": "2021-07-15T21:29:54.697420Z",
     "shell.execute_reply.started": "2021-07-15T21:29:54.682453Z"
    }
   },
   "outputs": [],
   "source": [
    "def count(string):\n",
    "    counted = {}\n",
    "    for i in string:\n",
    "        counted[i] = counted.setdefault(i, 0) + 1\n",
    "    return counted"
   ]
  },
  {
   "cell_type": "code",
   "execution_count": 18,
   "metadata": {
    "execution": {
     "iopub.execute_input": "2021-07-15T21:33:35.909749Z",
     "iopub.status.busy": "2021-07-15T21:33:35.909749Z",
     "iopub.status.idle": "2021-07-15T21:33:35.922762Z",
     "shell.execute_reply": "2021-07-15T21:33:35.921754Z",
     "shell.execute_reply.started": "2021-07-15T21:33:35.909749Z"
    }
   },
   "outputs": [],
   "source": [
    "def count(string):\n",
    "    counted = {}\n",
    "    for i in string:\n",
    "        counted[i] = counted.get(i, 0) + 1\n",
    "    return counted"
   ]
  },
  {
   "cell_type": "code",
   "execution_count": 19,
   "metadata": {
    "execution": {
     "iopub.execute_input": "2021-07-15T21:33:36.748759Z",
     "iopub.status.busy": "2021-07-15T21:33:36.747752Z",
     "iopub.status.idle": "2021-07-15T21:33:36.758747Z",
     "shell.execute_reply": "2021-07-15T21:33:36.756749Z",
     "shell.execute_reply.started": "2021-07-15T21:33:36.748759Z"
    }
   },
   "outputs": [
    {
     "data": {
      "text/plain": [
       "{'B': 2, 'c': 5, 'R': 2, 'm': 3}"
      ]
     },
     "execution_count": 19,
     "metadata": {},
     "output_type": "execute_result"
    }
   ],
   "source": [
    "count('BcRmmBcmRccc')"
   ]
  },
  {
   "cell_type": "code",
   "execution_count": 13,
   "metadata": {
    "execution": {
     "iopub.execute_input": "2021-07-15T21:30:55.736037Z",
     "iopub.status.busy": "2021-07-15T21:30:55.735039Z",
     "iopub.status.idle": "2021-07-15T21:30:55.752036Z",
     "shell.execute_reply": "2021-07-15T21:30:55.751036Z",
     "shell.execute_reply.started": "2021-07-15T21:30:55.736037Z"
    }
   },
   "outputs": [
    {
     "data": {
      "text/plain": [
       "{'B': 2, 'c': 5, 'R': 2, 'm': 3}"
      ]
     },
     "execution_count": 13,
     "metadata": {},
     "output_type": "execute_result"
    }
   ],
   "source": [
    "count('BcRmmBcmRccc')"
   ]
  },
  {
   "cell_type": "code",
   "execution_count": 15,
   "metadata": {
    "execution": {
     "iopub.execute_input": "2021-07-15T21:31:52.530924Z",
     "iopub.status.busy": "2021-07-15T21:31:52.529943Z",
     "iopub.status.idle": "2021-07-15T21:31:52.545925Z",
     "shell.execute_reply": "2021-07-15T21:31:52.544919Z",
     "shell.execute_reply.started": "2021-07-15T21:31:52.530924Z"
    }
   },
   "outputs": [
    {
     "data": {
      "text/plain": [
       "{'B': 2, 'c': 5, 'R': 2, 'm': 3}"
      ]
     },
     "execution_count": 15,
     "metadata": {},
     "output_type": "execute_result"
    }
   ],
   "source": [
    "count('BcRmmBcmRccc')"
   ]
  },
  {
   "cell_type": "markdown",
   "metadata": {},
   "source": [
    "# Count characters in your string - 6th\n",
    " The main idea is to count all the occurring characters in a string. If you have a string like `aba`, then the result should be `{'a': 2, 'b': 1}`.\n",
    "\n",
    "What if the string is empty? Then the result should be empty object literal, {}."
   ]
  },
  {
   "cell_type": "code",
   "execution_count": 54,
   "metadata": {
    "execution": {
     "iopub.execute_input": "2021-07-14T17:41:10.526212Z",
     "iopub.status.busy": "2021-07-14T17:41:10.526212Z",
     "iopub.status.idle": "2021-07-14T17:41:10.536210Z",
     "shell.execute_reply": "2021-07-14T17:41:10.535210Z",
     "shell.execute_reply.started": "2021-07-14T17:41:10.526212Z"
    }
   },
   "outputs": [],
   "source": [
    "def count(string):\n",
    "    counted = {}\n",
    "    \n",
    "    # loop through the string\n",
    "    for i in string:\n",
    "        # if the key is already in the dictionary, add 1 to value\n",
    "        if i in counted:\n",
    "            counted[i] += 1\n",
    "        # else create the key with value of 1\n",
    "        else:\n",
    "            counted[i] = 1\n",
    "    \n",
    "    return counted"
   ]
  },
  {
   "cell_type": "code",
   "execution_count": 55,
   "metadata": {
    "execution": {
     "iopub.execute_input": "2021-07-14T17:41:11.336210Z",
     "iopub.status.busy": "2021-07-14T17:41:11.336210Z",
     "iopub.status.idle": "2021-07-14T17:41:11.356210Z",
     "shell.execute_reply": "2021-07-14T17:41:11.355210Z",
     "shell.execute_reply.started": "2021-07-14T17:41:11.336210Z"
    }
   },
   "outputs": [
    {
     "data": {
      "text/plain": [
       "{'b': 1, 'H': 1, 'e': 1, 'G': 1, 'F': 2}"
      ]
     },
     "execution_count": 55,
     "metadata": {},
     "output_type": "execute_result"
    }
   ],
   "source": [
    "count('bHeGFF')"
   ]
  },
  {
   "cell_type": "code",
   "execution_count": 58,
   "metadata": {
    "execution": {
     "iopub.execute_input": "2021-07-14T17:42:15.666390Z",
     "iopub.status.busy": "2021-07-14T17:42:15.666390Z",
     "iopub.status.idle": "2021-07-14T17:42:15.684389Z",
     "shell.execute_reply": "2021-07-14T17:42:15.683390Z",
     "shell.execute_reply.started": "2021-07-14T17:42:15.666390Z"
    }
   },
   "outputs": [
    {
     "data": {
      "text/plain": [
       "2"
      ]
     },
     "execution_count": 58,
     "metadata": {},
     "output_type": "execute_result"
    }
   ],
   "source": [
    "counted = {'b': 1, 'H': 1, 'e': 1, 'G': 1, 'F': 2}\n",
    "counted['F']"
   ]
  },
  {
   "cell_type": "code",
   "execution_count": 40,
   "metadata": {
    "execution": {
     "iopub.execute_input": "2021-07-14T17:29:11.698029Z",
     "iopub.status.busy": "2021-07-14T17:29:11.697030Z",
     "iopub.status.idle": "2021-07-14T17:29:11.707031Z",
     "shell.execute_reply": "2021-07-14T17:29:11.705029Z",
     "shell.execute_reply.started": "2021-07-14T17:29:11.698029Z"
    }
   },
   "outputs": [],
   "source": [
    "def count(string):\n",
    "    unique_letters = []\n",
    "    values = []\n",
    "    \n",
    "    for i in list(string):\n",
    "        if i not in unique_letters:\n",
    "            unique_letters.append(i)\n",
    "        values.append(string.count(i))\n",
    "    \n",
    "    values = values[:len(unique_letters)]\n",
    "    return dict(zip(unique_letters, values))\n",
    "#     return unique_letters, values"
   ]
  },
  {
   "cell_type": "code",
   "execution_count": 46,
   "metadata": {
    "execution": {
     "iopub.execute_input": "2021-07-14T17:33:33.241925Z",
     "iopub.status.busy": "2021-07-14T17:33:33.241925Z",
     "iopub.status.idle": "2021-07-14T17:33:33.255923Z",
     "shell.execute_reply": "2021-07-14T17:33:33.254925Z",
     "shell.execute_reply.started": "2021-07-14T17:33:33.241925Z"
    }
   },
   "outputs": [],
   "source": [
    "def count(string):\n",
    "    return {x:string.count(x) for x in string}"
   ]
  },
  {
   "cell_type": "code",
   "execution_count": 47,
   "metadata": {
    "execution": {
     "iopub.execute_input": "2021-07-14T17:33:33.915926Z",
     "iopub.status.busy": "2021-07-14T17:33:33.914926Z",
     "iopub.status.idle": "2021-07-14T17:33:33.933928Z",
     "shell.execute_reply": "2021-07-14T17:33:33.932930Z",
     "shell.execute_reply.started": "2021-07-14T17:33:33.915926Z"
    }
   },
   "outputs": [
    {
     "data": {
      "text/plain": [
       "{'b': 1, 'H': 1, 'e': 1, 'G': 1, 'F': 2}"
      ]
     },
     "execution_count": 47,
     "metadata": {},
     "output_type": "execute_result"
    }
   ],
   "source": [
    "count('bHeGFF')"
   ]
  },
  {
   "cell_type": "code",
   "execution_count": 2,
   "metadata": {
    "execution": {
     "iopub.execute_input": "2021-07-14T19:01:59.900484Z",
     "iopub.status.busy": "2021-07-14T19:01:59.900484Z",
     "iopub.status.idle": "2021-07-14T19:01:59.915487Z",
     "shell.execute_reply": "2021-07-14T19:01:59.914511Z",
     "shell.execute_reply.started": "2021-07-14T19:01:59.900484Z"
    }
   },
   "outputs": [],
   "source": [
    "from collections import Counter\n",
    "def count(string):\n",
    "    return Counter(string)"
   ]
  },
  {
   "cell_type": "code",
   "execution_count": 6,
   "metadata": {
    "execution": {
     "iopub.execute_input": "2021-07-14T19:02:53.359257Z",
     "iopub.status.busy": "2021-07-14T19:02:53.358258Z",
     "iopub.status.idle": "2021-07-14T19:02:53.373256Z",
     "shell.execute_reply": "2021-07-14T19:02:53.372255Z",
     "shell.execute_reply.started": "2021-07-14T19:02:53.359257Z"
    }
   },
   "outputs": [
    {
     "data": {
      "text/plain": [
       "{'j': 3, 'f': 2, 'e': 2, 'w': 1, 'i': 1, 'o': 1}"
      ]
     },
     "execution_count": 6,
     "metadata": {},
     "output_type": "execute_result"
    }
   ],
   "source": [
    "dict(count('jfewiojefj'))"
   ]
  },
  {
   "cell_type": "code",
   "execution_count": 29,
   "metadata": {
    "execution": {
     "iopub.execute_input": "2021-07-14T19:05:55.230845Z",
     "iopub.status.busy": "2021-07-14T19:05:55.230845Z",
     "iopub.status.idle": "2021-07-14T19:05:55.239839Z",
     "shell.execute_reply": "2021-07-14T19:05:55.238839Z",
     "shell.execute_reply.started": "2021-07-14T19:05:55.230845Z"
    }
   },
   "outputs": [],
   "source": [
    "def count(string):\n",
    "    counting = dict()\n",
    "    for i in string:\n",
    "      counting[i] = counting.get(i, 0) + 1\n",
    "    return counting"
   ]
  },
  {
   "cell_type": "code",
   "execution_count": 30,
   "metadata": {
    "execution": {
     "iopub.execute_input": "2021-07-14T19:05:55.975468Z",
     "iopub.status.busy": "2021-07-14T19:05:55.975468Z",
     "iopub.status.idle": "2021-07-14T19:05:55.983470Z",
     "shell.execute_reply": "2021-07-14T19:05:55.982469Z",
     "shell.execute_reply.started": "2021-07-14T19:05:55.975468Z"
    }
   },
   "outputs": [
    {
     "data": {
      "text/plain": [
       "{'a': 4, 'b': 2, 'c': 2}"
      ]
     },
     "execution_count": 30,
     "metadata": {},
     "output_type": "execute_result"
    }
   ],
   "source": [
    "count('aabbccaa')"
   ]
  },
  {
   "cell_type": "code",
   "execution_count": null,
   "metadata": {},
   "outputs": [],
   "source": []
  },
  {
   "cell_type": "markdown",
   "metadata": {},
   "source": [
    "# Title Case - 6th\n",
    "\n",
    "A string is considered to be in title case if each word in the string is either (a) capitalised (that is, only the first letter of the word is in upper case) or (b) considered to be an exception and put entirely into lower case unless it is the first word, which is always capitalised.\n",
    "\n",
    "Write a function that will convert a string into title case, given an optional list of exceptions (minor words). The list of minor words will be given as a string with each word separated by a space. Your function should ignore the case of the minor words string -- it should behave in the same way even if the case of the minor word string is changed.\n",
    "\n",
    "### Arguments (Haskell)\n",
    "\n",
    "First argument: space-delimited list of minor words that must always be lowercase except for the first word in the string.  \n",
    "Second argument: the original string to be converted.  \n",
    "\n",
    "### Arguments (Other languages)\n",
    "\n",
    "First argument (required): the original string to be converted.\n",
    "Second argument (optional): space-delimited list of minor words that must always be lowercase except for the first word in the string. The JavaScript/CoffeeScript tests will pass undefined when this argument is unused.\n",
    "### Example\n",
    "```\n",
    "title_case('a clash of KINGS', 'a an the of') # should return: 'A Clash of Kings'\n",
    "title_case('THE WIND IN THE WILLOWS', 'The In') # should return: 'The Wind in the Willows'\n",
    "title_case('the quick brown fox') # should return: 'The Quick Brown Fox'\n",
    "```"
   ]
  },
  {
   "cell_type": "code",
   "execution_count": 44,
   "metadata": {
    "execution": {
     "iopub.execute_input": "2021-07-14T16:14:04.719012Z",
     "iopub.status.busy": "2021-07-14T16:14:04.718013Z",
     "iopub.status.idle": "2021-07-14T16:14:04.736011Z",
     "shell.execute_reply": "2021-07-14T16:14:04.735011Z",
     "shell.execute_reply.started": "2021-07-14T16:14:04.719012Z"
    }
   },
   "outputs": [],
   "source": [
    "def title_case(title, minor_words=''):\n",
    "    # make exception for empty string\n",
    "    if title == '': return ''\n",
    "    \n",
    "    # make all words title case\n",
    "    minor_words = minor_words.title().split()\n",
    "    title = title.title().split()\n",
    "    \n",
    "    # make new list with first word, as first words are always captialized\n",
    "    new_title = [title[0]]\n",
    "    \n",
    "    # run for loop to add following words to new list, with minor words made lowercase\n",
    "    for i in title[1:]:\n",
    "        if i in minor_words:\n",
    "            new_title.append(i.lower())\n",
    "        else:\n",
    "            new_title.append(i)\n",
    "            \n",
    "    # join the new list into a single string\n",
    "    return ' '.join(new_title)"
   ]
  },
  {
   "cell_type": "code",
   "execution_count": 38,
   "metadata": {
    "execution": {
     "iopub.execute_input": "2021-07-14T16:11:21.057646Z",
     "iopub.status.busy": "2021-07-14T16:11:21.057646Z",
     "iopub.status.idle": "2021-07-14T16:11:21.070645Z",
     "shell.execute_reply": "2021-07-14T16:11:21.069648Z",
     "shell.execute_reply.started": "2021-07-14T16:11:21.057646Z"
    }
   },
   "outputs": [
    {
     "data": {
      "text/plain": [
       "'A Clash of Kings'"
      ]
     },
     "execution_count": 38,
     "metadata": {},
     "output_type": "execute_result"
    }
   ],
   "source": [
    "title_case(\"a clash of Kings\", \"and an the of\")"
   ]
  },
  {
   "cell_type": "code",
   "execution_count": 39,
   "metadata": {
    "execution": {
     "iopub.execute_input": "2021-07-14T16:12:10.866085Z",
     "iopub.status.busy": "2021-07-14T16:12:10.866085Z",
     "iopub.status.idle": "2021-07-14T16:12:10.873089Z",
     "shell.execute_reply": "2021-07-14T16:12:10.872088Z",
     "shell.execute_reply.started": "2021-07-14T16:12:10.866085Z"
    }
   },
   "outputs": [
    {
     "data": {
      "text/plain": [
       "'The Wind in the Willows'"
      ]
     },
     "execution_count": 39,
     "metadata": {},
     "output_type": "execute_result"
    }
   ],
   "source": [
    "title_case('THE WIND IN THE WILLOWS', 'The In')"
   ]
  },
  {
   "cell_type": "code",
   "execution_count": 40,
   "metadata": {
    "execution": {
     "iopub.execute_input": "2021-07-14T16:12:21.804179Z",
     "iopub.status.busy": "2021-07-14T16:12:21.804179Z",
     "iopub.status.idle": "2021-07-14T16:12:21.813181Z",
     "shell.execute_reply": "2021-07-14T16:12:21.812179Z",
     "shell.execute_reply.started": "2021-07-14T16:12:21.804179Z"
    }
   },
   "outputs": [
    {
     "data": {
      "text/plain": [
       "'The Quick Brown Fox'"
      ]
     },
     "execution_count": 40,
     "metadata": {},
     "output_type": "execute_result"
    }
   ],
   "source": [
    "title_case('the quick brown fox')"
   ]
  },
  {
   "cell_type": "code",
   "execution_count": 45,
   "metadata": {
    "execution": {
     "iopub.execute_input": "2021-07-14T16:14:07.584201Z",
     "iopub.status.busy": "2021-07-14T16:14:07.583206Z",
     "iopub.status.idle": "2021-07-14T16:14:07.605200Z",
     "shell.execute_reply": "2021-07-14T16:14:07.604231Z",
     "shell.execute_reply.started": "2021-07-14T16:14:07.583206Z"
    }
   },
   "outputs": [
    {
     "data": {
      "text/plain": [
       "''"
      ]
     },
     "execution_count": 45,
     "metadata": {},
     "output_type": "execute_result"
    }
   ],
   "source": [
    "title_case('')"
   ]
  },
  {
   "cell_type": "markdown",
   "metadata": {},
   "source": [
    "# Testing 1-2-3 - 7th\n",
    "\n",
    "Your team is writing a fancy new text editor and you've been tasked with implementing the line numbering.\n",
    "\n",
    "Write a function which takes a list of strings and returns each line prepended by the correct number.\n",
    "\n",
    "The numbering starts at 1. The format is n: string. Notice the colon and space in between.\n",
    "\n",
    "Examples:\n",
    "```\n",
    "number([]) # => []\n",
    "number([\"a\", \"b\", \"c\"]) # => [\"1: a\", \"2: b\", \"3: c\"]\n",
    "```"
   ]
  },
  {
   "cell_type": "code",
   "execution_count": 12,
   "metadata": {
    "execution": {
     "iopub.execute_input": "2021-07-02T21:50:09.203530Z",
     "iopub.status.busy": "2021-07-02T21:50:09.203530Z",
     "iopub.status.idle": "2021-07-02T21:50:09.218531Z",
     "shell.execute_reply": "2021-07-02T21:50:09.217529Z",
     "shell.execute_reply.started": "2021-07-02T21:50:09.203530Z"
    }
   },
   "outputs": [],
   "source": [
    "# this works. Now make it more compact.\n",
    "def number(lines):\n",
    "    new_list = []\n",
    "    for i in range(len(lines)):\n",
    "        new_list.append(f'{i+1}: {lines[i]}')\n",
    "    return new_list\n"
   ]
  },
  {
   "cell_type": "code",
   "execution_count": 14,
   "metadata": {
    "execution": {
     "iopub.execute_input": "2021-07-02T21:52:42.175702Z",
     "iopub.status.busy": "2021-07-02T21:52:42.174699Z",
     "iopub.status.idle": "2021-07-02T21:52:42.185701Z",
     "shell.execute_reply": "2021-07-02T21:52:42.184697Z",
     "shell.execute_reply.started": "2021-07-02T21:52:42.175702Z"
    }
   },
   "outputs": [],
   "source": [
    "# what I submitted\n",
    "\n",
    "def number(lines):\n",
    "    return [f'{i+1}: {lines[i]}' for i in range(len(lines))]"
   ]
  },
  {
   "cell_type": "code",
   "execution_count": 15,
   "metadata": {
    "execution": {
     "iopub.execute_input": "2021-07-02T21:52:43.199609Z",
     "iopub.status.busy": "2021-07-02T21:52:43.199609Z",
     "iopub.status.idle": "2021-07-02T21:52:43.211607Z",
     "shell.execute_reply": "2021-07-02T21:52:43.210611Z",
     "shell.execute_reply.started": "2021-07-02T21:52:43.199609Z"
    }
   },
   "outputs": [
    {
     "data": {
      "text/plain": [
       "['1: a', '2: b', '3: c']"
      ]
     },
     "execution_count": 15,
     "metadata": {},
     "output_type": "execute_result"
    }
   ],
   "source": [
    "number([\"a\", \"b\", \"c\"])"
   ]
  },
  {
   "cell_type": "code",
   "execution_count": 19,
   "metadata": {
    "execution": {
     "iopub.execute_input": "2021-07-02T21:56:37.799358Z",
     "iopub.status.busy": "2021-07-02T21:56:37.799358Z",
     "iopub.status.idle": "2021-07-02T21:56:37.816353Z",
     "shell.execute_reply": "2021-07-02T21:56:37.815350Z",
     "shell.execute_reply.started": "2021-07-02T21:56:37.799358Z"
    }
   },
   "outputs": [
    {
     "name": "stdout",
     "output_type": "stream",
     "text": [
      "0 a\n",
      "1 b\n",
      "2 c\n"
     ]
    }
   ],
   "source": [
    "for count,value in enumerate([\"a\",\"b\",\"c\"]):\n",
    "    print(count, value)"
   ]
  },
  {
   "cell_type": "code",
   "execution_count": 20,
   "metadata": {
    "execution": {
     "iopub.execute_input": "2021-07-02T21:56:46.577106Z",
     "iopub.status.busy": "2021-07-02T21:56:46.577106Z",
     "iopub.status.idle": "2021-07-02T21:56:46.595108Z",
     "shell.execute_reply": "2021-07-02T21:56:46.594106Z",
     "shell.execute_reply.started": "2021-07-02T21:56:46.577106Z"
    }
   },
   "outputs": [
    {
     "name": "stdout",
     "output_type": "stream",
     "text": [
      "3 a\n",
      "4 b\n",
      "5 c\n"
     ]
    }
   ],
   "source": [
    "for count,value in enumerate([\"a\",\"b\",\"c\"],3):\n",
    "    print(count, value)"
   ]
  },
  {
   "cell_type": "markdown",
   "metadata": {},
   "source": [
    "# Break Camel Case - 6th\n",
    "\n",
    "Complete the solution so that the function will break up camel casing, using a space between words.\n",
    "\n",
    "```\n",
    "\"camelCasing\"  =>  \"camel Casing\"\n",
    "\"identifier\"   =>  \"identifier\"\n",
    "\"\"             =>  \"\"\n",
    "```"
   ]
  },
  {
   "cell_type": "code",
   "execution_count": 85,
   "metadata": {
    "execution": {
     "iopub.execute_input": "2021-06-24T19:04:02.929216Z",
     "iopub.status.busy": "2021-06-24T19:04:02.928213Z",
     "iopub.status.idle": "2021-06-24T19:04:02.945212Z",
     "shell.execute_reply": "2021-06-24T19:04:02.944211Z",
     "shell.execute_reply.started": "2021-06-24T19:04:02.929216Z"
    }
   },
   "outputs": [],
   "source": [
    "# the winner!\n",
    "\n",
    "def solution(word):\n",
    "    \n",
    "    # make a list of the indices where capital letters are in the word\n",
    "    cap_indices = []\n",
    "    i = 0\n",
    "    while i < len(word):\n",
    "        if word[i].isupper():\n",
    "            cap_indices.append(i)\n",
    "        i += 1\n",
    "    \n",
    "    # make an empty list for the split word\n",
    "    split_word_as_list = []\n",
    "\n",
    "    for i in range(len(cap_indices)):\n",
    "        # add the first word in the list\n",
    "        if i == 0:\n",
    "            split_word_as_list.append(word[0:cap_indices[0]])\n",
    "        \n",
    "        # add the middle words in the list    \n",
    "        else:\n",
    "            split_word_as_list.append(word[cap_indices[i-1]:cap_indices[i]])\n",
    "        \n",
    "    # add the last word        \n",
    "    split_word_as_list.append(word[cap_indices[-1]:])\n",
    "    \n",
    "    # join everything together with a \" \"\n",
    "    return \" \".join(split_word_as_list)\n",
    "        \n",
    "    "
   ]
  },
  {
   "cell_type": "code",
   "execution_count": 34,
   "metadata": {
    "execution": {
     "iopub.execute_input": "2021-06-24T18:46:06.543351Z",
     "iopub.status.busy": "2021-06-24T18:46:06.542357Z",
     "iopub.status.idle": "2021-06-24T18:46:06.553349Z",
     "shell.execute_reply": "2021-06-24T18:46:06.552353Z",
     "shell.execute_reply.started": "2021-06-24T18:46:06.543351Z"
    }
   },
   "outputs": [],
   "source": [
    "def solution(word):\n",
    "    \n",
    "    # make a list of the indices where capital letters are in the word\n",
    "    cap_indices = []\n",
    "    i = 0\n",
    "    while i < len(word):\n",
    "        if word[i].isupper():\n",
    "            cap_indices.append(i)\n",
    "        i += 1\n",
    "    \n",
    "    # make an empty list of the split word\n",
    "    split_word_as_list = []\n",
    "    print(len(word))\n",
    "    print(cap_indices)\n",
    "    for i in range(len(cap_indices)):\n",
    "        if i == 0:\n",
    "            split_word_as_list.append(word[0:cap_indices[0]])\n",
    "        else:\n",
    "            split_word_as_list.append(word[cap_indices[i-1]:cap_indices[i]])\n",
    "    \n",
    "    return split_word_as_list\n",
    "        \n",
    "    "
   ]
  },
  {
   "cell_type": "code",
   "execution_count": 86,
   "metadata": {
    "execution": {
     "iopub.execute_input": "2021-06-24T19:04:03.614213Z",
     "iopub.status.busy": "2021-06-24T19:04:03.613213Z",
     "iopub.status.idle": "2021-06-24T19:04:03.623218Z",
     "shell.execute_reply": "2021-06-24T19:04:03.622216Z",
     "shell.execute_reply.started": "2021-06-24T19:04:03.614213Z"
    }
   },
   "outputs": [
    {
     "data": {
      "text/plain": [
       "'camel Casing Tummy George Master'"
      ]
     },
     "execution_count": 86,
     "metadata": {},
     "output_type": "execute_result"
    }
   ],
   "source": [
    "solution(\"camelCasingTummyGeorgeMaster\")"
   ]
  },
  {
   "cell_type": "code",
   "execution_count": 11,
   "metadata": {
    "execution": {
     "iopub.execute_input": "2021-06-23T21:57:22.215887Z",
     "iopub.status.busy": "2021-06-23T21:57:22.214889Z",
     "iopub.status.idle": "2021-06-23T21:57:22.235887Z",
     "shell.execute_reply": "2021-06-23T21:57:22.234887Z",
     "shell.execute_reply.started": "2021-06-23T21:57:22.215887Z"
    }
   },
   "outputs": [],
   "source": [
    "import re\n",
    "\n",
    "def solution(word):\n",
    "    # make a list of all capital letters in word\n",
    "    cap_letter_list = re.findall('[A-Z]', word)\n",
    "\n",
    "    for letter in cap_letter_list:\n",
    "        if letter in word:\n",
    "            print(letter)\n",
    "            print('Found')\n",
    "    pass\n"
   ]
  },
  {
   "cell_type": "code",
   "execution_count": 12,
   "metadata": {
    "execution": {
     "iopub.execute_input": "2021-06-23T21:57:23.689888Z",
     "iopub.status.busy": "2021-06-23T21:57:23.688893Z",
     "iopub.status.idle": "2021-06-23T21:57:23.718893Z",
     "shell.execute_reply": "2021-06-23T21:57:23.716888Z",
     "shell.execute_reply.started": "2021-06-23T21:57:23.689888Z"
    }
   },
   "outputs": [
    {
     "name": "stdout",
     "output_type": "stream",
     "text": [
      "C\n",
      "Found\n",
      "X\n",
      "Found\n"
     ]
    }
   ],
   "source": [
    "solution(\"camelCasingX\")"
   ]
  },
  {
   "cell_type": "code",
   "execution_count": null,
   "metadata": {},
   "outputs": [],
   "source": [
    "# for letter in word:\n",
    "#     split_words = [word + delimiter for word in word.split(delimiter) if delimiter]\n",
    "# split_words"
   ]
  },
  {
   "cell_type": "code",
   "execution_count": 25,
   "metadata": {
    "execution": {
     "iopub.execute_input": "2021-06-23T23:43:24.500441Z",
     "iopub.status.busy": "2021-06-23T23:43:24.492440Z",
     "iopub.status.idle": "2021-06-23T23:43:24.537442Z",
     "shell.execute_reply": "2021-06-23T23:43:24.536440Z",
     "shell.execute_reply.started": "2021-06-23T23:43:24.500441Z"
    }
   },
   "outputs": [],
   "source": [
    "import re\n",
    "\n",
    "def solution(word):\n",
    "    # make a list of all capital letters in word\n",
    "    cap_letter_list = re.findall('[A-Z]', word)\n",
    "\n",
    "    i = 0\n",
    "    for letter in cap_letter_list:\n",
    "        print(letter)\n",
    "        print(word.split(letter)[i:i+1])\n",
    "        i += 1\n",
    "    pass"
   ]
  },
  {
   "cell_type": "code",
   "execution_count": 26,
   "metadata": {
    "execution": {
     "iopub.execute_input": "2021-06-23T23:43:26.288073Z",
     "iopub.status.busy": "2021-06-23T23:43:26.288073Z",
     "iopub.status.idle": "2021-06-23T23:43:26.303070Z",
     "shell.execute_reply": "2021-06-23T23:43:26.302069Z",
     "shell.execute_reply.started": "2021-06-23T23:43:26.288073Z"
    }
   },
   "outputs": [
    {
     "name": "stdout",
     "output_type": "stream",
     "text": [
      "C\n",
      "['camel']\n",
      "X\n",
      "['']\n"
     ]
    }
   ],
   "source": [
    "solution(\"camelCasingX\")"
   ]
  },
  {
   "cell_type": "code",
   "execution_count": null,
   "metadata": {},
   "outputs": [],
   "source": []
  },
  {
   "cell_type": "code",
   "execution_count": null,
   "metadata": {},
   "outputs": [],
   "source": []
  },
  {
   "cell_type": "markdown",
   "metadata": {},
   "source": [
    "# Map over a list of lists - 7th\n",
    "\n",
    "https://www.codewars.com/kata/606b43f4adea6e00425dff42/train/python\n",
    "\n",
    "Write a function which maps a function over the lists in a list:\n",
    "\n",
    "Example 1:\n",
    "\n",
    "```\n",
    "x = [[1,2,3],\n",
    "     [4,5,6]]\n",
    "     \n",
    "grid_map(x, lambda x: x + 1)\n",
    "# returns [[2,3,4],[5,6,7]]\n",
    "\n",
    "grid_map(x, lambda x: x ** 2)\n",
    "# [[1,2,3],\n",
    "     [4,5,6]]returns [[1,4,9],[16,25,36]]\n",
    "```"
   ]
  },
  {
   "cell_type": "code",
   "execution_count": 36,
   "metadata": {
    "execution": {
     "iopub.execute_input": "2021-06-21T21:12:14.371549Z",
     "iopub.status.busy": "2021-06-21T21:12:14.371549Z",
     "iopub.status.idle": "2021-06-21T21:12:14.383546Z",
     "shell.execute_reply": "2021-06-21T21:12:14.382545Z",
     "shell.execute_reply.started": "2021-06-21T21:12:14.371549Z"
    }
   },
   "outputs": [],
   "source": [
    "# this is what I submitted\n",
    "def grid_map(inp, oper):\n",
    "    new_list = []\n",
    "    for count in range(len(inp)):\n",
    "        result = map(oper, inp[count])\n",
    "        new_list.append(list(result))\n",
    "    return new_list\n",
    "        "
   ]
  },
  {
   "cell_type": "code",
   "execution_count": 32,
   "metadata": {
    "execution": {
     "iopub.execute_input": "2021-06-21T21:06:19.635774Z",
     "iopub.status.busy": "2021-06-21T21:06:19.634774Z",
     "iopub.status.idle": "2021-06-21T21:06:19.649769Z",
     "shell.execute_reply": "2021-06-21T21:06:19.648769Z",
     "shell.execute_reply.started": "2021-06-21T21:06:19.635774Z"
    }
   },
   "outputs": [],
   "source": [
    "def grid_map(inp, oper):\n",
    "    counter = len(inp)\n",
    "    new_list = []\n",
    "    for count in range(counter):\n",
    "        result = map(oper, inp[count])\n",
    "        new_list.append(list(result))\n",
    "    return new_list\n",
    "        "
   ]
  },
  {
   "cell_type": "code",
   "execution_count": 37,
   "metadata": {
    "execution": {
     "iopub.execute_input": "2021-06-21T21:12:34.417431Z",
     "iopub.status.busy": "2021-06-21T21:12:34.416463Z",
     "iopub.status.idle": "2021-06-21T21:12:34.431427Z",
     "shell.execute_reply": "2021-06-21T21:12:34.429425Z",
     "shell.execute_reply.started": "2021-06-21T21:12:34.416463Z"
    }
   },
   "outputs": [
    {
     "data": {
      "text/plain": [
       "[[1, 4, 9], [16, 25, 36]]"
      ]
     },
     "execution_count": 37,
     "metadata": {},
     "output_type": "execute_result"
    }
   ],
   "source": [
    "inp = [[1,2,3],\n",
    "       [4,5,6]]\n",
    "grid_map(inp, lambda x: x ** 2)"
   ]
  },
  {
   "cell_type": "code",
   "execution_count": 38,
   "metadata": {
    "execution": {
     "iopub.execute_input": "2021-06-21T21:13:06.882755Z",
     "iopub.status.busy": "2021-06-21T21:13:06.881754Z",
     "iopub.status.idle": "2021-06-21T21:13:06.905752Z",
     "shell.execute_reply": "2021-06-21T21:13:06.904785Z",
     "shell.execute_reply.started": "2021-06-21T21:13:06.882755Z"
    }
   },
   "outputs": [
    {
     "data": {
      "text/plain": [
       "[1, 3, 5, 7]"
      ]
     },
     "execution_count": 38,
     "metadata": {},
     "output_type": "execute_result"
    }
   ],
   "source": [
    "result = map(lambda x: x + 1, [0, 2, 4, 6])\n",
    "list(result)"
   ]
  },
  {
   "cell_type": "markdown",
   "metadata": {},
   "source": [
    "# I'm everywhere! - 7th\n",
    "\n",
    "https://www.codewars.com/kata/6097a9f20d32c2000d0bdb98/train/python\n",
    "\n",
    "## Overview\n",
    "Many people know that Apple uses the letter \"i\" in almost all of its devices to emphasize its personality.\n",
    "\n",
    "And so John, a programmer at Apple, was given the task of making a program that would add that letter to every word. Let's help him do it, too.\n",
    "\n",
    "## Task:\n",
    "Your task is to make a function that takes the value of word and returns it with an \"i\" at the beginning of the word. For example we get the word \"Phone\", so we must return \"iPhone\". But we have a few rules:\n",
    "\n",
    "1. The word should not begin with the letter \"I\", for example Inspire.\n",
    "2. The number of vowels should not be greater than or equal to the number of consonants, for example East or Peace. (\"y\" is considered a consonant)\n",
    "3. The first letter should not be lowercase, for example road.\n",
    "If the word does not meet the rules, we return \"Invalid word\"."
   ]
  },
  {
   "cell_type": "code",
   "execution_count": 22,
   "metadata": {
    "execution": {
     "iopub.execute_input": "2021-06-21T18:00:34.621528Z",
     "iopub.status.busy": "2021-06-21T18:00:34.621528Z",
     "iopub.status.idle": "2021-06-21T18:00:34.636529Z",
     "shell.execute_reply": "2021-06-21T18:00:34.635521Z",
     "shell.execute_reply.started": "2021-06-21T18:00:34.621528Z"
    }
   },
   "outputs": [],
   "source": [
    "# winner! \n",
    "import re\n",
    "\n",
    "def i(word):\n",
    "    vowell_count = len(re.findall('[aeiouAEIOU]', word))\n",
    "    conson_count = len(re.findall('[^aeiouAEIOU]', word))\n",
    "\n",
    "    if word == \"\": \n",
    "        return \"Invalid word\"\n",
    "    if word[0] == \"I\": \n",
    "        return \"Invalid word\"\n",
    "    if word[0].islower(): \n",
    "        return \"Invalid word\"\n",
    "    if vowell_count >= conson_count: \n",
    "        return \"Invalid word\"\n",
    "    \n",
    "    return \"i\"+word\n",
    "    "
   ]
  },
  {
   "cell_type": "code",
   "execution_count": 39,
   "metadata": {
    "execution": {
     "iopub.execute_input": "2021-06-21T18:13:12.819347Z",
     "iopub.status.busy": "2021-06-21T18:13:12.818344Z",
     "iopub.status.idle": "2021-06-21T18:13:12.838346Z",
     "shell.execute_reply": "2021-06-21T18:13:12.837344Z",
     "shell.execute_reply.started": "2021-06-21T18:13:12.819347Z"
    }
   },
   "outputs": [
    {
     "data": {
      "text/plain": [
       "'Invalid Word'"
      ]
     },
     "execution_count": 39,
     "metadata": {},
     "output_type": "execute_result"
    }
   ],
   "source": [
    "\n",
    "i(\"East\")"
   ]
  },
  {
   "cell_type": "code",
   "execution_count": 12,
   "metadata": {
    "execution": {
     "iopub.execute_input": "2021-06-21T17:50:09.017777Z",
     "iopub.status.busy": "2021-06-21T17:50:09.017777Z",
     "iopub.status.idle": "2021-06-21T17:50:09.027774Z",
     "shell.execute_reply": "2021-06-21T17:50:09.026776Z",
     "shell.execute_reply.started": "2021-06-21T17:50:09.017777Z"
    }
   },
   "outputs": [
    {
     "data": {
      "text/plain": [
       "True"
      ]
     },
     "execution_count": 12,
     "metadata": {},
     "output_type": "execute_result"
    }
   ],
   "source": [
    "txt = \"The rain in Spain\"\n",
    "x = re.search(\"^The.*Spain$\", txt) \n",
    "bool(x)"
   ]
  },
  {
   "cell_type": "code",
   "execution_count": 18,
   "metadata": {
    "execution": {
     "iopub.execute_input": "2021-06-21T17:56:38.202474Z",
     "iopub.status.busy": "2021-06-21T17:56:38.201475Z",
     "iopub.status.idle": "2021-06-21T17:56:38.221474Z",
     "shell.execute_reply": "2021-06-21T17:56:38.220472Z",
     "shell.execute_reply.started": "2021-06-21T17:56:38.202474Z"
    }
   },
   "outputs": [
    {
     "data": {
      "text/plain": [
       "2"
      ]
     },
     "execution_count": 18,
     "metadata": {},
     "output_type": "execute_result"
    }
   ],
   "source": [
    "string = \"PeaceY\"\n",
    "counter = len(re.findall('[^aeiouyAEIOUY]', string))\n",
    "counter"
   ]
  },
  {
   "cell_type": "code",
   "execution_count": 21,
   "metadata": {
    "execution": {
     "iopub.execute_input": "2021-06-21T17:58:53.672868Z",
     "iopub.status.busy": "2021-06-21T17:58:53.671864Z",
     "iopub.status.idle": "2021-06-21T17:58:53.679866Z",
     "shell.execute_reply": "2021-06-21T17:58:53.678865Z",
     "shell.execute_reply.started": "2021-06-21T17:58:53.672868Z"
    }
   },
   "outputs": [
    {
     "data": {
      "text/plain": [
       "True"
      ]
     },
     "execution_count": 21,
     "metadata": {},
     "output_type": "execute_result"
    }
   ],
   "source": [
    "\"Peace\"[0].isupper()"
   ]
  },
  {
   "cell_type": "code",
   "execution_count": 6,
   "metadata": {
    "execution": {
     "iopub.execute_input": "2021-06-21T17:46:46.959520Z",
     "iopub.status.busy": "2021-06-21T17:46:46.959520Z",
     "iopub.status.idle": "2021-06-21T17:46:46.973523Z",
     "shell.execute_reply": "2021-06-21T17:46:46.972520Z",
     "shell.execute_reply.started": "2021-06-21T17:46:46.959520Z"
    }
   },
   "outputs": [
    {
     "data": {
      "text/plain": [
       "'iPhone'"
      ]
     },
     "execution_count": 6,
     "metadata": {},
     "output_type": "execute_result"
    }
   ],
   "source": [
    "i(\"Phone\")"
   ]
  },
  {
   "cell_type": "code",
   "execution_count": 8,
   "metadata": {
    "execution": {
     "iopub.execute_input": "2021-06-21T17:47:02.532148Z",
     "iopub.status.busy": "2021-06-21T17:47:02.532148Z",
     "iopub.status.idle": "2021-06-21T17:47:02.545146Z",
     "shell.execute_reply": "2021-06-21T17:47:02.544144Z",
     "shell.execute_reply.started": "2021-06-21T17:47:02.532148Z"
    }
   },
   "outputs": [
    {
     "data": {
      "text/plain": [
       "'Invalid Word'"
      ]
     },
     "execution_count": 8,
     "metadata": {},
     "output_type": "execute_result"
    }
   ],
   "source": [
    "i(\"igloo\")"
   ]
  },
  {
   "cell_type": "markdown",
   "metadata": {},
   "source": [
    "# Reverse Words - 7th\n",
    "\n",
    "Complete the function that accepts a string parameter, and reverses each word in the string. All spaces in the string should be retained.\n",
    "\n",
    "Examples\n",
    "```\n",
    "This is an example!\" ==> \"sihT si na !elpmaxe\"\n",
    "\"double  spaces\"      ==> \"elbuod  secaps\"\n",
    "```"
   ]
  },
  {
   "cell_type": "code",
   "execution_count": 42,
   "metadata": {
    "execution": {
     "iopub.execute_input": "2021-06-20T22:43:29.871982Z",
     "iopub.status.busy": "2021-06-20T22:43:29.870980Z",
     "iopub.status.idle": "2021-06-20T22:43:29.886979Z",
     "shell.execute_reply": "2021-06-20T22:43:29.885979Z",
     "shell.execute_reply.started": "2021-06-20T22:43:29.871982Z"
    }
   },
   "outputs": [],
   "source": [
    "def reverse_words(text):\n",
    "    # split the text into a list. Use \" \" to retain any double spaces per instructions\n",
    "    split_words = text.split(\" \")\n",
    "    \n",
    "    # use slicing [::-1] in a for loop to reverse each word\n",
    "    reversed_words = [word[::-1] for word in split_words]\n",
    "    \n",
    "    # join the list together into a string with \" \" between each word\n",
    "    return \" \".join(reversed_words)"
   ]
  },
  {
   "cell_type": "code",
   "execution_count": null,
   "metadata": {},
   "outputs": [],
   "source": [
    "# Note there's also a reverse"
   ]
  },
  {
   "cell_type": "code",
   "execution_count": 43,
   "metadata": {
    "execution": {
     "iopub.execute_input": "2021-06-20T22:43:32.438316Z",
     "iopub.status.busy": "2021-06-20T22:43:32.438316Z",
     "iopub.status.idle": "2021-06-20T22:43:32.450314Z",
     "shell.execute_reply": "2021-06-20T22:43:32.449315Z",
     "shell.execute_reply.started": "2021-06-20T22:43:32.438316Z"
    }
   },
   "outputs": [
    {
     "data": {
      "text/plain": [
       "'ehT kciuq nworb xof spmuj revo eht yzal  .god'"
      ]
     },
     "execution_count": 43,
     "metadata": {},
     "output_type": "execute_result"
    }
   ],
   "source": [
    "reverse_words('The quick brown fox jumps over the lazy  dog.')"
   ]
  },
  {
   "cell_type": "code",
   "execution_count": null,
   "metadata": {},
   "outputs": [],
   "source": []
  },
  {
   "cell_type": "markdown",
   "metadata": {},
   "source": [
    "# String Ends With - 7th\n",
    "\n",
    "Complete the solution so that it returns true if the first argument(string) passed in ends with the 2nd argument (also a string).\n",
    "\n",
    "Examples:\n",
    "```\n",
    "solution('abc', 'bc') # returns true\n",
    "solution('abc', 'd') # returns false\n",
    "```\n",
    "\n",
    "---"
   ]
  },
  {
   "cell_type": "code",
   "execution_count": 17,
   "metadata": {
    "execution": {
     "iopub.execute_input": "2021-06-20T22:16:41.604557Z",
     "iopub.status.busy": "2021-06-20T22:16:41.604557Z",
     "iopub.status.idle": "2021-06-20T22:16:41.615558Z",
     "shell.execute_reply": "2021-06-20T22:16:41.614557Z",
     "shell.execute_reply.started": "2021-06-20T22:16:41.604557Z"
    }
   },
   "outputs": [],
   "source": [
    "# my answer\n",
    "\n",
    "def solution(string, ending):\n",
    "    length = len(ending)\n",
    "    \n",
    "    if length == 0: \n",
    "        return True\n",
    "    else:\n",
    "        return string[-length:] == ending "
   ]
  },
  {
   "cell_type": "code",
   "execution_count": 20,
   "metadata": {
    "execution": {
     "iopub.execute_input": "2021-06-20T22:24:19.182543Z",
     "iopub.status.busy": "2021-06-20T22:24:19.181544Z",
     "iopub.status.idle": "2021-06-20T22:24:19.192545Z",
     "shell.execute_reply": "2021-06-20T22:24:19.191543Z",
     "shell.execute_reply.started": "2021-06-20T22:24:19.182543Z"
    }
   },
   "outputs": [],
   "source": [
    "# other answer\n",
    "def solution(string, ending):\n",
    "    return string.endswith(ending)"
   ]
  },
  {
   "cell_type": "code",
   "execution_count": 21,
   "metadata": {
    "execution": {
     "iopub.execute_input": "2021-06-20T22:24:20.249544Z",
     "iopub.status.busy": "2021-06-20T22:24:20.248541Z",
     "iopub.status.idle": "2021-06-20T22:24:20.269545Z",
     "shell.execute_reply": "2021-06-20T22:24:20.267541Z",
     "shell.execute_reply.started": "2021-06-20T22:24:20.249544Z"
    }
   },
   "outputs": [
    {
     "data": {
      "text/plain": [
       "True"
      ]
     },
     "execution_count": 21,
     "metadata": {},
     "output_type": "execute_result"
    }
   ],
   "source": [
    "solution('abc', 'bc') "
   ]
  },
  {
   "cell_type": "code",
   "execution_count": 22,
   "metadata": {
    "execution": {
     "iopub.execute_input": "2021-06-20T22:24:24.434542Z",
     "iopub.status.busy": "2021-06-20T22:24:24.433546Z",
     "iopub.status.idle": "2021-06-20T22:24:24.455542Z",
     "shell.execute_reply": "2021-06-20T22:24:24.453543Z",
     "shell.execute_reply.started": "2021-06-20T22:24:24.434542Z"
    }
   },
   "outputs": [
    {
     "data": {
      "text/plain": [
       "False"
      ]
     },
     "execution_count": 22,
     "metadata": {},
     "output_type": "execute_result"
    }
   ],
   "source": [
    "solution('abc', 'd')"
   ]
  },
  {
   "cell_type": "markdown",
   "metadata": {},
   "source": [
    "# The Office V - Find a chair - 6th\n",
    "\n",
    "So you've found a meeting room. You arrive there ready to present, and find that someone has taken one or more of the chairs! You need to find some Check all the other meeting rooms to see if all of the chairs are in use.\n",
    "\n",
    "Your meeting room can take up to `8` chairs. `need` will tell you how many have been taken. You need to find that many.\n",
    "\n",
    "Find the spare chairs from the array of meeting rooms. Each meeting room tuple will have the number of occupants as a string. Each occupant is represented by `'X'`. The room tuple will also have an integer telling you how many chairs there are in the room.\n",
    "\n",
    "You should return an array of integers that shows how many chairs you take from each room in order, up until you have the required amount.\n",
    "\n",
    "example:\n",
    "```\n",
    "[['XXX', 3], ['XXXXX', 6], ['XXXXXX', 9], ['XXX',2]] \n",
    "```\n",
    "when you need 4 chairs:\n",
    "\n",
    "`result -> [0, 1, 3]` no chairs free in room 0, take `1` from room 1, take `3` from room 2. no need to consider room 3 as you have your `4` chairs already.\n",
    "\n",
    "If you need no chairs, return `\"Game On\"`. If there aren't enough spare chairs available, return `\"Not enough!\"`."
   ]
  },
  {
   "cell_type": "code",
   "execution_count": 384,
   "metadata": {
    "execution": {
     "iopub.execute_input": "2021-06-18T17:00:28.858537Z",
     "iopub.status.busy": "2021-06-18T17:00:28.858537Z",
     "iopub.status.idle": "2021-06-18T17:00:28.878536Z",
     "shell.execute_reply": "2021-06-18T17:00:28.877647Z",
     "shell.execute_reply.started": "2021-06-18T17:00:28.858537Z"
    }
   },
   "outputs": [],
   "source": [
    "def meeting(rooms, need):\n",
    "    if need == 0:\n",
    "        return \"Game On\"\n",
    "    \n",
    "    available_chairs = []\n",
    "    for count in range(len(rooms)):\n",
    "        x = rooms[count][1] - len(rooms[count][0])\n",
    "        available_chairs.append(x)\n",
    "\n",
    "    # remove any negative numbers from available chairs\n",
    "    available_chairs = [x if not x < 0 else 0 for x in available_chairs]\n",
    "    \n",
    "    # make the list of chairs to take from the available chairs\n",
    "    chairs_to_take = []\n",
    "    for count in range(len(available_chairs)):\n",
    "        if (sum(available_chairs[0:count]) < need):\n",
    "            chairs_to_take.append(available_chairs[count])\n",
    "    \n",
    "    if sum(chairs_to_take) < need:\n",
    "        return \"Not enough!\"\n",
    "    \n",
    "    # if there are too many chairs, subtract from the last one in list\n",
    "    if sum(chairs_to_take) > need:\n",
    "        chairs_to_take[-1] -= sum(chairs_to_take) - need\n",
    "        \n",
    "    return chairs_to_take\n",
    "    \n"
   ]
  },
  {
   "cell_type": "code",
   "execution_count": 385,
   "metadata": {
    "execution": {
     "iopub.execute_input": "2021-06-18T17:00:29.988364Z",
     "iopub.status.busy": "2021-06-18T17:00:29.987363Z",
     "iopub.status.idle": "2021-06-18T17:00:30.004366Z",
     "shell.execute_reply": "2021-06-18T17:00:30.003368Z",
     "shell.execute_reply.started": "2021-06-18T17:00:29.988364Z"
    }
   },
   "outputs": [
    {
     "data": {
      "text/plain": [
       "[0, 0, 0, 0, 3]"
      ]
     },
     "execution_count": 385,
     "metadata": {},
     "output_type": "execute_result"
    }
   ],
   "source": [
    "meeting([['XXXXX', 5], ['XXXXX', 4], ['XX', 2], ['XXXXXX', 4], ['', 8], ['XX', 3], ['XXXXXXX', 7]], 3)"
   ]
  },
  {
   "cell_type": "code",
   "execution_count": 373,
   "metadata": {
    "execution": {
     "iopub.execute_input": "2021-06-18T16:46:23.834738Z",
     "iopub.status.busy": "2021-06-18T16:46:23.833743Z",
     "iopub.status.idle": "2021-06-18T16:46:23.857739Z",
     "shell.execute_reply": "2021-06-18T16:46:23.856738Z",
     "shell.execute_reply.started": "2021-06-18T16:46:23.834738Z"
    }
   },
   "outputs": [
    {
     "name": "stdout",
     "output_type": "stream",
     "text": [
      "sum(available_chairs) 5\n",
      "need 5\n"
     ]
    },
    {
     "data": {
      "text/plain": [
       "'Game On'"
      ]
     },
     "execution_count": 373,
     "metadata": {},
     "output_type": "execute_result"
    }
   ],
   "source": [
    "meeting([[\"XXX\", 1], [\"XXXXXX\", 6], [\"X\", 2], [\"XXXXXX\", 8], [\"X\", 3], [\"XXX\", 1]], 5)"
   ]
  },
  {
   "cell_type": "markdown",
   "metadata": {},
   "source": [
    "# Find the party outlier - 6th\n",
    "\n",
    "You are given an array (which will have a length of at least 3, but could be very large) containing integers. The array is either entirely comprised of odd integers or entirely comprised of even integers except for a single integer N. Write a method that takes the array as an argument and returns this \"outlier\" N.\n",
    "\n",
    "```\n",
    "[2, 4, 0, 100, 4, 11, 2602, 36]\n",
    "Should return: 11 (the only odd number)\n",
    "\n",
    "[160, 3, 1719, 19, 11, 13, -21]\n",
    "Should return: 160 (the only even number)\n",
    "```"
   ]
  },
  {
   "cell_type": "code",
   "execution_count": 301,
   "metadata": {
    "execution": {
     "iopub.execute_input": "2021-06-17T23:59:12.862294Z",
     "iopub.status.busy": "2021-06-17T23:59:12.861292Z",
     "iopub.status.idle": "2021-06-17T23:59:12.874293Z",
     "shell.execute_reply": "2021-06-17T23:59:12.873291Z",
     "shell.execute_reply.started": "2021-06-17T23:59:12.862294Z"
    }
   },
   "outputs": [],
   "source": [
    "# this works unless the first number is odd\n",
    "def find_outlier(integers):\n",
    "    \n",
    "    even_set = True if (integers[0] % 2 == 0 and integers[1] % 2 == 0) or (integers[0] % 2 == 0 and integers[2] % 2 == 0) else False\n",
    "    print(even_set)\n",
    "    if even_set:\n",
    "        for x in range(len(integers)):\n",
    "            if integers[x] % 2 != 0:\n",
    "                return integers[x]\n",
    "    else:\n",
    "        for x in range(len(integers)):\n",
    "            if integers[x] % 2 == 0:\n",
    "                return integers[x]\n",
    "    \n",
    "\n",
    "    "
   ]
  },
  {
   "cell_type": "code",
   "execution_count": 322,
   "metadata": {
    "execution": {
     "iopub.execute_input": "2021-06-18T02:19:22.929106Z",
     "iopub.status.busy": "2021-06-18T02:19:22.929106Z",
     "iopub.status.idle": "2021-06-18T02:19:22.952104Z",
     "shell.execute_reply": "2021-06-18T02:19:22.951108Z",
     "shell.execute_reply.started": "2021-06-18T02:19:22.929106Z"
    }
   },
   "outputs": [],
   "source": [
    "def find_outlier(integers):\n",
    "    \n",
    "    # Check if the first three numbers are even\n",
    "    num_1_even = 1 if (integers[0] % 2 == 0) else 0\n",
    "    num_2_even = 1 if (integers[1] % 2 == 0) else 0\n",
    "    num_3_even = 1 if (integers[2] % 2 == 0) else 0\n",
    "    \n",
    "    # the set is an 'even' set if at least 2 out of the first 3 numbers are even \n",
    "    even_set = True if sum([num_1_even, num_2_even, num_3_even]) >= 2 else False\n",
    "    \n",
    "    # find the outlier if an even set\n",
    "    if even_set:\n",
    "        for x in range(len(integers)):\n",
    "            if integers[x] % 2 != 0:\n",
    "                return integers[x]\n",
    "    # find the outlier if an odd set\n",
    "    else:\n",
    "        for x in range(len(integers)):\n",
    "            if integers[x] % 2 == 0:\n",
    "                return integers[x]\n",
    "    \n"
   ]
  },
  {
   "cell_type": "code",
   "execution_count": 323,
   "metadata": {
    "execution": {
     "iopub.execute_input": "2021-06-18T02:19:25.211442Z",
     "iopub.status.busy": "2021-06-18T02:19:25.210442Z",
     "iopub.status.idle": "2021-06-18T02:19:25.227447Z",
     "shell.execute_reply": "2021-06-18T02:19:25.225443Z",
     "shell.execute_reply.started": "2021-06-18T02:19:25.211442Z"
    }
   },
   "outputs": [
    {
     "name": "stdout",
     "output_type": "stream",
     "text": [
      "num_1_even: 1\n",
      "num_2_even: 0\n",
      "num_3_even: 0\n"
     ]
    },
    {
     "data": {
      "text/plain": [
       "160"
      ]
     },
     "execution_count": 323,
     "metadata": {},
     "output_type": "execute_result"
    }
   ],
   "source": [
    "integers = [160, 3, 1719, 19, 11, 13, -21]\n",
    "find_outlier(integers)"
   ]
  },
  {
   "cell_type": "code",
   "execution_count": 324,
   "metadata": {
    "execution": {
     "iopub.execute_input": "2021-06-18T02:19:27.126337Z",
     "iopub.status.busy": "2021-06-18T02:19:27.126337Z",
     "iopub.status.idle": "2021-06-18T02:19:27.149338Z",
     "shell.execute_reply": "2021-06-18T02:19:27.147336Z",
     "shell.execute_reply.started": "2021-06-18T02:19:27.126337Z"
    }
   },
   "outputs": [
    {
     "name": "stdout",
     "output_type": "stream",
     "text": [
      "num_1_even: 1\n",
      "num_2_even: 1\n",
      "num_3_even: 1\n"
     ]
    },
    {
     "data": {
      "text/plain": [
       "11"
      ]
     },
     "execution_count": 324,
     "metadata": {},
     "output_type": "execute_result"
    }
   ],
   "source": [
    "integers = [2, 4, 0, 100, 4, 11, 2602, 36]\n",
    "find_outlier(integers)"
   ]
  },
  {
   "cell_type": "code",
   "execution_count": 325,
   "metadata": {
    "execution": {
     "iopub.execute_input": "2021-06-18T02:19:29.362338Z",
     "iopub.status.busy": "2021-06-18T02:19:29.361334Z",
     "iopub.status.idle": "2021-06-18T02:19:29.381337Z",
     "shell.execute_reply": "2021-06-18T02:19:29.380341Z",
     "shell.execute_reply.started": "2021-06-18T02:19:29.362338Z"
    }
   },
   "outputs": [
    {
     "name": "stdout",
     "output_type": "stream",
     "text": [
      "num_1_even: 0\n",
      "num_2_even: 1\n",
      "num_3_even: 1\n"
     ]
    },
    {
     "data": {
      "text/plain": [
       "-4028645"
      ]
     },
     "execution_count": 325,
     "metadata": {},
     "output_type": "execute_result"
    }
   ],
   "source": [
    "integers = [-4028645, 7536636, -3130152, 4005908, 6024006, 2302982, 6518154, 6439818, -3320684, 4170042, -2204478, -3365240, -8584540, -4659544, 9584132, 9317906, 3178276, -7137868, -2282176, 288036, 6223786, 2690730, 6038492, -8441372, -5194224, 4268204, 1581912, -4244094, -7807180, -9218948, 1448742, 6488118, 4629400]\n",
    "\n",
    "find_outlier(integers)"
   ]
  },
  {
   "cell_type": "markdown",
   "metadata": {},
   "source": [
    "# Return a string's even characters - 7th\n",
    "\n",
    "Write a function that returns a sequence (index begins with 1) of all the even characters from a string. If the string is smaller than two characters or longer than 100 characters, the function should return \"invalid string\".\n",
    "\n",
    "For example:\n",
    "```\n",
    "\"abcdefghijklm\" --> [\"b\", \"d\", \"f\", \"h\", \"j\", \"l\"]\n",
    "\"a\"             --> \"invalid string\"\n",
    "\n",
    "```"
   ]
  },
  {
   "cell_type": "markdown",
   "metadata": {},
   "source": [
    "### Notes\n",
    " - Split string\n",
    " - find index of lists"
   ]
  },
  {
   "cell_type": "code",
   "execution_count": 240,
   "metadata": {
    "execution": {
     "iopub.execute_input": "2021-06-17T21:28:05.544291Z",
     "iopub.status.busy": "2021-06-17T21:28:05.543292Z",
     "iopub.status.idle": "2021-06-17T21:28:05.553293Z",
     "shell.execute_reply": "2021-06-17T21:28:05.552292Z",
     "shell.execute_reply.started": "2021-06-17T21:28:05.544291Z"
    }
   },
   "outputs": [],
   "source": [
    "# this works\n",
    "def even_chars(st):     \n",
    "    if len(st) < 2 or len(st) > 100:\n",
    "        return \"invalid string\"\n",
    "    \n",
    "    # split st into list of chars\n",
    "    chars = [x for x in st]\n",
    "    \n",
    "    new_list = []\n",
    "    for x in range(len(chars)):\n",
    "        if ((x + 1)) % 2 == 0:\n",
    "            new_list.append(chars[x])\n",
    "    return new_list\n"
   ]
  },
  {
   "cell_type": "code",
   "execution_count": 251,
   "metadata": {
    "execution": {
     "iopub.execute_input": "2021-06-17T21:38:52.906846Z",
     "iopub.status.busy": "2021-06-17T21:38:52.905848Z",
     "iopub.status.idle": "2021-06-17T21:38:52.932847Z",
     "shell.execute_reply": "2021-06-17T21:38:52.931843Z",
     "shell.execute_reply.started": "2021-06-17T21:38:52.906846Z"
    }
   },
   "outputs": [],
   "source": [
    "# re-factor\n",
    "def even_chars(st):     \n",
    "    if len(st) < 2 or len(st) > 100:\n",
    "        return \"invalid string\"\n",
    "    \n",
    "    chars = [x for x in st]\n",
    "    \n",
    "    return [chars[x] for x in range(len(chars)) if ((x % 2 == 1))]\n"
   ]
  },
  {
   "cell_type": "code",
   "execution_count": null,
   "metadata": {},
   "outputs": [],
   "source": [
    "# re-factor 2\n",
    "\n",
    "def even_chars(st):     \n",
    "    if len(st) < 2 or len(st) > 100:\n",
    "        return \"invalid string\"\n",
    "    \n",
    "    chars = list(st)\n",
    "    \n",
    "    return [chars[x] for x in range(len(chars)) if ((x % 2 == 1))]\n"
   ]
  },
  {
   "cell_type": "code",
   "execution_count": 252,
   "metadata": {
    "execution": {
     "iopub.execute_input": "2021-06-17T21:38:53.785846Z",
     "iopub.status.busy": "2021-06-17T21:38:53.784848Z",
     "iopub.status.idle": "2021-06-17T21:38:53.797848Z",
     "shell.execute_reply": "2021-06-17T21:38:53.796846Z",
     "shell.execute_reply.started": "2021-06-17T21:38:53.785846Z"
    }
   },
   "outputs": [
    {
     "data": {
      "text/plain": [
       "['b', 'd', 'f', 'h', 'j', 'l']"
      ]
     },
     "execution_count": 252,
     "metadata": {},
     "output_type": "execute_result"
    }
   ],
   "source": [
    "# st = \"abcdefghijklm\"\n",
    "st = 'abcdefghijklm'\n",
    "even_chars(st)"
   ]
  },
  {
   "cell_type": "markdown",
   "metadata": {},
   "source": [
    "# Who likes it - 6th kyu\n",
    "\n",
    "You probably know the \"like\" system from Facebook and other pages. People can \"like\" blog posts, pictures or other items. We want to create the text that should be displayed next to such an item.\n",
    "\n",
    "Implement a function likes :: [String] -> String, which must take in input array, containing the names of people who like an item. It must return the display text as shown in the examples:\n",
    "\n",
    "```\n",
    "likes([]) # must be \"no one likes this\"\n",
    "likes([\"Peter\"]) # must be \"Peter likes this\"\n",
    "likes([\"Jacob\", \"Alex\"]) # must be \"Jacob and Alex like this\"\n",
    "likes([\"Max\", \"John\", \"Mark\"]) # must be \"Max, John and Mark like this\"\n",
    "likes([\"Alex\", \"Jacob\", \"Mark\", \"Max\"]) # must be \"Alex, Jacob and 2 others like this\"\n",
    "```"
   ]
  },
  {
   "cell_type": "code",
   "execution_count": 218,
   "metadata": {
    "execution": {
     "iopub.execute_input": "2021-06-17T14:39:53.667565Z",
     "iopub.status.busy": "2021-06-17T14:39:53.666564Z",
     "iopub.status.idle": "2021-06-17T14:39:53.677568Z",
     "shell.execute_reply": "2021-06-17T14:39:53.676564Z",
     "shell.execute_reply.started": "2021-06-17T14:39:53.666564Z"
    }
   },
   "outputs": [],
   "source": [
    "def likes(names):\n",
    "    if not names:\n",
    "        return \"no one likes this\"\n",
    "    elif len(names) == 1:\n",
    "        return f\"{names[0]} likes this\"\n",
    "    elif len(names) == 2:\n",
    "        return  f\"{names[0]} and {names[1]} like this\"\n",
    "    elif len(names) == 3:\n",
    "        return  f\"{names[0]}, {names[1]} and {names[2]} like this\"\n",
    "    else:\n",
    "        return f\"{names[0]}, {names[1]} and {len(names) - 2} others like this\""
   ]
  },
  {
   "cell_type": "code",
   "execution_count": 221,
   "metadata": {
    "execution": {
     "iopub.execute_input": "2021-06-17T14:40:08.790786Z",
     "iopub.status.busy": "2021-06-17T14:40:08.789787Z",
     "iopub.status.idle": "2021-06-17T14:40:08.808787Z",
     "shell.execute_reply": "2021-06-17T14:40:08.806791Z",
     "shell.execute_reply.started": "2021-06-17T14:40:08.790786Z"
    }
   },
   "outputs": [
    {
     "data": {
      "text/plain": [
       "'Peter, Alex and 3 others like this'"
      ]
     },
     "execution_count": 221,
     "metadata": {},
     "output_type": "execute_result"
    }
   ],
   "source": [
    "names = [\"Peter\", \"Alex\", \"Mary\", \"George\", \"Sam\"]\n",
    "likes(names)"
   ]
  },
  {
   "cell_type": "code",
   "execution_count": null,
   "metadata": {},
   "outputs": [],
   "source": []
  },
  {
   "cell_type": "markdown",
   "metadata": {},
   "source": [
    "# Find the missing letter - 6th Kyu\n",
    "\n",
    "Write a method that takes an array of consecutive (increasing) letters as input and that returns the missing letter in the array.\n",
    "\n",
    "You will always get an valid array. And it will be always exactly one letter be missing. The length of the array will always be at least 2.\n",
    "The array will always contain letters in only one case.\n",
    "\n",
    "Example:\n",
    "```\n",
    "['a','b','c','d','f'] -> 'e' \n",
    "['O','Q','R','S'] -> 'P'\n",
    "```"
   ]
  },
  {
   "cell_type": "markdown",
   "metadata": {},
   "source": [
    "So, you'll get a list. You'll have to iterate over the list.\n",
    "First, how would I make a list of all not in alphabet"
   ]
  },
  {
   "cell_type": "code",
   "execution_count": 189,
   "metadata": {
    "execution": {
     "iopub.execute_input": "2021-06-17T14:09:11.120069Z",
     "iopub.status.busy": "2021-06-17T14:09:11.120069Z",
     "iopub.status.idle": "2021-06-17T14:09:11.139066Z",
     "shell.execute_reply": "2021-06-17T14:09:11.137070Z",
     "shell.execute_reply.started": "2021-06-17T14:09:11.120069Z"
    }
   },
   "outputs": [],
   "source": [
    "# this works\n",
    "import string\n",
    "\n",
    "def find_missing_letter(chars):\n",
    "    # making alpha either all lower or all upper depending on 'chars'\n",
    "    alpha = list(string.ascii_lowercase) if chars[0].islower() else list(string.ascii_uppercase)\n",
    "    \n",
    "    # figuring out which letter to start using 'alpha'\n",
    "    starting_point = None\n",
    "    for i in range(len(alpha)):\n",
    "        if alpha[i] == chars[0]:\n",
    "            starting_point = i \n",
    "    print(f\"alphabet starting character is {alpha[starting_point]}\")\n",
    "    \n",
    "    # determining which letter is missing from 'chars'\n",
    "    missing_letter = None\n",
    "    for i in range(len(chars)):\n",
    "        print(f\"At character {chars[i]}\")\n",
    "        print(f\"At alphabet {alpha[starting_point + i]}\")\n",
    "        if chars[i] != alpha[starting_point + i]:\n",
    "            missing_letter = alpha[starting_point + i]b\n",
    "            break\n",
    "    return missing_letter"
   ]
  },
  {
   "cell_type": "code",
   "execution_count": 195,
   "metadata": {
    "execution": {
     "iopub.execute_input": "2021-06-17T14:20:43.792067Z",
     "iopub.status.busy": "2021-06-17T14:20:43.791068Z",
     "iopub.status.idle": "2021-06-17T14:20:43.805068Z",
     "shell.execute_reply": "2021-06-17T14:20:43.804067Z",
     "shell.execute_reply.started": "2021-06-17T14:20:43.792067Z"
    }
   },
   "outputs": [],
   "source": [
    "# refactoring above after seeing solution\n",
    "import string\n",
    "\n",
    "def find_missing_letter(chars):\n",
    "    # one long alpha list\n",
    "    alpha = list(string.ascii_lowercase) + list(string.ascii_uppercase)\n",
    "    \n",
    "    # figuring out which letter to start using 'alpha'\n",
    "    starting_point = alpha.index(chars[0])\n",
    "    \n",
    "    # determining which letter is missing from 'chars'\n",
    "    for i in range(len(chars)):\n",
    "        if chars[i] != alpha[starting_point + i]:\n",
    "            return alpha[starting_point + i]\n",
    "            "
   ]
  },
  {
   "cell_type": "code",
   "execution_count": 196,
   "metadata": {
    "execution": {
     "iopub.execute_input": "2021-06-17T14:20:44.718070Z",
     "iopub.status.busy": "2021-06-17T14:20:44.718070Z",
     "iopub.status.idle": "2021-06-17T14:20:44.727069Z",
     "shell.execute_reply": "2021-06-17T14:20:44.725069Z",
     "shell.execute_reply.started": "2021-06-17T14:20:44.718070Z"
    }
   },
   "outputs": [
    {
     "data": {
      "text/plain": [
       "'P'"
      ]
     },
     "execution_count": 196,
     "metadata": {},
     "output_type": "execute_result"
    }
   ],
   "source": [
    "chars = ['O', 'Q', 'R', 'S']\n",
    "find_missing_letter(chars)"
   ]
  },
  {
   "cell_type": "code",
   "execution_count": null,
   "metadata": {},
   "outputs": [],
   "source": [
    "# works for lowercase\n",
    "def find_missing_letter(chars):\n",
    "    starting_point = None\n",
    "    for i in range(len(alpha)):\n",
    "        if alpha[i] == chars[0]:\n",
    "            starting_point = i \n",
    "    letter_to_return = None\n",
    "    for i in range(len(chars)):\n",
    "        if chars[i] != alpha[starting_point + i]:\n",
    "            letter_to_return = alpha[starting_point + i]\n",
    "    return letter_to_return"
   ]
  },
  {
   "cell_type": "code",
   "execution_count": 156,
   "metadata": {
    "execution": {
     "iopub.execute_input": "2021-06-17T01:51:01.882630Z",
     "iopub.status.busy": "2021-06-17T01:51:01.882630Z",
     "iopub.status.idle": "2021-06-17T01:51:01.900633Z",
     "shell.execute_reply": "2021-06-17T01:51:01.899632Z",
     "shell.execute_reply.started": "2021-06-17T01:51:01.882630Z"
    }
   },
   "outputs": [],
   "source": [
    "def find_missing_letter(chars):\n",
    "    starting_point = None\n",
    "    for i in range(len(alpha)):\n",
    "        if alpha[i] == chars[0]:\n",
    "            starting_point = i \n",
    "    print(starting_point)    \n",
    "    letter_to_return = None\n",
    "\n",
    "    for i in range(len(chars)):\n",
    "        j = (i + 26) if chars[0].isupper else i\n",
    "        print(f\"i is {i}\")\n",
    "        print(f\"j is {j}\")\n",
    "        print(f\"chars[{i}] is {chars[i]}\")\n",
    "        print(f\"alpha[{starting_point + j}] is {alpha[starting_point + j]}\")\n",
    "        if chars[i] != alpha[starting_point + j]:\n",
    "            letter_to_return = alpha[starting_point + j]\n",
    "    return letter_to_return"
   ]
  },
  {
   "cell_type": "markdown",
   "metadata": {},
   "source": [
    "# Split Strings - 6th kyu \n",
    "\n",
    "Complete the solution so that it splits the string into pairs of two characters. If the string contains an odd number of characters then it should replace the missing second character of the final pair with an underscore ('_').\n",
    "\n",
    "Examples:\n",
    "```\n",
    "solution('abc') # should return ['ab', 'c_']\n",
    "solution('abcdef') # should return ['ab', 'cd', 'ef']\n",
    "```"
   ]
  },
  {
   "cell_type": "code",
   "execution_count": null,
   "metadata": {},
   "outputs": [],
   "source": []
  },
  {
   "cell_type": "code",
   "execution_count": 24,
   "metadata": {
    "execution": {
     "iopub.execute_input": "2021-06-16T21:36:07.317437Z",
     "iopub.status.busy": "2021-06-16T21:36:07.316438Z",
     "iopub.status.idle": "2021-06-16T21:36:07.330444Z",
     "shell.execute_reply": "2021-06-16T21:36:07.328442Z",
     "shell.execute_reply.started": "2021-06-16T21:36:07.317437Z"
    }
   },
   "outputs": [],
   "source": [
    "def solution(text):\n",
    "    split_text = [text[i:i+2] for i in range(0, len(text), 2)]\n",
    "    to_return = []\n",
    "    for chars in split_text:\n",
    "        if len(chars) == 1:\n",
    "            to_return.append(chars + \"_\")\n",
    "        else:\n",
    "            to_return.append(chars)\n",
    "    return to_return "
   ]
  },
  {
   "cell_type": "code",
   "execution_count": 27,
   "metadata": {
    "execution": {
     "iopub.execute_input": "2021-06-16T21:44:57.341440Z",
     "iopub.status.busy": "2021-06-16T21:44:57.341440Z",
     "iopub.status.idle": "2021-06-16T21:44:57.349436Z",
     "shell.execute_reply": "2021-06-16T21:44:57.348434Z",
     "shell.execute_reply.started": "2021-06-16T21:44:57.341440Z"
    }
   },
   "outputs": [],
   "source": [
    "def solution(text):\n",
    "    split_text = [text[i:i+2] for i in range(0, len(text), 2)]\n",
    "    to_return = [chars if len(chars) == 2 else chars+\"_\" for chars in split_text]\n",
    "    return to_return "
   ]
  },
  {
   "cell_type": "code",
   "execution_count": 31,
   "metadata": {
    "execution": {
     "iopub.execute_input": "2021-06-16T21:45:45.371973Z",
     "iopub.status.busy": "2021-06-16T21:45:45.370994Z",
     "iopub.status.idle": "2021-06-16T21:45:45.388978Z",
     "shell.execute_reply": "2021-06-16T21:45:45.385975Z",
     "shell.execute_reply.started": "2021-06-16T21:45:45.371973Z"
    }
   },
   "outputs": [],
   "source": [
    "def solution(text):\n",
    "    split_text = [text[i:i+2] for i in range(0, len(text), 2)]\n",
    "    return [chars if len(chars) == 2 else chars + \"_\" for chars in split_text]"
   ]
  },
  {
   "cell_type": "code",
   "execution_count": 32,
   "metadata": {
    "execution": {
     "iopub.execute_input": "2021-06-16T21:45:46.124976Z",
     "iopub.status.busy": "2021-06-16T21:45:46.124976Z",
     "iopub.status.idle": "2021-06-16T21:45:46.141989Z",
     "shell.execute_reply": "2021-06-16T21:45:46.140973Z",
     "shell.execute_reply.started": "2021-06-16T21:45:46.124976Z"
    }
   },
   "outputs": [
    {
     "data": {
      "text/plain": [
       "['ab', 'cd', 'e_']"
      ]
     },
     "execution_count": 32,
     "metadata": {},
     "output_type": "execute_result"
    }
   ],
   "source": [
    "txt = \"abcde\"\n",
    "solution(txt)"
   ]
  },
  {
   "cell_type": "markdown",
   "metadata": {},
   "source": [
    "# Multiples of 3 or 5 - 6th kyu\n",
    "\n",
    "If we list all the natural numbers below 10 that are multiples of 3 or 5, we get 3, 5, 6 and 9. The sum of these multiples is 23.\n",
    "\n",
    "Finish the solution so that it returns the sum of all the multiples of 3 or 5 below the number passed in.\n",
    "\n",
    "Note: If the number is a multiple of both 3 and 5, only count it once. Also, if a number is negative, return 0(for languages that do have them)"
   ]
  },
  {
   "cell_type": "markdown",
   "metadata": {},
   "source": [
    "## Notes\n",
    "\n",
    "1. Make a list of the numbers below input\n",
    "2. Divide each number by 3 and add it to the list if there's no remainder\n",
    "3. Divide each by 5, etc.\n",
    "4. Make a set to remove duplicates\n",
    "5. Add the set together and return it."
   ]
  },
  {
   "cell_type": "code",
   "execution_count": 51,
   "metadata": {
    "execution": {
     "iopub.execute_input": "2021-06-16T15:56:09.188845Z",
     "iopub.status.busy": "2021-06-16T15:56:09.188845Z",
     "iopub.status.idle": "2021-06-16T15:56:09.210831Z",
     "shell.execute_reply": "2021-06-16T15:56:09.208831Z",
     "shell.execute_reply.started": "2021-06-16T15:56:09.188845Z"
    }
   },
   "outputs": [],
   "source": [
    "def add_multiples(num):\n",
    "    all_nums = [x for x in range(num)]\n",
    "    nums_to_sum = []\n",
    "    for x in range(len(all_nums)):\n",
    "        if (all_nums[x] % 3 == 0) or (all_nums[x] % 5 == 0):\n",
    "            nums_to_sum.append(all_nums[x])\n",
    "    nums_to_sum = list(set(nums_to_sum))\n",
    "    return sum(nums_to_sum)"
   ]
  },
  {
   "cell_type": "code",
   "execution_count": 53,
   "metadata": {
    "execution": {
     "iopub.execute_input": "2021-06-16T15:56:18.904431Z",
     "iopub.status.busy": "2021-06-16T15:56:18.904431Z",
     "iopub.status.idle": "2021-06-16T15:56:18.917438Z",
     "shell.execute_reply": "2021-06-16T15:56:18.914432Z",
     "shell.execute_reply.started": "2021-06-16T15:56:18.904431Z"
    }
   },
   "outputs": [
    {
     "data": {
      "text/plain": [
       "2318"
      ]
     },
     "execution_count": 53,
     "metadata": {},
     "output_type": "execute_result"
    }
   ],
   "source": [
    "add_multiples(100)"
   ]
  },
  {
   "cell_type": "markdown",
   "metadata": {},
   "source": [
    "Here's how to do it in one line"
   ]
  },
  {
   "cell_type": "code",
   "execution_count": null,
   "metadata": {},
   "outputs": [],
   "source": [
    "def solution(number):\n",
    "    return sum(x for x in range(number) if x % 3 == 0 or x % 5 == 0)"
   ]
  },
  {
   "cell_type": "markdown",
   "metadata": {
    "execution": {
     "iopub.execute_input": "2021-06-16T15:32:28.083487Z",
     "iopub.status.busy": "2021-06-16T15:32:28.083487Z",
     "iopub.status.idle": "2021-06-16T15:32:28.102487Z",
     "shell.execute_reply": "2021-06-16T15:32:28.100490Z",
     "shell.execute_reply.started": "2021-06-16T15:32:28.083487Z"
    }
   },
   "source": [
    "# Tech interview"
   ]
  },
  {
   "cell_type": "markdown",
   "metadata": {},
   "source": [
    "From the tech interview: Write a function that will remove all duplicates from a list of intergers.\n",
    "\n",
    "[1, 2, 3, 4, 2, 3, 1, 4] --> [1, 2, 3, 4]"
   ]
  },
  {
   "cell_type": "code",
   "execution_count": 19,
   "metadata": {
    "execution": {
     "iopub.execute_input": "2021-06-16T15:31:58.152316Z",
     "iopub.status.busy": "2021-06-16T15:31:58.151344Z",
     "iopub.status.idle": "2021-06-16T15:31:58.162308Z",
     "shell.execute_reply": "2021-06-16T15:31:58.160306Z",
     "shell.execute_reply.started": "2021-06-16T15:31:58.152316Z"
    }
   },
   "outputs": [],
   "source": [
    "def remove_dups(list_input):\n",
    "    new_set = set(list_input)\n",
    "    new_list = list(new_set)\n",
    "    return new_list"
   ]
  },
  {
   "cell_type": "code",
   "execution_count": 57,
   "metadata": {
    "execution": {
     "iopub.execute_input": "2021-06-16T16:01:52.065693Z",
     "iopub.status.busy": "2021-06-16T16:01:52.065693Z",
     "iopub.status.idle": "2021-06-16T16:01:52.086690Z",
     "shell.execute_reply": "2021-06-16T16:01:52.083697Z",
     "shell.execute_reply.started": "2021-06-16T16:01:52.065693Z"
    }
   },
   "outputs": [
    {
     "data": {
      "text/plain": [
       "[1, 2]"
      ]
     },
     "execution_count": 57,
     "metadata": {},
     "output_type": "execute_result"
    }
   ],
   "source": [
    "remove_dups([1, 2, 1, 2])"
   ]
  },
  {
   "cell_type": "markdown",
   "metadata": {},
   "source": [
    "An easier way"
   ]
  },
  {
   "cell_type": "code",
   "execution_count": 54,
   "metadata": {
    "execution": {
     "iopub.execute_input": "2021-06-16T16:01:26.945632Z",
     "iopub.status.busy": "2021-06-16T16:01:26.944631Z",
     "iopub.status.idle": "2021-06-16T16:01:26.959627Z",
     "shell.execute_reply": "2021-06-16T16:01:26.958632Z",
     "shell.execute_reply.started": "2021-06-16T16:01:26.945632Z"
    }
   },
   "outputs": [],
   "source": [
    "def remove_dups(list_input):\n",
    "    return list(set(list_input))"
   ]
  },
  {
   "cell_type": "code",
   "execution_count": 56,
   "metadata": {
    "execution": {
     "iopub.execute_input": "2021-06-16T16:01:42.003724Z",
     "iopub.status.busy": "2021-06-16T16:01:42.003724Z",
     "iopub.status.idle": "2021-06-16T16:01:42.025720Z",
     "shell.execute_reply": "2021-06-16T16:01:42.024722Z",
     "shell.execute_reply.started": "2021-06-16T16:01:42.003724Z"
    }
   },
   "outputs": [
    {
     "data": {
      "text/plain": [
       "[1, 2]"
      ]
     },
     "execution_count": 56,
     "metadata": {},
     "output_type": "execute_result"
    }
   ],
   "source": [
    "remove_dups([1, 2, 1, 2])"
   ]
  }
 ],
 "metadata": {
  "kernelspec": {
   "display_name": "Python 3",
   "language": "python",
   "name": "python3"
  },
  "language_info": {
   "codemirror_mode": {
    "name": "ipython",
    "version": 3
   },
   "file_extension": ".py",
   "mimetype": "text/x-python",
   "name": "python",
   "nbconvert_exporter": "python",
   "pygments_lexer": "ipython3",
   "version": "3.6.9"
  }
 },
 "nbformat": 4,
 "nbformat_minor": 4
}
