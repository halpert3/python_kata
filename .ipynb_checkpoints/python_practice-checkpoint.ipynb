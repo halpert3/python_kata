{
 "cells": [
  {
   "cell_type": "markdown",
   "metadata": {},
   "source": [
    "# Testing 1-2-3 - 7th\n",
    "\n",
    "Your team is writing a fancy new text editor and you've been tasked with implementing the line numbering.\n",
    "\n",
    "Write a function which takes a list of strings and returns each line prepended by the correct number.\n",
    "\n",
    "The numbering starts at 1. The format is n: string. Notice the colon and space in between.\n",
    "\n",
    "Examples:\n",
    "```\n",
    "number([]) # => []\n",
    "number([\"a\", \"b\", \"c\"]) # => [\"1: a\", \"2: b\", \"3: c\"]\n",
    "```"
   ]
  },
  {
   "cell_type": "code",
   "execution_count": 12,
   "metadata": {
    "execution": {
     "iopub.execute_input": "2021-07-02T21:50:09.203530Z",
     "iopub.status.busy": "2021-07-02T21:50:09.203530Z",
     "iopub.status.idle": "2021-07-02T21:50:09.218531Z",
     "shell.execute_reply": "2021-07-02T21:50:09.217529Z",
     "shell.execute_reply.started": "2021-07-02T21:50:09.203530Z"
    }
   },
   "outputs": [],
   "source": [
    "# this works. Now make it more compact.\n",
    "def number(lines):\n",
    "    new_list = []\n",
    "    for i in range(len(lines)):\n",
    "        new_list.append(f'{i+1}: {lines[i]}')\n",
    "    return new_list\n"
   ]
  },
  {
   "cell_type": "code",
   "execution_count": 14,
   "metadata": {
    "execution": {
     "iopub.execute_input": "2021-07-02T21:52:42.175702Z",
     "iopub.status.busy": "2021-07-02T21:52:42.174699Z",
     "iopub.status.idle": "2021-07-02T21:52:42.185701Z",
     "shell.execute_reply": "2021-07-02T21:52:42.184697Z",
     "shell.execute_reply.started": "2021-07-02T21:52:42.175702Z"
    }
   },
   "outputs": [],
   "source": [
    "# what I submitted\n",
    "\n",
    "def number(lines):\n",
    "    return [f'{i+1}: {lines[i]}' for i in range(len(lines))]"
   ]
  },
  {
   "cell_type": "code",
   "execution_count": 15,
   "metadata": {
    "execution": {
     "iopub.execute_input": "2021-07-02T21:52:43.199609Z",
     "iopub.status.busy": "2021-07-02T21:52:43.199609Z",
     "iopub.status.idle": "2021-07-02T21:52:43.211607Z",
     "shell.execute_reply": "2021-07-02T21:52:43.210611Z",
     "shell.execute_reply.started": "2021-07-02T21:52:43.199609Z"
    }
   },
   "outputs": [
    {
     "data": {
      "text/plain": [
       "['1: a', '2: b', '3: c']"
      ]
     },
     "execution_count": 15,
     "metadata": {},
     "output_type": "execute_result"
    }
   ],
   "source": [
    "number([\"a\", \"b\", \"c\"])"
   ]
  },
  {
   "cell_type": "code",
   "execution_count": 19,
   "metadata": {
    "execution": {
     "iopub.execute_input": "2021-07-02T21:56:37.799358Z",
     "iopub.status.busy": "2021-07-02T21:56:37.799358Z",
     "iopub.status.idle": "2021-07-02T21:56:37.816353Z",
     "shell.execute_reply": "2021-07-02T21:56:37.815350Z",
     "shell.execute_reply.started": "2021-07-02T21:56:37.799358Z"
    }
   },
   "outputs": [
    {
     "name": "stdout",
     "output_type": "stream",
     "text": [
      "0 a\n",
      "1 b\n",
      "2 c\n"
     ]
    }
   ],
   "source": [
    "for count,value in enumerate([\"a\",\"b\",\"c\"]):\n",
    "    print(count, value)"
   ]
  },
  {
   "cell_type": "code",
   "execution_count": 20,
   "metadata": {
    "execution": {
     "iopub.execute_input": "2021-07-02T21:56:46.577106Z",
     "iopub.status.busy": "2021-07-02T21:56:46.577106Z",
     "iopub.status.idle": "2021-07-02T21:56:46.595108Z",
     "shell.execute_reply": "2021-07-02T21:56:46.594106Z",
     "shell.execute_reply.started": "2021-07-02T21:56:46.577106Z"
    }
   },
   "outputs": [
    {
     "name": "stdout",
     "output_type": "stream",
     "text": [
      "3 a\n",
      "4 b\n",
      "5 c\n"
     ]
    }
   ],
   "source": [
    "for count,value in enumerate([\"a\",\"b\",\"c\"],3):\n",
    "    print(count, value)"
   ]
  },
  {
   "cell_type": "markdown",
   "metadata": {},
   "source": [
    "# Break Camel Case - 6th\n",
    "\n",
    "Complete the solution so that the function will break up camel casing, using a space between words.\n",
    "\n",
    "```\n",
    "\"camelCasing\"  =>  \"camel Casing\"\n",
    "\"identifier\"   =>  \"identifier\"\n",
    "\"\"             =>  \"\"\n",
    "```"
   ]
  },
  {
   "cell_type": "code",
   "execution_count": 85,
   "metadata": {
    "execution": {
     "iopub.execute_input": "2021-06-24T19:04:02.929216Z",
     "iopub.status.busy": "2021-06-24T19:04:02.928213Z",
     "iopub.status.idle": "2021-06-24T19:04:02.945212Z",
     "shell.execute_reply": "2021-06-24T19:04:02.944211Z",
     "shell.execute_reply.started": "2021-06-24T19:04:02.929216Z"
    }
   },
   "outputs": [],
   "source": [
    "# the winner!\n",
    "\n",
    "def solution(word):\n",
    "    \n",
    "    # make a list of the indices where capital letters are in the word\n",
    "    cap_indices = []\n",
    "    i = 0\n",
    "    while i < len(word):\n",
    "        if word[i].isupper():\n",
    "            cap_indices.append(i)\n",
    "        i += 1\n",
    "    \n",
    "    # make an empty list for the split word\n",
    "    split_word_as_list = []\n",
    "\n",
    "    for i in range(len(cap_indices)):\n",
    "        # add the first word in the list\n",
    "        if i == 0:\n",
    "            split_word_as_list.append(word[0:cap_indices[0]])\n",
    "        \n",
    "        # add the middle words in the list    \n",
    "        else:\n",
    "            split_word_as_list.append(word[cap_indices[i-1]:cap_indices[i]])\n",
    "        \n",
    "    # add the last word        \n",
    "    split_word_as_list.append(word[cap_indices[-1]:])\n",
    "    \n",
    "    # join everything together with a \" \"\n",
    "    return \" \".join(split_word_as_list)\n",
    "        \n",
    "    "
   ]
  },
  {
   "cell_type": "code",
   "execution_count": 34,
   "metadata": {
    "execution": {
     "iopub.execute_input": "2021-06-24T18:46:06.543351Z",
     "iopub.status.busy": "2021-06-24T18:46:06.542357Z",
     "iopub.status.idle": "2021-06-24T18:46:06.553349Z",
     "shell.execute_reply": "2021-06-24T18:46:06.552353Z",
     "shell.execute_reply.started": "2021-06-24T18:46:06.543351Z"
    }
   },
   "outputs": [],
   "source": [
    "def solution(word):\n",
    "    \n",
    "    # make a list of the indices where capital letters are in the word\n",
    "    cap_indices = []\n",
    "    i = 0\n",
    "    while i < len(word):\n",
    "        if word[i].isupper():\n",
    "            cap_indices.append(i)\n",
    "        i += 1\n",
    "    \n",
    "    # make an empty list of the split word\n",
    "    split_word_as_list = []\n",
    "    print(len(word))\n",
    "    print(cap_indices)\n",
    "    for i in range(len(cap_indices)):\n",
    "        if i == 0:\n",
    "            split_word_as_list.append(word[0:cap_indices[0]])\n",
    "        else:\n",
    "            split_word_as_list.append(word[cap_indices[i-1]:cap_indices[i]])\n",
    "    \n",
    "    return split_word_as_list\n",
    "        \n",
    "    "
   ]
  },
  {
   "cell_type": "code",
   "execution_count": 86,
   "metadata": {
    "execution": {
     "iopub.execute_input": "2021-06-24T19:04:03.614213Z",
     "iopub.status.busy": "2021-06-24T19:04:03.613213Z",
     "iopub.status.idle": "2021-06-24T19:04:03.623218Z",
     "shell.execute_reply": "2021-06-24T19:04:03.622216Z",
     "shell.execute_reply.started": "2021-06-24T19:04:03.614213Z"
    }
   },
   "outputs": [
    {
     "data": {
      "text/plain": [
       "'camel Casing Tummy George Master'"
      ]
     },
     "execution_count": 86,
     "metadata": {},
     "output_type": "execute_result"
    }
   ],
   "source": [
    "solution(\"camelCasingTummyGeorgeMaster\")"
   ]
  },
  {
   "cell_type": "code",
   "execution_count": 11,
   "metadata": {
    "execution": {
     "iopub.execute_input": "2021-06-23T21:57:22.215887Z",
     "iopub.status.busy": "2021-06-23T21:57:22.214889Z",
     "iopub.status.idle": "2021-06-23T21:57:22.235887Z",
     "shell.execute_reply": "2021-06-23T21:57:22.234887Z",
     "shell.execute_reply.started": "2021-06-23T21:57:22.215887Z"
    }
   },
   "outputs": [],
   "source": [
    "import re\n",
    "\n",
    "def solution(word):\n",
    "    # make a list of all capital letters in word\n",
    "    cap_letter_list = re.findall('[A-Z]', word)\n",
    "\n",
    "    for letter in cap_letter_list:\n",
    "        if letter in word:\n",
    "            print(letter)\n",
    "            print('Found')\n",
    "    pass\n"
   ]
  },
  {
   "cell_type": "code",
   "execution_count": 12,
   "metadata": {
    "execution": {
     "iopub.execute_input": "2021-06-23T21:57:23.689888Z",
     "iopub.status.busy": "2021-06-23T21:57:23.688893Z",
     "iopub.status.idle": "2021-06-23T21:57:23.718893Z",
     "shell.execute_reply": "2021-06-23T21:57:23.716888Z",
     "shell.execute_reply.started": "2021-06-23T21:57:23.689888Z"
    }
   },
   "outputs": [
    {
     "name": "stdout",
     "output_type": "stream",
     "text": [
      "C\n",
      "Found\n",
      "X\n",
      "Found\n"
     ]
    }
   ],
   "source": [
    "solution(\"camelCasingX\")"
   ]
  },
  {
   "cell_type": "code",
   "execution_count": null,
   "metadata": {},
   "outputs": [],
   "source": [
    "# for letter in word:\n",
    "#     split_words = [word + delimiter for word in word.split(delimiter) if delimiter]\n",
    "# split_words"
   ]
  },
  {
   "cell_type": "code",
   "execution_count": 25,
   "metadata": {
    "execution": {
     "iopub.execute_input": "2021-06-23T23:43:24.500441Z",
     "iopub.status.busy": "2021-06-23T23:43:24.492440Z",
     "iopub.status.idle": "2021-06-23T23:43:24.537442Z",
     "shell.execute_reply": "2021-06-23T23:43:24.536440Z",
     "shell.execute_reply.started": "2021-06-23T23:43:24.500441Z"
    }
   },
   "outputs": [],
   "source": [
    "import re\n",
    "\n",
    "def solution(word):\n",
    "    # make a list of all capital letters in word\n",
    "    cap_letter_list = re.findall('[A-Z]', word)\n",
    "\n",
    "    i = 0\n",
    "    for letter in cap_letter_list:\n",
    "        print(letter)\n",
    "        print(word.split(letter)[i:i+1])\n",
    "        i += 1\n",
    "    pass"
   ]
  },
  {
   "cell_type": "code",
   "execution_count": 26,
   "metadata": {
    "execution": {
     "iopub.execute_input": "2021-06-23T23:43:26.288073Z",
     "iopub.status.busy": "2021-06-23T23:43:26.288073Z",
     "iopub.status.idle": "2021-06-23T23:43:26.303070Z",
     "shell.execute_reply": "2021-06-23T23:43:26.302069Z",
     "shell.execute_reply.started": "2021-06-23T23:43:26.288073Z"
    }
   },
   "outputs": [
    {
     "name": "stdout",
     "output_type": "stream",
     "text": [
      "C\n",
      "['camel']\n",
      "X\n",
      "['']\n"
     ]
    }
   ],
   "source": [
    "solution(\"camelCasingX\")"
   ]
  },
  {
   "cell_type": "code",
   "execution_count": null,
   "metadata": {},
   "outputs": [],
   "source": []
  },
  {
   "cell_type": "code",
   "execution_count": null,
   "metadata": {},
   "outputs": [],
   "source": []
  },
  {
   "cell_type": "markdown",
   "metadata": {},
   "source": [
    "# Map over a list of lists - 7th\n",
    "\n",
    "https://www.codewars.com/kata/606b43f4adea6e00425dff42/train/python\n",
    "\n",
    "Write a function which maps a function over the lists in a list:\n",
    "\n",
    "Example 1:\n",
    "\n",
    "```\n",
    "x = [[1,2,3],\n",
    "     [4,5,6]]\n",
    "     \n",
    "grid_map(x, lambda x: x + 1)\n",
    "# returns [[2,3,4],[5,6,7]]\n",
    "\n",
    "grid_map(x, lambda x: x ** 2)\n",
    "# [[1,2,3],\n",
    "     [4,5,6]]returns [[1,4,9],[16,25,36]]\n",
    "```"
   ]
  },
  {
   "cell_type": "code",
   "execution_count": 36,
   "metadata": {
    "execution": {
     "iopub.execute_input": "2021-06-21T21:12:14.371549Z",
     "iopub.status.busy": "2021-06-21T21:12:14.371549Z",
     "iopub.status.idle": "2021-06-21T21:12:14.383546Z",
     "shell.execute_reply": "2021-06-21T21:12:14.382545Z",
     "shell.execute_reply.started": "2021-06-21T21:12:14.371549Z"
    }
   },
   "outputs": [],
   "source": [
    "# this is what I submitted\n",
    "def grid_map(inp, oper):\n",
    "    new_list = []\n",
    "    for count in range(len(inp)):\n",
    "        result = map(oper, inp[count])\n",
    "        new_list.append(list(result))\n",
    "    return new_list\n",
    "        "
   ]
  },
  {
   "cell_type": "code",
   "execution_count": 32,
   "metadata": {
    "execution": {
     "iopub.execute_input": "2021-06-21T21:06:19.635774Z",
     "iopub.status.busy": "2021-06-21T21:06:19.634774Z",
     "iopub.status.idle": "2021-06-21T21:06:19.649769Z",
     "shell.execute_reply": "2021-06-21T21:06:19.648769Z",
     "shell.execute_reply.started": "2021-06-21T21:06:19.635774Z"
    }
   },
   "outputs": [],
   "source": [
    "def grid_map(inp, oper):\n",
    "    counter = len(inp)\n",
    "    new_list = []\n",
    "    for count in range(counter):\n",
    "        result = map(oper, inp[count])\n",
    "        new_list.append(list(result))\n",
    "    return new_list\n",
    "        "
   ]
  },
  {
   "cell_type": "code",
   "execution_count": 37,
   "metadata": {
    "execution": {
     "iopub.execute_input": "2021-06-21T21:12:34.417431Z",
     "iopub.status.busy": "2021-06-21T21:12:34.416463Z",
     "iopub.status.idle": "2021-06-21T21:12:34.431427Z",
     "shell.execute_reply": "2021-06-21T21:12:34.429425Z",
     "shell.execute_reply.started": "2021-06-21T21:12:34.416463Z"
    }
   },
   "outputs": [
    {
     "data": {
      "text/plain": [
       "[[1, 4, 9], [16, 25, 36]]"
      ]
     },
     "execution_count": 37,
     "metadata": {},
     "output_type": "execute_result"
    }
   ],
   "source": [
    "inp = [[1,2,3],\n",
    "       [4,5,6]]\n",
    "grid_map(inp, lambda x: x ** 2)"
   ]
  },
  {
   "cell_type": "code",
   "execution_count": 38,
   "metadata": {
    "execution": {
     "iopub.execute_input": "2021-06-21T21:13:06.882755Z",
     "iopub.status.busy": "2021-06-21T21:13:06.881754Z",
     "iopub.status.idle": "2021-06-21T21:13:06.905752Z",
     "shell.execute_reply": "2021-06-21T21:13:06.904785Z",
     "shell.execute_reply.started": "2021-06-21T21:13:06.882755Z"
    }
   },
   "outputs": [
    {
     "data": {
      "text/plain": [
       "[1, 3, 5, 7]"
      ]
     },
     "execution_count": 38,
     "metadata": {},
     "output_type": "execute_result"
    }
   ],
   "source": [
    "result = map(lambda x: x + 1, [0, 2, 4, 6])\n",
    "list(result)"
   ]
  },
  {
   "cell_type": "markdown",
   "metadata": {},
   "source": [
    "# I'm everywhere! - 7th\n",
    "\n",
    "https://www.codewars.com/kata/6097a9f20d32c2000d0bdb98/train/python\n",
    "\n",
    "## Overview\n",
    "Many people know that Apple uses the letter \"i\" in almost all of its devices to emphasize its personality.\n",
    "\n",
    "And so John, a programmer at Apple, was given the task of making a program that would add that letter to every word. Let's help him do it, too.\n",
    "\n",
    "## Task:\n",
    "Your task is to make a function that takes the value of word and returns it with an \"i\" at the beginning of the word. For example we get the word \"Phone\", so we must return \"iPhone\". But we have a few rules:\n",
    "\n",
    "1. The word should not begin with the letter \"I\", for example Inspire.\n",
    "2. The number of vowels should not be greater than or equal to the number of consonants, for example East or Peace. (\"y\" is considered a consonant)\n",
    "3. The first letter should not be lowercase, for example road.\n",
    "If the word does not meet the rules, we return \"Invalid word\"."
   ]
  },
  {
   "cell_type": "code",
   "execution_count": 22,
   "metadata": {
    "execution": {
     "iopub.execute_input": "2021-06-21T18:00:34.621528Z",
     "iopub.status.busy": "2021-06-21T18:00:34.621528Z",
     "iopub.status.idle": "2021-06-21T18:00:34.636529Z",
     "shell.execute_reply": "2021-06-21T18:00:34.635521Z",
     "shell.execute_reply.started": "2021-06-21T18:00:34.621528Z"
    }
   },
   "outputs": [],
   "source": [
    "# winner! \n",
    "import re\n",
    "\n",
    "def i(word):\n",
    "    vowell_count = len(re.findall('[aeiouAEIOU]', word))\n",
    "    conson_count = len(re.findall('[^aeiouAEIOU]', word))\n",
    "\n",
    "    if word == \"\": \n",
    "        return \"Invalid word\"\n",
    "    if word[0] == \"I\": \n",
    "        return \"Invalid word\"\n",
    "    if word[0].islower(): \n",
    "        return \"Invalid word\"\n",
    "    if vowell_count >= conson_count: \n",
    "        return \"Invalid word\"\n",
    "    \n",
    "    return \"i\"+word\n",
    "    "
   ]
  },
  {
   "cell_type": "code",
   "execution_count": 39,
   "metadata": {
    "execution": {
     "iopub.execute_input": "2021-06-21T18:13:12.819347Z",
     "iopub.status.busy": "2021-06-21T18:13:12.818344Z",
     "iopub.status.idle": "2021-06-21T18:13:12.838346Z",
     "shell.execute_reply": "2021-06-21T18:13:12.837344Z",
     "shell.execute_reply.started": "2021-06-21T18:13:12.819347Z"
    }
   },
   "outputs": [
    {
     "data": {
      "text/plain": [
       "'Invalid Word'"
      ]
     },
     "execution_count": 39,
     "metadata": {},
     "output_type": "execute_result"
    }
   ],
   "source": [
    "\n",
    "i(\"East\")"
   ]
  },
  {
   "cell_type": "code",
   "execution_count": 12,
   "metadata": {
    "execution": {
     "iopub.execute_input": "2021-06-21T17:50:09.017777Z",
     "iopub.status.busy": "2021-06-21T17:50:09.017777Z",
     "iopub.status.idle": "2021-06-21T17:50:09.027774Z",
     "shell.execute_reply": "2021-06-21T17:50:09.026776Z",
     "shell.execute_reply.started": "2021-06-21T17:50:09.017777Z"
    }
   },
   "outputs": [
    {
     "data": {
      "text/plain": [
       "True"
      ]
     },
     "execution_count": 12,
     "metadata": {},
     "output_type": "execute_result"
    }
   ],
   "source": [
    "txt = \"The rain in Spain\"\n",
    "x = re.search(\"^The.*Spain$\", txt) \n",
    "bool(x)"
   ]
  },
  {
   "cell_type": "code",
   "execution_count": 18,
   "metadata": {
    "execution": {
     "iopub.execute_input": "2021-06-21T17:56:38.202474Z",
     "iopub.status.busy": "2021-06-21T17:56:38.201475Z",
     "iopub.status.idle": "2021-06-21T17:56:38.221474Z",
     "shell.execute_reply": "2021-06-21T17:56:38.220472Z",
     "shell.execute_reply.started": "2021-06-21T17:56:38.202474Z"
    }
   },
   "outputs": [
    {
     "data": {
      "text/plain": [
       "2"
      ]
     },
     "execution_count": 18,
     "metadata": {},
     "output_type": "execute_result"
    }
   ],
   "source": [
    "string = \"PeaceY\"\n",
    "counter = len(re.findall('[^aeiouyAEIOUY]', string))\n",
    "counter"
   ]
  },
  {
   "cell_type": "code",
   "execution_count": 21,
   "metadata": {
    "execution": {
     "iopub.execute_input": "2021-06-21T17:58:53.672868Z",
     "iopub.status.busy": "2021-06-21T17:58:53.671864Z",
     "iopub.status.idle": "2021-06-21T17:58:53.679866Z",
     "shell.execute_reply": "2021-06-21T17:58:53.678865Z",
     "shell.execute_reply.started": "2021-06-21T17:58:53.672868Z"
    }
   },
   "outputs": [
    {
     "data": {
      "text/plain": [
       "True"
      ]
     },
     "execution_count": 21,
     "metadata": {},
     "output_type": "execute_result"
    }
   ],
   "source": [
    "\"Peace\"[0].isupper()"
   ]
  },
  {
   "cell_type": "code",
   "execution_count": 6,
   "metadata": {
    "execution": {
     "iopub.execute_input": "2021-06-21T17:46:46.959520Z",
     "iopub.status.busy": "2021-06-21T17:46:46.959520Z",
     "iopub.status.idle": "2021-06-21T17:46:46.973523Z",
     "shell.execute_reply": "2021-06-21T17:46:46.972520Z",
     "shell.execute_reply.started": "2021-06-21T17:46:46.959520Z"
    }
   },
   "outputs": [
    {
     "data": {
      "text/plain": [
       "'iPhone'"
      ]
     },
     "execution_count": 6,
     "metadata": {},
     "output_type": "execute_result"
    }
   ],
   "source": [
    "i(\"Phone\")"
   ]
  },
  {
   "cell_type": "code",
   "execution_count": 8,
   "metadata": {
    "execution": {
     "iopub.execute_input": "2021-06-21T17:47:02.532148Z",
     "iopub.status.busy": "2021-06-21T17:47:02.532148Z",
     "iopub.status.idle": "2021-06-21T17:47:02.545146Z",
     "shell.execute_reply": "2021-06-21T17:47:02.544144Z",
     "shell.execute_reply.started": "2021-06-21T17:47:02.532148Z"
    }
   },
   "outputs": [
    {
     "data": {
      "text/plain": [
       "'Invalid Word'"
      ]
     },
     "execution_count": 8,
     "metadata": {},
     "output_type": "execute_result"
    }
   ],
   "source": [
    "i(\"igloo\")"
   ]
  },
  {
   "cell_type": "markdown",
   "metadata": {},
   "source": [
    "# Reverse Words - 7th\n",
    "\n",
    "Complete the function that accepts a string parameter, and reverses each word in the string. All spaces in the string should be retained.\n",
    "\n",
    "Examples\n",
    "```\n",
    "This is an example!\" ==> \"sihT si na !elpmaxe\"\n",
    "\"double  spaces\"      ==> \"elbuod  secaps\"\n",
    "```"
   ]
  },
  {
   "cell_type": "code",
   "execution_count": 42,
   "metadata": {
    "execution": {
     "iopub.execute_input": "2021-06-20T22:43:29.871982Z",
     "iopub.status.busy": "2021-06-20T22:43:29.870980Z",
     "iopub.status.idle": "2021-06-20T22:43:29.886979Z",
     "shell.execute_reply": "2021-06-20T22:43:29.885979Z",
     "shell.execute_reply.started": "2021-06-20T22:43:29.871982Z"
    }
   },
   "outputs": [],
   "source": [
    "def reverse_words(text):\n",
    "    # split the text into a list. Use \" \" to retain any double spaces per instructions\n",
    "    split_words = text.split(\" \")\n",
    "    \n",
    "    # use slicing [::-1] in a for loop to reverse each word\n",
    "    reversed_words = [word[::-1] for word in split_words]\n",
    "    \n",
    "    # join the list together into a string with \" \" between each word\n",
    "    return \" \".join(reversed_words)"
   ]
  },
  {
   "cell_type": "code",
   "execution_count": null,
   "metadata": {},
   "outputs": [],
   "source": [
    "# Note there's also a reverse"
   ]
  },
  {
   "cell_type": "code",
   "execution_count": 43,
   "metadata": {
    "execution": {
     "iopub.execute_input": "2021-06-20T22:43:32.438316Z",
     "iopub.status.busy": "2021-06-20T22:43:32.438316Z",
     "iopub.status.idle": "2021-06-20T22:43:32.450314Z",
     "shell.execute_reply": "2021-06-20T22:43:32.449315Z",
     "shell.execute_reply.started": "2021-06-20T22:43:32.438316Z"
    }
   },
   "outputs": [
    {
     "data": {
      "text/plain": [
       "'ehT kciuq nworb xof spmuj revo eht yzal  .god'"
      ]
     },
     "execution_count": 43,
     "metadata": {},
     "output_type": "execute_result"
    }
   ],
   "source": [
    "reverse_words('The quick brown fox jumps over the lazy  dog.')"
   ]
  },
  {
   "cell_type": "code",
   "execution_count": null,
   "metadata": {},
   "outputs": [],
   "source": []
  },
  {
   "cell_type": "markdown",
   "metadata": {},
   "source": [
    "# String Ends With - 7th\n",
    "\n",
    "Complete the solution so that it returns true if the first argument(string) passed in ends with the 2nd argument (also a string).\n",
    "\n",
    "Examples:\n",
    "```\n",
    "solution('abc', 'bc') # returns true\n",
    "solution('abc', 'd') # returns false\n",
    "```\n",
    "\n",
    "---"
   ]
  },
  {
   "cell_type": "code",
   "execution_count": 17,
   "metadata": {
    "execution": {
     "iopub.execute_input": "2021-06-20T22:16:41.604557Z",
     "iopub.status.busy": "2021-06-20T22:16:41.604557Z",
     "iopub.status.idle": "2021-06-20T22:16:41.615558Z",
     "shell.execute_reply": "2021-06-20T22:16:41.614557Z",
     "shell.execute_reply.started": "2021-06-20T22:16:41.604557Z"
    }
   },
   "outputs": [],
   "source": [
    "# my answer\n",
    "\n",
    "def solution(string, ending):\n",
    "    length = len(ending)\n",
    "    \n",
    "    if length == 0: \n",
    "        return True\n",
    "    else:\n",
    "        return string[-length:] == ending "
   ]
  },
  {
   "cell_type": "code",
   "execution_count": 20,
   "metadata": {
    "execution": {
     "iopub.execute_input": "2021-06-20T22:24:19.182543Z",
     "iopub.status.busy": "2021-06-20T22:24:19.181544Z",
     "iopub.status.idle": "2021-06-20T22:24:19.192545Z",
     "shell.execute_reply": "2021-06-20T22:24:19.191543Z",
     "shell.execute_reply.started": "2021-06-20T22:24:19.182543Z"
    }
   },
   "outputs": [],
   "source": [
    "# other answer\n",
    "def solution(string, ending):\n",
    "    return string.endswith(ending)"
   ]
  },
  {
   "cell_type": "code",
   "execution_count": 21,
   "metadata": {
    "execution": {
     "iopub.execute_input": "2021-06-20T22:24:20.249544Z",
     "iopub.status.busy": "2021-06-20T22:24:20.248541Z",
     "iopub.status.idle": "2021-06-20T22:24:20.269545Z",
     "shell.execute_reply": "2021-06-20T22:24:20.267541Z",
     "shell.execute_reply.started": "2021-06-20T22:24:20.249544Z"
    }
   },
   "outputs": [
    {
     "data": {
      "text/plain": [
       "True"
      ]
     },
     "execution_count": 21,
     "metadata": {},
     "output_type": "execute_result"
    }
   ],
   "source": [
    "solution('abc', 'bc') "
   ]
  },
  {
   "cell_type": "code",
   "execution_count": 22,
   "metadata": {
    "execution": {
     "iopub.execute_input": "2021-06-20T22:24:24.434542Z",
     "iopub.status.busy": "2021-06-20T22:24:24.433546Z",
     "iopub.status.idle": "2021-06-20T22:24:24.455542Z",
     "shell.execute_reply": "2021-06-20T22:24:24.453543Z",
     "shell.execute_reply.started": "2021-06-20T22:24:24.434542Z"
    }
   },
   "outputs": [
    {
     "data": {
      "text/plain": [
       "False"
      ]
     },
     "execution_count": 22,
     "metadata": {},
     "output_type": "execute_result"
    }
   ],
   "source": [
    "solution('abc', 'd')"
   ]
  },
  {
   "cell_type": "markdown",
   "metadata": {},
   "source": [
    "# The Office V - Find a chair - 6th\n",
    "\n",
    "So you've found a meeting room. You arrive there ready to present, and find that someone has taken one or more of the chairs! You need to find some Check all the other meeting rooms to see if all of the chairs are in use.\n",
    "\n",
    "Your meeting room can take up to `8` chairs. `need` will tell you how many have been taken. You need to find that many.\n",
    "\n",
    "Find the spare chairs from the array of meeting rooms. Each meeting room tuple will have the number of occupants as a string. Each occupant is represented by `'X'`. The room tuple will also have an integer telling you how many chairs there are in the room.\n",
    "\n",
    "You should return an array of integers that shows how many chairs you take from each room in order, up until you have the required amount.\n",
    "\n",
    "example:\n",
    "```\n",
    "[['XXX', 3], ['XXXXX', 6], ['XXXXXX', 9], ['XXX',2]] \n",
    "```\n",
    "when you need 4 chairs:\n",
    "\n",
    "`result -> [0, 1, 3]` no chairs free in room 0, take `1` from room 1, take `3` from room 2. no need to consider room 3 as you have your `4` chairs already.\n",
    "\n",
    "If you need no chairs, return `\"Game On\"`. If there aren't enough spare chairs available, return `\"Not enough!\"`."
   ]
  },
  {
   "cell_type": "code",
   "execution_count": 384,
   "metadata": {
    "execution": {
     "iopub.execute_input": "2021-06-18T17:00:28.858537Z",
     "iopub.status.busy": "2021-06-18T17:00:28.858537Z",
     "iopub.status.idle": "2021-06-18T17:00:28.878536Z",
     "shell.execute_reply": "2021-06-18T17:00:28.877647Z",
     "shell.execute_reply.started": "2021-06-18T17:00:28.858537Z"
    }
   },
   "outputs": [],
   "source": [
    "def meeting(rooms, need):\n",
    "    if need == 0:\n",
    "        return \"Game On\"\n",
    "    \n",
    "    available_chairs = []\n",
    "    for count in range(len(rooms)):\n",
    "        x = rooms[count][1] - len(rooms[count][0])\n",
    "        available_chairs.append(x)\n",
    "\n",
    "    # remove any negative numbers from available chairs\n",
    "    available_chairs = [x if not x < 0 else 0 for x in available_chairs]\n",
    "    \n",
    "    # make the list of chairs to take from the available chairs\n",
    "    chairs_to_take = []\n",
    "    for count in range(len(available_chairs)):\n",
    "        if (sum(available_chairs[0:count]) < need):\n",
    "            chairs_to_take.append(available_chairs[count])\n",
    "    \n",
    "    if sum(chairs_to_take) < need:\n",
    "        return \"Not enough!\"\n",
    "    \n",
    "    # if there are too many chairs, subtract from the last one in list\n",
    "    if sum(chairs_to_take) > need:\n",
    "        chairs_to_take[-1] -= sum(chairs_to_take) - need\n",
    "        \n",
    "    return chairs_to_take\n",
    "    \n"
   ]
  },
  {
   "cell_type": "code",
   "execution_count": 385,
   "metadata": {
    "execution": {
     "iopub.execute_input": "2021-06-18T17:00:29.988364Z",
     "iopub.status.busy": "2021-06-18T17:00:29.987363Z",
     "iopub.status.idle": "2021-06-18T17:00:30.004366Z",
     "shell.execute_reply": "2021-06-18T17:00:30.003368Z",
     "shell.execute_reply.started": "2021-06-18T17:00:29.988364Z"
    }
   },
   "outputs": [
    {
     "data": {
      "text/plain": [
       "[0, 0, 0, 0, 3]"
      ]
     },
     "execution_count": 385,
     "metadata": {},
     "output_type": "execute_result"
    }
   ],
   "source": [
    "meeting([['XXXXX', 5], ['XXXXX', 4], ['XX', 2], ['XXXXXX', 4], ['', 8], ['XX', 3], ['XXXXXXX', 7]], 3)"
   ]
  },
  {
   "cell_type": "code",
   "execution_count": 373,
   "metadata": {
    "execution": {
     "iopub.execute_input": "2021-06-18T16:46:23.834738Z",
     "iopub.status.busy": "2021-06-18T16:46:23.833743Z",
     "iopub.status.idle": "2021-06-18T16:46:23.857739Z",
     "shell.execute_reply": "2021-06-18T16:46:23.856738Z",
     "shell.execute_reply.started": "2021-06-18T16:46:23.834738Z"
    }
   },
   "outputs": [
    {
     "name": "stdout",
     "output_type": "stream",
     "text": [
      "sum(available_chairs) 5\n",
      "need 5\n"
     ]
    },
    {
     "data": {
      "text/plain": [
       "'Game On'"
      ]
     },
     "execution_count": 373,
     "metadata": {},
     "output_type": "execute_result"
    }
   ],
   "source": [
    "meeting([[\"XXX\", 1], [\"XXXXXX\", 6], [\"X\", 2], [\"XXXXXX\", 8], [\"X\", 3], [\"XXX\", 1]], 5)"
   ]
  },
  {
   "cell_type": "markdown",
   "metadata": {},
   "source": [
    "# Find the party outlier - 6th\n",
    "\n",
    "You are given an array (which will have a length of at least 3, but could be very large) containing integers. The array is either entirely comprised of odd integers or entirely comprised of even integers except for a single integer N. Write a method that takes the array as an argument and returns this \"outlier\" N.\n",
    "\n",
    "```\n",
    "[2, 4, 0, 100, 4, 11, 2602, 36]\n",
    "Should return: 11 (the only odd number)\n",
    "\n",
    "[160, 3, 1719, 19, 11, 13, -21]\n",
    "Should return: 160 (the only even number)\n",
    "```"
   ]
  },
  {
   "cell_type": "code",
   "execution_count": 301,
   "metadata": {
    "execution": {
     "iopub.execute_input": "2021-06-17T23:59:12.862294Z",
     "iopub.status.busy": "2021-06-17T23:59:12.861292Z",
     "iopub.status.idle": "2021-06-17T23:59:12.874293Z",
     "shell.execute_reply": "2021-06-17T23:59:12.873291Z",
     "shell.execute_reply.started": "2021-06-17T23:59:12.862294Z"
    }
   },
   "outputs": [],
   "source": [
    "# this works unless the first number is odd\n",
    "def find_outlier(integers):\n",
    "    \n",
    "    even_set = True if (integers[0] % 2 == 0 and integers[1] % 2 == 0) or (integers[0] % 2 == 0 and integers[2] % 2 == 0) else False\n",
    "    print(even_set)\n",
    "    if even_set:\n",
    "        for x in range(len(integers)):\n",
    "            if integers[x] % 2 != 0:\n",
    "                return integers[x]\n",
    "    else:\n",
    "        for x in range(len(integers)):\n",
    "            if integers[x] % 2 == 0:\n",
    "                return integers[x]\n",
    "    \n",
    "\n",
    "    "
   ]
  },
  {
   "cell_type": "code",
   "execution_count": 322,
   "metadata": {
    "execution": {
     "iopub.execute_input": "2021-06-18T02:19:22.929106Z",
     "iopub.status.busy": "2021-06-18T02:19:22.929106Z",
     "iopub.status.idle": "2021-06-18T02:19:22.952104Z",
     "shell.execute_reply": "2021-06-18T02:19:22.951108Z",
     "shell.execute_reply.started": "2021-06-18T02:19:22.929106Z"
    }
   },
   "outputs": [],
   "source": [
    "def find_outlier(integers):\n",
    "    \n",
    "    # Check if the first three numbers are even\n",
    "    num_1_even = 1 if (integers[0] % 2 == 0) else 0\n",
    "    num_2_even = 1 if (integers[1] % 2 == 0) else 0\n",
    "    num_3_even = 1 if (integers[2] % 2 == 0) else 0\n",
    "    \n",
    "    # the set is an 'even' set if at least 2 out of the first 3 numbers are even \n",
    "    even_set = True if sum([num_1_even, num_2_even, num_3_even]) >= 2 else False\n",
    "    \n",
    "    # find the outlier if an even set\n",
    "    if even_set:\n",
    "        for x in range(len(integers)):\n",
    "            if integers[x] % 2 != 0:\n",
    "                return integers[x]\n",
    "    # find the outlier if an odd set\n",
    "    else:\n",
    "        for x in range(len(integers)):\n",
    "            if integers[x] % 2 == 0:\n",
    "                return integers[x]\n",
    "    \n"
   ]
  },
  {
   "cell_type": "code",
   "execution_count": 323,
   "metadata": {
    "execution": {
     "iopub.execute_input": "2021-06-18T02:19:25.211442Z",
     "iopub.status.busy": "2021-06-18T02:19:25.210442Z",
     "iopub.status.idle": "2021-06-18T02:19:25.227447Z",
     "shell.execute_reply": "2021-06-18T02:19:25.225443Z",
     "shell.execute_reply.started": "2021-06-18T02:19:25.211442Z"
    }
   },
   "outputs": [
    {
     "name": "stdout",
     "output_type": "stream",
     "text": [
      "num_1_even: 1\n",
      "num_2_even: 0\n",
      "num_3_even: 0\n"
     ]
    },
    {
     "data": {
      "text/plain": [
       "160"
      ]
     },
     "execution_count": 323,
     "metadata": {},
     "output_type": "execute_result"
    }
   ],
   "source": [
    "integers = [160, 3, 1719, 19, 11, 13, -21]\n",
    "find_outlier(integers)"
   ]
  },
  {
   "cell_type": "code",
   "execution_count": 324,
   "metadata": {
    "execution": {
     "iopub.execute_input": "2021-06-18T02:19:27.126337Z",
     "iopub.status.busy": "2021-06-18T02:19:27.126337Z",
     "iopub.status.idle": "2021-06-18T02:19:27.149338Z",
     "shell.execute_reply": "2021-06-18T02:19:27.147336Z",
     "shell.execute_reply.started": "2021-06-18T02:19:27.126337Z"
    }
   },
   "outputs": [
    {
     "name": "stdout",
     "output_type": "stream",
     "text": [
      "num_1_even: 1\n",
      "num_2_even: 1\n",
      "num_3_even: 1\n"
     ]
    },
    {
     "data": {
      "text/plain": [
       "11"
      ]
     },
     "execution_count": 324,
     "metadata": {},
     "output_type": "execute_result"
    }
   ],
   "source": [
    "integers = [2, 4, 0, 100, 4, 11, 2602, 36]\n",
    "find_outlier(integers)"
   ]
  },
  {
   "cell_type": "code",
   "execution_count": 325,
   "metadata": {
    "execution": {
     "iopub.execute_input": "2021-06-18T02:19:29.362338Z",
     "iopub.status.busy": "2021-06-18T02:19:29.361334Z",
     "iopub.status.idle": "2021-06-18T02:19:29.381337Z",
     "shell.execute_reply": "2021-06-18T02:19:29.380341Z",
     "shell.execute_reply.started": "2021-06-18T02:19:29.362338Z"
    }
   },
   "outputs": [
    {
     "name": "stdout",
     "output_type": "stream",
     "text": [
      "num_1_even: 0\n",
      "num_2_even: 1\n",
      "num_3_even: 1\n"
     ]
    },
    {
     "data": {
      "text/plain": [
       "-4028645"
      ]
     },
     "execution_count": 325,
     "metadata": {},
     "output_type": "execute_result"
    }
   ],
   "source": [
    "integers = [-4028645, 7536636, -3130152, 4005908, 6024006, 2302982, 6518154, 6439818, -3320684, 4170042, -2204478, -3365240, -8584540, -4659544, 9584132, 9317906, 3178276, -7137868, -2282176, 288036, 6223786, 2690730, 6038492, -8441372, -5194224, 4268204, 1581912, -4244094, -7807180, -9218948, 1448742, 6488118, 4629400]\n",
    "\n",
    "find_outlier(integers)"
   ]
  },
  {
   "cell_type": "markdown",
   "metadata": {},
   "source": [
    "# Return a string's even characters - 7th\n",
    "\n",
    "Write a function that returns a sequence (index begins with 1) of all the even characters from a string. If the string is smaller than two characters or longer than 100 characters, the function should return \"invalid string\".\n",
    "\n",
    "For example:\n",
    "```\n",
    "\"abcdefghijklm\" --> [\"b\", \"d\", \"f\", \"h\", \"j\", \"l\"]\n",
    "\"a\"             --> \"invalid string\"\n",
    "\n",
    "```"
   ]
  },
  {
   "cell_type": "markdown",
   "metadata": {},
   "source": [
    "### Notes\n",
    " - Split string\n",
    " - find index of lists"
   ]
  },
  {
   "cell_type": "code",
   "execution_count": 240,
   "metadata": {
    "execution": {
     "iopub.execute_input": "2021-06-17T21:28:05.544291Z",
     "iopub.status.busy": "2021-06-17T21:28:05.543292Z",
     "iopub.status.idle": "2021-06-17T21:28:05.553293Z",
     "shell.execute_reply": "2021-06-17T21:28:05.552292Z",
     "shell.execute_reply.started": "2021-06-17T21:28:05.544291Z"
    }
   },
   "outputs": [],
   "source": [
    "# this works\n",
    "def even_chars(st):     \n",
    "    if len(st) < 2 or len(st) > 100:\n",
    "        return \"invalid string\"\n",
    "    \n",
    "    # split st into list of chars\n",
    "    chars = [x for x in st]\n",
    "    \n",
    "    new_list = []\n",
    "    for x in range(len(chars)):\n",
    "        if ((x + 1)) % 2 == 0:\n",
    "            new_list.append(chars[x])\n",
    "    return new_list\n"
   ]
  },
  {
   "cell_type": "code",
   "execution_count": 251,
   "metadata": {
    "execution": {
     "iopub.execute_input": "2021-06-17T21:38:52.906846Z",
     "iopub.status.busy": "2021-06-17T21:38:52.905848Z",
     "iopub.status.idle": "2021-06-17T21:38:52.932847Z",
     "shell.execute_reply": "2021-06-17T21:38:52.931843Z",
     "shell.execute_reply.started": "2021-06-17T21:38:52.906846Z"
    }
   },
   "outputs": [],
   "source": [
    "# re-factor\n",
    "def even_chars(st):     \n",
    "    if len(st) < 2 or len(st) > 100:\n",
    "        return \"invalid string\"\n",
    "    \n",
    "    chars = [x for x in st]\n",
    "    \n",
    "    return [chars[x] for x in range(len(chars)) if ((x % 2 == 1))]\n"
   ]
  },
  {
   "cell_type": "code",
   "execution_count": null,
   "metadata": {},
   "outputs": [],
   "source": [
    "# re-factor 2\n",
    "\n",
    "def even_chars(st):     \n",
    "    if len(st) < 2 or len(st) > 100:\n",
    "        return \"invalid string\"\n",
    "    \n",
    "    chars = list(st)\n",
    "    \n",
    "    return [chars[x] for x in range(len(chars)) if ((x % 2 == 1))]\n"
   ]
  },
  {
   "cell_type": "code",
   "execution_count": 252,
   "metadata": {
    "execution": {
     "iopub.execute_input": "2021-06-17T21:38:53.785846Z",
     "iopub.status.busy": "2021-06-17T21:38:53.784848Z",
     "iopub.status.idle": "2021-06-17T21:38:53.797848Z",
     "shell.execute_reply": "2021-06-17T21:38:53.796846Z",
     "shell.execute_reply.started": "2021-06-17T21:38:53.785846Z"
    }
   },
   "outputs": [
    {
     "data": {
      "text/plain": [
       "['b', 'd', 'f', 'h', 'j', 'l']"
      ]
     },
     "execution_count": 252,
     "metadata": {},
     "output_type": "execute_result"
    }
   ],
   "source": [
    "# st = \"abcdefghijklm\"\n",
    "st = 'abcdefghijklm'\n",
    "even_chars(st)"
   ]
  },
  {
   "cell_type": "markdown",
   "metadata": {},
   "source": [
    "# Who likes it - 6th kyu\n",
    "\n",
    "You probably know the \"like\" system from Facebook and other pages. People can \"like\" blog posts, pictures or other items. We want to create the text that should be displayed next to such an item.\n",
    "\n",
    "Implement a function likes :: [String] -> String, which must take in input array, containing the names of people who like an item. It must return the display text as shown in the examples:\n",
    "\n",
    "```\n",
    "likes([]) # must be \"no one likes this\"\n",
    "likes([\"Peter\"]) # must be \"Peter likes this\"\n",
    "likes([\"Jacob\", \"Alex\"]) # must be \"Jacob and Alex like this\"\n",
    "likes([\"Max\", \"John\", \"Mark\"]) # must be \"Max, John and Mark like this\"\n",
    "likes([\"Alex\", \"Jacob\", \"Mark\", \"Max\"]) # must be \"Alex, Jacob and 2 others like this\"\n",
    "```"
   ]
  },
  {
   "cell_type": "code",
   "execution_count": 218,
   "metadata": {
    "execution": {
     "iopub.execute_input": "2021-06-17T14:39:53.667565Z",
     "iopub.status.busy": "2021-06-17T14:39:53.666564Z",
     "iopub.status.idle": "2021-06-17T14:39:53.677568Z",
     "shell.execute_reply": "2021-06-17T14:39:53.676564Z",
     "shell.execute_reply.started": "2021-06-17T14:39:53.666564Z"
    }
   },
   "outputs": [],
   "source": [
    "def likes(names):\n",
    "    if not names:\n",
    "        return \"no one likes this\"\n",
    "    elif len(names) == 1:\n",
    "        return f\"{names[0]} likes this\"\n",
    "    elif len(names) == 2:\n",
    "        return  f\"{names[0]} and {names[1]} like this\"\n",
    "    elif len(names) == 3:\n",
    "        return  f\"{names[0]}, {names[1]} and {names[2]} like this\"\n",
    "    else:\n",
    "        return f\"{names[0]}, {names[1]} and {len(names) - 2} others like this\""
   ]
  },
  {
   "cell_type": "code",
   "execution_count": 221,
   "metadata": {
    "execution": {
     "iopub.execute_input": "2021-06-17T14:40:08.790786Z",
     "iopub.status.busy": "2021-06-17T14:40:08.789787Z",
     "iopub.status.idle": "2021-06-17T14:40:08.808787Z",
     "shell.execute_reply": "2021-06-17T14:40:08.806791Z",
     "shell.execute_reply.started": "2021-06-17T14:40:08.790786Z"
    }
   },
   "outputs": [
    {
     "data": {
      "text/plain": [
       "'Peter, Alex and 3 others like this'"
      ]
     },
     "execution_count": 221,
     "metadata": {},
     "output_type": "execute_result"
    }
   ],
   "source": [
    "names = [\"Peter\", \"Alex\", \"Mary\", \"George\", \"Sam\"]\n",
    "likes(names)"
   ]
  },
  {
   "cell_type": "code",
   "execution_count": null,
   "metadata": {},
   "outputs": [],
   "source": []
  },
  {
   "cell_type": "markdown",
   "metadata": {},
   "source": [
    "# Find the missing letter - 6th Kyu\n",
    "\n",
    "Write a method that takes an array of consecutive (increasing) letters as input and that returns the missing letter in the array.\n",
    "\n",
    "You will always get an valid array. And it will be always exactly one letter be missing. The length of the array will always be at least 2.\n",
    "The array will always contain letters in only one case.\n",
    "\n",
    "Example:\n",
    "```\n",
    "['a','b','c','d','f'] -> 'e' \n",
    "['O','Q','R','S'] -> 'P'\n",
    "```"
   ]
  },
  {
   "cell_type": "markdown",
   "metadata": {},
   "source": [
    "So, you'll get a list. You'll have to iterate over the list.\n",
    "First, how would I make a list of all not in alphabet"
   ]
  },
  {
   "cell_type": "code",
   "execution_count": 189,
   "metadata": {
    "execution": {
     "iopub.execute_input": "2021-06-17T14:09:11.120069Z",
     "iopub.status.busy": "2021-06-17T14:09:11.120069Z",
     "iopub.status.idle": "2021-06-17T14:09:11.139066Z",
     "shell.execute_reply": "2021-06-17T14:09:11.137070Z",
     "shell.execute_reply.started": "2021-06-17T14:09:11.120069Z"
    }
   },
   "outputs": [],
   "source": [
    "# this works\n",
    "import string\n",
    "\n",
    "def find_missing_letter(chars):\n",
    "    # making alpha either all lower or all upper depending on 'chars'\n",
    "    alpha = list(string.ascii_lowercase) if chars[0].islower() else list(string.ascii_uppercase)\n",
    "    \n",
    "    # figuring out which letter to start using 'alpha'\n",
    "    starting_point = None\n",
    "    for i in range(len(alpha)):\n",
    "        if alpha[i] == chars[0]:\n",
    "            starting_point = i \n",
    "    print(f\"alphabet starting character is {alpha[starting_point]}\")\n",
    "    \n",
    "    # determining which letter is missing from 'chars'\n",
    "    missing_letter = None\n",
    "    for i in range(len(chars)):\n",
    "        print(f\"At character {chars[i]}\")\n",
    "        print(f\"At alphabet {alpha[starting_point + i]}\")\n",
    "        if chars[i] != alpha[starting_point + i]:\n",
    "            missing_letter = alpha[starting_point + i]b\n",
    "            break\n",
    "    return missing_letter"
   ]
  },
  {
   "cell_type": "code",
   "execution_count": 195,
   "metadata": {
    "execution": {
     "iopub.execute_input": "2021-06-17T14:20:43.792067Z",
     "iopub.status.busy": "2021-06-17T14:20:43.791068Z",
     "iopub.status.idle": "2021-06-17T14:20:43.805068Z",
     "shell.execute_reply": "2021-06-17T14:20:43.804067Z",
     "shell.execute_reply.started": "2021-06-17T14:20:43.792067Z"
    }
   },
   "outputs": [],
   "source": [
    "# refactoring above after seeing solution\n",
    "import string\n",
    "\n",
    "def find_missing_letter(chars):\n",
    "    # one long alpha list\n",
    "    alpha = list(string.ascii_lowercase) + list(string.ascii_uppercase)\n",
    "    \n",
    "    # figuring out which letter to start using 'alpha'\n",
    "    starting_point = alpha.index(chars[0])\n",
    "    \n",
    "    # determining which letter is missing from 'chars'\n",
    "    for i in range(len(chars)):\n",
    "        if chars[i] != alpha[starting_point + i]:\n",
    "            return alpha[starting_point + i]\n",
    "            "
   ]
  },
  {
   "cell_type": "code",
   "execution_count": 196,
   "metadata": {
    "execution": {
     "iopub.execute_input": "2021-06-17T14:20:44.718070Z",
     "iopub.status.busy": "2021-06-17T14:20:44.718070Z",
     "iopub.status.idle": "2021-06-17T14:20:44.727069Z",
     "shell.execute_reply": "2021-06-17T14:20:44.725069Z",
     "shell.execute_reply.started": "2021-06-17T14:20:44.718070Z"
    }
   },
   "outputs": [
    {
     "data": {
      "text/plain": [
       "'P'"
      ]
     },
     "execution_count": 196,
     "metadata": {},
     "output_type": "execute_result"
    }
   ],
   "source": [
    "chars = ['O', 'Q', 'R', 'S']\n",
    "find_missing_letter(chars)"
   ]
  },
  {
   "cell_type": "code",
   "execution_count": null,
   "metadata": {},
   "outputs": [],
   "source": [
    "# works for lowercase\n",
    "def find_missing_letter(chars):\n",
    "    starting_point = None\n",
    "    for i in range(len(alpha)):\n",
    "        if alpha[i] == chars[0]:\n",
    "            starting_point = i \n",
    "    letter_to_return = None\n",
    "    for i in range(len(chars)):\n",
    "        if chars[i] != alpha[starting_point + i]:\n",
    "            letter_to_return = alpha[starting_point + i]\n",
    "    return letter_to_return"
   ]
  },
  {
   "cell_type": "code",
   "execution_count": 156,
   "metadata": {
    "execution": {
     "iopub.execute_input": "2021-06-17T01:51:01.882630Z",
     "iopub.status.busy": "2021-06-17T01:51:01.882630Z",
     "iopub.status.idle": "2021-06-17T01:51:01.900633Z",
     "shell.execute_reply": "2021-06-17T01:51:01.899632Z",
     "shell.execute_reply.started": "2021-06-17T01:51:01.882630Z"
    }
   },
   "outputs": [],
   "source": [
    "def find_missing_letter(chars):\n",
    "    starting_point = None\n",
    "    for i in range(len(alpha)):\n",
    "        if alpha[i] == chars[0]:\n",
    "            starting_point = i \n",
    "    print(starting_point)    \n",
    "    letter_to_return = None\n",
    "\n",
    "    for i in range(len(chars)):\n",
    "        j = (i + 26) if chars[0].isupper else i\n",
    "        print(f\"i is {i}\")\n",
    "        print(f\"j is {j}\")\n",
    "        print(f\"chars[{i}] is {chars[i]}\")\n",
    "        print(f\"alpha[{starting_point + j}] is {alpha[starting_point + j]}\")\n",
    "        if chars[i] != alpha[starting_point + j]:\n",
    "            letter_to_return = alpha[starting_point + j]\n",
    "    return letter_to_return"
   ]
  },
  {
   "cell_type": "markdown",
   "metadata": {},
   "source": [
    "# Split Strings - 6th kyu \n",
    "\n",
    "Complete the solution so that it splits the string into pairs of two characters. If the string contains an odd number of characters then it should replace the missing second character of the final pair with an underscore ('_').\n",
    "\n",
    "Examples:\n",
    "```\n",
    "solution('abc') # should return ['ab', 'c_']\n",
    "solution('abcdef') # should return ['ab', 'cd', 'ef']\n",
    "```"
   ]
  },
  {
   "cell_type": "code",
   "execution_count": null,
   "metadata": {},
   "outputs": [],
   "source": []
  },
  {
   "cell_type": "code",
   "execution_count": 24,
   "metadata": {
    "execution": {
     "iopub.execute_input": "2021-06-16T21:36:07.317437Z",
     "iopub.status.busy": "2021-06-16T21:36:07.316438Z",
     "iopub.status.idle": "2021-06-16T21:36:07.330444Z",
     "shell.execute_reply": "2021-06-16T21:36:07.328442Z",
     "shell.execute_reply.started": "2021-06-16T21:36:07.317437Z"
    }
   },
   "outputs": [],
   "source": [
    "def solution(text):\n",
    "    split_text = [text[i:i+2] for i in range(0, len(text), 2)]\n",
    "    to_return = []\n",
    "    for chars in split_text:\n",
    "        if len(chars) == 1:\n",
    "            to_return.append(chars + \"_\")\n",
    "        else:\n",
    "            to_return.append(chars)\n",
    "    return to_return "
   ]
  },
  {
   "cell_type": "code",
   "execution_count": 27,
   "metadata": {
    "execution": {
     "iopub.execute_input": "2021-06-16T21:44:57.341440Z",
     "iopub.status.busy": "2021-06-16T21:44:57.341440Z",
     "iopub.status.idle": "2021-06-16T21:44:57.349436Z",
     "shell.execute_reply": "2021-06-16T21:44:57.348434Z",
     "shell.execute_reply.started": "2021-06-16T21:44:57.341440Z"
    }
   },
   "outputs": [],
   "source": [
    "def solution(text):\n",
    "    split_text = [text[i:i+2] for i in range(0, len(text), 2)]\n",
    "    to_return = [chars if len(chars) == 2 else chars+\"_\" for chars in split_text]\n",
    "    return to_return "
   ]
  },
  {
   "cell_type": "code",
   "execution_count": 31,
   "metadata": {
    "execution": {
     "iopub.execute_input": "2021-06-16T21:45:45.371973Z",
     "iopub.status.busy": "2021-06-16T21:45:45.370994Z",
     "iopub.status.idle": "2021-06-16T21:45:45.388978Z",
     "shell.execute_reply": "2021-06-16T21:45:45.385975Z",
     "shell.execute_reply.started": "2021-06-16T21:45:45.371973Z"
    }
   },
   "outputs": [],
   "source": [
    "def solution(text):\n",
    "    split_text = [text[i:i+2] for i in range(0, len(text), 2)]\n",
    "    return [chars if len(chars) == 2 else chars + \"_\" for chars in split_text]"
   ]
  },
  {
   "cell_type": "code",
   "execution_count": 32,
   "metadata": {
    "execution": {
     "iopub.execute_input": "2021-06-16T21:45:46.124976Z",
     "iopub.status.busy": "2021-06-16T21:45:46.124976Z",
     "iopub.status.idle": "2021-06-16T21:45:46.141989Z",
     "shell.execute_reply": "2021-06-16T21:45:46.140973Z",
     "shell.execute_reply.started": "2021-06-16T21:45:46.124976Z"
    }
   },
   "outputs": [
    {
     "data": {
      "text/plain": [
       "['ab', 'cd', 'e_']"
      ]
     },
     "execution_count": 32,
     "metadata": {},
     "output_type": "execute_result"
    }
   ],
   "source": [
    "txt = \"abcde\"\n",
    "solution(txt)"
   ]
  },
  {
   "cell_type": "markdown",
   "metadata": {},
   "source": [
    "# Multiples of 3 or 5 - 6th kyu\n",
    "\n",
    "If we list all the natural numbers below 10 that are multiples of 3 or 5, we get 3, 5, 6 and 9. The sum of these multiples is 23.\n",
    "\n",
    "Finish the solution so that it returns the sum of all the multiples of 3 or 5 below the number passed in.\n",
    "\n",
    "Note: If the number is a multiple of both 3 and 5, only count it once. Also, if a number is negative, return 0(for languages that do have them)"
   ]
  },
  {
   "cell_type": "markdown",
   "metadata": {},
   "source": [
    "## Notes\n",
    "\n",
    "1. Make a list of the numbers below input\n",
    "2. Divide each number by 3 and add it to the list if there's no remainder\n",
    "3. Divide each by 5, etc.\n",
    "4. Make a set to remove duplicates\n",
    "5. Add the set together and return it."
   ]
  },
  {
   "cell_type": "code",
   "execution_count": 51,
   "metadata": {
    "execution": {
     "iopub.execute_input": "2021-06-16T15:56:09.188845Z",
     "iopub.status.busy": "2021-06-16T15:56:09.188845Z",
     "iopub.status.idle": "2021-06-16T15:56:09.210831Z",
     "shell.execute_reply": "2021-06-16T15:56:09.208831Z",
     "shell.execute_reply.started": "2021-06-16T15:56:09.188845Z"
    }
   },
   "outputs": [],
   "source": [
    "def add_multiples(num):\n",
    "    all_nums = [x for x in range(num)]\n",
    "    nums_to_sum = []\n",
    "    for x in range(len(all_nums)):\n",
    "        if (all_nums[x] % 3 == 0) or (all_nums[x] % 5 == 0):\n",
    "            nums_to_sum.append(all_nums[x])\n",
    "    nums_to_sum = list(set(nums_to_sum))\n",
    "    return sum(nums_to_sum)"
   ]
  },
  {
   "cell_type": "code",
   "execution_count": 53,
   "metadata": {
    "execution": {
     "iopub.execute_input": "2021-06-16T15:56:18.904431Z",
     "iopub.status.busy": "2021-06-16T15:56:18.904431Z",
     "iopub.status.idle": "2021-06-16T15:56:18.917438Z",
     "shell.execute_reply": "2021-06-16T15:56:18.914432Z",
     "shell.execute_reply.started": "2021-06-16T15:56:18.904431Z"
    }
   },
   "outputs": [
    {
     "data": {
      "text/plain": [
       "2318"
      ]
     },
     "execution_count": 53,
     "metadata": {},
     "output_type": "execute_result"
    }
   ],
   "source": [
    "add_multiples(100)"
   ]
  },
  {
   "cell_type": "markdown",
   "metadata": {},
   "source": [
    "Here's how to do it in one line"
   ]
  },
  {
   "cell_type": "code",
   "execution_count": null,
   "metadata": {},
   "outputs": [],
   "source": [
    "def solution(number):\n",
    "    return sum(x for x in range(number) if x % 3 == 0 or x % 5 == 0)"
   ]
  },
  {
   "cell_type": "markdown",
   "metadata": {
    "execution": {
     "iopub.execute_input": "2021-06-16T15:32:28.083487Z",
     "iopub.status.busy": "2021-06-16T15:32:28.083487Z",
     "iopub.status.idle": "2021-06-16T15:32:28.102487Z",
     "shell.execute_reply": "2021-06-16T15:32:28.100490Z",
     "shell.execute_reply.started": "2021-06-16T15:32:28.083487Z"
    }
   },
   "source": [
    "# Tech interview"
   ]
  },
  {
   "cell_type": "markdown",
   "metadata": {},
   "source": [
    "From the tech interview: Write a function that will remove all duplicates from a list of intergers.\n",
    "\n",
    "[1, 2, 3, 4, 2, 3, 1, 4] --> [1, 2, 3, 4]"
   ]
  },
  {
   "cell_type": "code",
   "execution_count": 19,
   "metadata": {
    "execution": {
     "iopub.execute_input": "2021-06-16T15:31:58.152316Z",
     "iopub.status.busy": "2021-06-16T15:31:58.151344Z",
     "iopub.status.idle": "2021-06-16T15:31:58.162308Z",
     "shell.execute_reply": "2021-06-16T15:31:58.160306Z",
     "shell.execute_reply.started": "2021-06-16T15:31:58.152316Z"
    }
   },
   "outputs": [],
   "source": [
    "def remove_dups(list_input):\n",
    "    new_set = set(list_input)\n",
    "    new_list = list(new_set)\n",
    "    return new_list"
   ]
  },
  {
   "cell_type": "code",
   "execution_count": 57,
   "metadata": {
    "execution": {
     "iopub.execute_input": "2021-06-16T16:01:52.065693Z",
     "iopub.status.busy": "2021-06-16T16:01:52.065693Z",
     "iopub.status.idle": "2021-06-16T16:01:52.086690Z",
     "shell.execute_reply": "2021-06-16T16:01:52.083697Z",
     "shell.execute_reply.started": "2021-06-16T16:01:52.065693Z"
    }
   },
   "outputs": [
    {
     "data": {
      "text/plain": [
       "[1, 2]"
      ]
     },
     "execution_count": 57,
     "metadata": {},
     "output_type": "execute_result"
    }
   ],
   "source": [
    "remove_dups([1, 2, 1, 2])"
   ]
  },
  {
   "cell_type": "markdown",
   "metadata": {},
   "source": [
    "An easier way"
   ]
  },
  {
   "cell_type": "code",
   "execution_count": 54,
   "metadata": {
    "execution": {
     "iopub.execute_input": "2021-06-16T16:01:26.945632Z",
     "iopub.status.busy": "2021-06-16T16:01:26.944631Z",
     "iopub.status.idle": "2021-06-16T16:01:26.959627Z",
     "shell.execute_reply": "2021-06-16T16:01:26.958632Z",
     "shell.execute_reply.started": "2021-06-16T16:01:26.945632Z"
    }
   },
   "outputs": [],
   "source": [
    "def remove_dups(list_input):\n",
    "    return list(set(list_input))"
   ]
  },
  {
   "cell_type": "code",
   "execution_count": 56,
   "metadata": {
    "execution": {
     "iopub.execute_input": "2021-06-16T16:01:42.003724Z",
     "iopub.status.busy": "2021-06-16T16:01:42.003724Z",
     "iopub.status.idle": "2021-06-16T16:01:42.025720Z",
     "shell.execute_reply": "2021-06-16T16:01:42.024722Z",
     "shell.execute_reply.started": "2021-06-16T16:01:42.003724Z"
    }
   },
   "outputs": [
    {
     "data": {
      "text/plain": [
       "[1, 2]"
      ]
     },
     "execution_count": 56,
     "metadata": {},
     "output_type": "execute_result"
    }
   ],
   "source": [
    "remove_dups([1, 2, 1, 2])"
   ]
  }
 ],
 "metadata": {
  "kernelspec": {
   "display_name": "Python 3",
   "language": "python",
   "name": "python3"
  },
  "language_info": {
   "codemirror_mode": {
    "name": "ipython",
    "version": 3
   },
   "file_extension": ".py",
   "mimetype": "text/x-python",
   "name": "python",
   "nbconvert_exporter": "python",
   "pygments_lexer": "ipython3",
   "version": "3.6.9"
  }
 },
 "nbformat": 4,
 "nbformat_minor": 4
}
