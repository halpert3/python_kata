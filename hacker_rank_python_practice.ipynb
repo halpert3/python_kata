{
 "cells": [
  {
   "cell_type": "markdown",
   "metadata": {
    "execution": {
     "iopub.execute_input": "2022-02-09T16:44:37.938708Z",
     "iopub.status.busy": "2022-02-09T16:44:37.937709Z",
     "iopub.status.idle": "2022-02-09T16:44:37.949710Z",
     "shell.execute_reply": "2022-02-09T16:44:37.947711Z",
     "shell.execute_reply.started": "2022-02-09T16:44:37.938708Z"
    }
   },
   "source": [
    "# Rangoli"
   ]
  },
  {
   "cell_type": "markdown",
   "metadata": {},
   "source": [
    "When size = 3, the length is going to be 9 \n",
    "When size = 5, the length is going to be 17\n",
    "When size = 10, the length is going to be 37\n",
    "\n",
    "But I don't think it's worthwhile starting with the final length. Just start building it.\n",
    "you need to start building the middle. "
   ]
  },
  {
   "cell_type": "code",
   "execution_count": 30,
   "metadata": {
    "execution": {
     "iopub.execute_input": "2022-02-09T17:43:28.873438Z",
     "iopub.status.busy": "2022-02-09T17:43:28.873438Z",
     "iopub.status.idle": "2022-02-09T17:43:28.885438Z",
     "shell.execute_reply": "2022-02-09T17:43:28.884439Z",
     "shell.execute_reply.started": "2022-02-09T17:43:28.873438Z"
    }
   },
   "outputs": [
    {
     "name": "stdout",
     "output_type": "stream",
     "text": [
      "5\n"
     ]
    }
   ],
   "source": [
    "# middle letter is 'e'\n",
    "size = 5 \n",
    "\n",
    "alphabet = 'abcdefghijklmnopqrstuvwxyz'\n",
    "alpha_list = alphabet[0:size]\n",
    "\n",
    "second_half = '-'.join(alpha_list)\n",
    "first_half = second_half[::-1][0:-1]\n",
    "middle_line = first_half + second_half\n",
    "middle_line\n",
    "\n",
    "alpha_list = alpha_list[::-1]\n",
    "print(len(alpha_list))\n"
   ]
  },
  {
   "cell_type": "code",
   "execution_count": 26,
   "metadata": {
    "execution": {
     "iopub.execute_input": "2022-02-09T17:42:39.069558Z",
     "iopub.status.busy": "2022-02-09T17:42:39.069558Z",
     "iopub.status.idle": "2022-02-09T17:42:39.099901Z",
     "shell.execute_reply": "2022-02-09T17:42:39.098900Z",
     "shell.execute_reply.started": "2022-02-09T17:42:39.069558Z"
    }
   },
   "outputs": [
    {
     "name": "stdout",
     "output_type": "stream",
     "text": [
      "abcde\n"
     ]
    },
    {
     "data": {
      "text/plain": [
       "str"
      ]
     },
     "execution_count": 26,
     "metadata": {},
     "output_type": "execute_result"
    }
   ],
   "source": [
    "\n",
    "# for x in alpha_list:\n",
    "#     print(x)"
   ]
  },
  {
   "cell_type": "code",
   "execution_count": 24,
   "metadata": {
    "execution": {
     "iopub.execute_input": "2022-02-09T17:42:23.959636Z",
     "iopub.status.busy": "2022-02-09T17:42:23.959636Z",
     "iopub.status.idle": "2022-02-09T17:42:23.970635Z",
     "shell.execute_reply": "2022-02-09T17:42:23.969634Z",
     "shell.execute_reply.started": "2022-02-09T17:42:23.959636Z"
    }
   },
   "outputs": [
    {
     "data": {
      "text/plain": [
       "'--d-c-b-a-b-c-d--'"
      ]
     },
     "execution_count": 24,
     "metadata": {},
     "output_type": "execute_result"
    }
   ],
   "source": [
    "name = 'e-d-c-b-a-b-c-d-e'\n",
    "name.replace('e', '-')"
   ]
  },
  {
   "cell_type": "code",
   "execution_count": null,
   "metadata": {},
   "outputs": [],
   "source": []
  },
  {
   "cell_type": "markdown",
   "metadata": {},
   "source": [
    "# Compress the string"
   ]
  },
  {
   "cell_type": "code",
   "execution_count": 50,
   "metadata": {
    "execution": {
     "iopub.execute_input": "2022-02-08T19:44:56.984359Z",
     "iopub.status.busy": "2022-02-08T19:44:56.984359Z",
     "iopub.status.idle": "2022-02-08T19:44:57.007350Z",
     "shell.execute_reply": "2022-02-08T19:44:57.006348Z",
     "shell.execute_reply.started": "2022-02-08T19:44:56.984359Z"
    }
   },
   "outputs": [
    {
     "data": {
      "text/plain": [
       "'(1, 1) (3, 2) (1, 3) (2, 1)'"
      ]
     },
     "execution_count": 50,
     "metadata": {},
     "output_type": "execute_result"
    }
   ],
   "source": [
    "import itertools\n",
    "\n",
    "input = '1222311'\n",
    "\n",
    "# this function, when running groupby, will break up the group by the character at index[0]\n",
    "key_func = lambda x: x[0]\n",
    "\n",
    "str_to_return = ''\n",
    "\n",
    "for key, group in itertools.groupby(input, key_func):\n",
    "    da_group = list(group)\n",
    "    str_to_add = f'({str(len(da_group))}, {da_group[0]})'\n",
    "    str_to_return += str_to_add + ' '\n",
    "    \n",
    "str_to_return.strip()\n",
    "\n"
   ]
  },
  {
   "cell_type": "code",
   "execution_count": 34,
   "metadata": {
    "execution": {
     "iopub.execute_input": "2022-02-08T19:34:18.974001Z",
     "iopub.status.busy": "2022-02-08T19:34:18.974001Z",
     "iopub.status.idle": "2022-02-08T19:34:19Z",
     "shell.execute_reply": "2022-02-08T19:34:18.999001Z",
     "shell.execute_reply.started": "2022-02-08T19:34:18.974001Z"
    }
   },
   "outputs": [
    {
     "data": {
      "text/plain": [
       "'first second'"
      ]
     },
     "execution_count": 34,
     "metadata": {},
     "output_type": "execute_result"
    }
   ],
   "source": [
    "a = ''\n",
    "enter1 = \"first\"\n",
    "enter2 = 'second'\n",
    "b = f'{enter1} {enter2}"
   ]
  },
  {
   "cell_type": "code",
   "execution_count": null,
   "metadata": {},
   "outputs": [],
   "source": []
  },
  {
   "cell_type": "code",
   "execution_count": null,
   "metadata": {},
   "outputs": [],
   "source": []
  },
  {
   "cell_type": "code",
   "execution_count": 20,
   "metadata": {
    "execution": {
     "iopub.execute_input": "2022-02-08T19:20:58.031773Z",
     "iopub.status.busy": "2022-02-08T19:20:58.031773Z",
     "iopub.status.idle": "2022-02-08T19:20:58.050774Z",
     "shell.execute_reply": "2022-02-08T19:20:58.049770Z",
     "shell.execute_reply.started": "2022-02-08T19:20:58.031773Z"
    }
   },
   "outputs": [
    {
     "name": "stdout",
     "output_type": "stream",
     "text": [
      "a : [('a', 1), ('a', 2)]\n",
      "b : [('b', 3), ('b', 4)]\n",
      "a : [('a', 4)]\n"
     ]
    }
   ],
   "source": [
    "import itertools\n",
    "  \n",
    "L = [(\"a\", 1), (\"a\", 2), (\"b\", 3), (\"b\", 4), (\"a\", 4)]\n",
    "  \n",
    "# Key function\n",
    "key_func = lambda x: x[0]\n",
    "  \n",
    "for key, group in itertools.groupby(L, key_func):\n",
    "    print(key + \" :\", list(group))"
   ]
  },
  {
   "cell_type": "code",
   "execution_count": null,
   "metadata": {},
   "outputs": [],
   "source": []
  },
  {
   "cell_type": "code",
   "execution_count": null,
   "metadata": {},
   "outputs": [],
   "source": []
  },
  {
   "cell_type": "code",
   "execution_count": null,
   "metadata": {},
   "outputs": [],
   "source": []
  },
  {
   "cell_type": "code",
   "execution_count": null,
   "metadata": {},
   "outputs": [],
   "source": []
  },
  {
   "cell_type": "markdown",
   "metadata": {},
   "source": [
    "# Finding the Percentage"
   ]
  },
  {
   "cell_type": "code",
   "execution_count": 7,
   "metadata": {
    "execution": {
     "iopub.execute_input": "2022-02-08T18:54:42.468836Z",
     "iopub.status.busy": "2022-02-08T18:54:42.468836Z",
     "iopub.status.idle": "2022-02-08T18:54:42.483836Z",
     "shell.execute_reply": "2022-02-08T18:54:42.482870Z",
     "shell.execute_reply.started": "2022-02-08T18:54:42.468836Z"
    }
   },
   "outputs": [
    {
     "data": {
      "text/plain": [
       "'68.00'"
      ]
     },
     "execution_count": 7,
     "metadata": {},
     "output_type": "execute_result"
    }
   ],
   "source": [
    "student_marks = {'Krishna': [67.0, 68.0, 69.0], 'Arjun': [70.0, 98.0, 63.0], 'Malika': [52.0, 56.0, 60.0]}\n",
    "scores = student_marks['Krishna']\n",
    "answer = sum(scores)/len(scores)\n",
    "f'{answer:.2f}'\n",
    "\n"
   ]
  },
  {
   "cell_type": "code",
   "execution_count": 13,
   "metadata": {
    "execution": {
     "iopub.execute_input": "2022-02-08T18:56:39.686920Z",
     "iopub.status.busy": "2022-02-08T18:56:39.685922Z",
     "iopub.status.idle": "2022-02-08T18:56:39.695925Z",
     "shell.execute_reply": "2022-02-08T18:56:39.694920Z",
     "shell.execute_reply.started": "2022-02-08T18:56:39.686920Z"
    }
   },
   "outputs": [
    {
     "data": {
      "text/plain": [
       "'The number is 66.000'"
      ]
     },
     "execution_count": 13,
     "metadata": {},
     "output_type": "execute_result"
    }
   ],
   "source": [
    "a = 66\n",
    "f'The number is {a:.3f}'"
   ]
  },
  {
   "cell_type": "code",
   "execution_count": 16,
   "metadata": {
    "execution": {
     "iopub.execute_input": "2022-02-08T19:05:42.080800Z",
     "iopub.status.busy": "2022-02-08T19:05:42.079798Z",
     "iopub.status.idle": "2022-02-08T19:05:42.097798Z",
     "shell.execute_reply": "2022-02-08T19:05:42.095799Z",
     "shell.execute_reply.started": "2022-02-08T19:05:42.080800Z"
    }
   },
   "outputs": [
    {
     "data": {
      "text/plain": [
       "{'r': 6}"
      ]
     },
     "execution_count": 16,
     "metadata": {},
     "output_type": "execute_result"
    }
   ],
   "source": [
    "d = {}\n",
    "d.update({'r': 6})\n",
    "d"
   ]
  },
  {
   "cell_type": "code",
   "execution_count": 17,
   "metadata": {
    "execution": {
     "iopub.execute_input": "2022-02-08T19:06:26.913798Z",
     "iopub.status.busy": "2022-02-08T19:06:26.913798Z",
     "iopub.status.idle": "2022-02-08T19:06:26.932802Z",
     "shell.execute_reply": "2022-02-08T19:06:26.931796Z",
     "shell.execute_reply.started": "2022-02-08T19:06:26.913798Z"
    }
   },
   "outputs": [
    {
     "data": {
      "text/plain": [
       "{'r': 7}"
      ]
     },
     "execution_count": 17,
     "metadata": {},
     "output_type": "execute_result"
    }
   ],
   "source": [
    "d.update({'r': 7})\n",
    "d"
   ]
  },
  {
   "cell_type": "code",
   "execution_count": null,
   "metadata": {},
   "outputs": [],
   "source": []
  },
  {
   "cell_type": "code",
   "execution_count": null,
   "metadata": {},
   "outputs": [],
   "source": []
  },
  {
   "cell_type": "code",
   "execution_count": null,
   "metadata": {},
   "outputs": [],
   "source": []
  },
  {
   "cell_type": "code",
   "execution_count": null,
   "metadata": {},
   "outputs": [],
   "source": []
  },
  {
   "cell_type": "code",
   "execution_count": null,
   "metadata": {},
   "outputs": [],
   "source": []
  },
  {
   "cell_type": "code",
   "execution_count": null,
   "metadata": {},
   "outputs": [],
   "source": []
  },
  {
   "cell_type": "code",
   "execution_count": null,
   "metadata": {},
   "outputs": [],
   "source": []
  },
  {
   "cell_type": "markdown",
   "metadata": {
    "execution": {
     "iopub.execute_input": "2022-02-08T02:36:25.822549Z",
     "iopub.status.busy": "2022-02-08T02:36:25.822549Z",
     "iopub.status.idle": "2022-02-08T02:36:25.841553Z",
     "shell.execute_reply": "2022-02-08T02:36:25.839556Z",
     "shell.execute_reply.started": "2022-02-08T02:36:25.822549Z"
    }
   },
   "source": [
    "# Runner Up Score"
   ]
  },
  {
   "cell_type": "code",
   "execution_count": 61,
   "metadata": {
    "execution": {
     "iopub.execute_input": "2022-02-08T02:42:22.591773Z",
     "iopub.status.busy": "2022-02-08T02:42:22.591773Z",
     "iopub.status.idle": "2022-02-08T02:42:22.608773Z",
     "shell.execute_reply": "2022-02-08T02:42:22.607770Z",
     "shell.execute_reply.started": "2022-02-08T02:42:22.591773Z"
    }
   },
   "outputs": [
    {
     "name": "stdout",
     "output_type": "stream",
     "text": [
      "[2, 3, 5, 6, 6]\n",
      "5\n"
     ]
    }
   ],
   "source": [
    "scores = [2, 3, 6, 6, 5]\n",
    "scores.sort()\n",
    "print(scores)\n",
    "highest = scores[-1]\n",
    "\n",
    "for i in reversed(scores):\n",
    "    if i != highest:\n",
    "        print(i)\n",
    "        break\n"
   ]
  },
  {
   "cell_type": "code",
   "execution_count": null,
   "metadata": {},
   "outputs": [],
   "source": []
  },
  {
   "cell_type": "code",
   "execution_count": null,
   "metadata": {},
   "outputs": [],
   "source": []
  },
  {
   "cell_type": "code",
   "execution_count": null,
   "metadata": {},
   "outputs": [],
   "source": []
  },
  {
   "cell_type": "markdown",
   "metadata": {},
   "source": [
    "# List Comprehension"
   ]
  },
  {
   "cell_type": "code",
   "execution_count": 50,
   "metadata": {
    "execution": {
     "iopub.execute_input": "2022-02-08T02:34:05.465599Z",
     "iopub.status.busy": "2022-02-08T02:34:05.465599Z",
     "iopub.status.idle": "2022-02-08T02:34:05.481600Z",
     "shell.execute_reply": "2022-02-08T02:34:05.480630Z",
     "shell.execute_reply.started": "2022-02-08T02:34:05.465599Z"
    }
   },
   "outputs": [
    {
     "name": "stdout",
     "output_type": "stream",
     "text": [
      "[[0, 0, 0], [0, 0, 1], [0, 1, 0], [1, 0, 0], [1, 1, 1]]\n"
     ]
    }
   ],
   "source": [
    "x = 1\n",
    "y = 1\n",
    "z = 1\n",
    "n = 2\n",
    "\n",
    "\n",
    "permutations = []\n",
    "for i in range(x + 1):\n",
    "    for j in range(y + 1):\n",
    "        for k in range(z + 1):\n",
    "            if (i + j + k) != n:\n",
    "                permutations.append([i, j, k])\n",
    "\n",
    "print(permutations)\n",
    "# # print(f'The length of the list is {len(permutations)}')\n",
    "# for item in permutations:\n",
    "#     if (i+j+k) == n:\n",
    "#         permutations.remove(item)\n",
    "# permutations"
   ]
  },
  {
   "cell_type": "code",
   "execution_count": 20,
   "metadata": {
    "execution": {
     "iopub.execute_input": "2022-02-08T02:16:54.942458Z",
     "iopub.status.busy": "2022-02-08T02:16:54.941456Z",
     "iopub.status.idle": "2022-02-08T02:16:54.961457Z",
     "shell.execute_reply": "2022-02-08T02:16:54.960459Z",
     "shell.execute_reply.started": "2022-02-08T02:16:54.942458Z"
    }
   },
   "outputs": [
    {
     "name": "stdout",
     "output_type": "stream",
     "text": [
      "2\n"
     ]
    }
   ],
   "source": [
    "print(sum([1,1,0]))"
   ]
  },
  {
   "cell_type": "code",
   "execution_count": 38,
   "metadata": {
    "execution": {
     "iopub.execute_input": "2022-02-08T02:27:28.410672Z",
     "iopub.status.busy": "2022-02-08T02:27:28.409673Z",
     "iopub.status.idle": "2022-02-08T02:27:28.432672Z",
     "shell.execute_reply": "2022-02-08T02:27:28.431675Z",
     "shell.execute_reply.started": "2022-02-08T02:27:28.410672Z"
    }
   },
   "outputs": [
    {
     "name": "stdout",
     "output_type": "stream",
     "text": [
      "[1, 2, 3, 2, 4]\n"
     ]
    },
    {
     "data": {
      "text/plain": [
       "[1, 3, 4]"
      ]
     },
     "execution_count": 38,
     "metadata": {},
     "output_type": "execute_result"
    }
   ],
   "source": [
    "test_list = [1,2,3,2,4]\n",
    "print(test_list)\n",
    "for i in test_list:\n",
    "    if i == 2:\n",
    "        test_list.remove(i)\n",
    "test_list"
   ]
  },
  {
   "cell_type": "code",
   "execution_count": 41,
   "metadata": {
    "execution": {
     "iopub.execute_input": "2022-02-08T02:29:18.803962Z",
     "iopub.status.busy": "2022-02-08T02:29:18.802960Z",
     "iopub.status.idle": "2022-02-08T02:29:18.814960Z",
     "shell.execute_reply": "2022-02-08T02:29:18.813958Z",
     "shell.execute_reply.started": "2022-02-08T02:29:18.803962Z"
    }
   },
   "outputs": [
    {
     "data": {
      "text/plain": [
       "2"
      ]
     },
     "execution_count": 41,
     "metadata": {},
     "output_type": "execute_result"
    }
   ],
   "source": []
  },
  {
   "cell_type": "code",
   "execution_count": null,
   "metadata": {},
   "outputs": [],
   "source": []
  },
  {
   "cell_type": "code",
   "execution_count": null,
   "metadata": {},
   "outputs": [],
   "source": []
  },
  {
   "cell_type": "code",
   "execution_count": null,
   "metadata": {},
   "outputs": [],
   "source": []
  },
  {
   "cell_type": "code",
   "execution_count": null,
   "metadata": {},
   "outputs": [],
   "source": []
  },
  {
   "cell_type": "markdown",
   "metadata": {},
   "source": [
    "# Word Order  \n",
    "You are given `n` words. Some words may repeat. For each word, output its number of occurrences. The output order should correspond with the input order of appearance of the word.   \n",
    "\n",
    "**Note:** Each input line ends with a **\"\\n\"** character.\n",
    "\n",
    "\n",
    "\n",
    "The first line contains the integer, `n`.\n",
    "The next `n` lines each contain a word.\n",
    "\n",
    "**Output Format**\n",
    "\n",
    "Output 2 lines\n",
    "\n",
    "On the first line, output the number of distinct words from the input.\n",
    "On the second line, output the number of occurrences for each distinct word according to their appearance in the input.\n",
    "\n",
    "**Sample input** \n",
    "\n",
    "```\n",
    "4\n",
    "bcdef\n",
    "abcdefg\n",
    "bcde\n",
    "bcdef\n",
    "```\n",
    "\n",
    "\n",
    "\n",
    "**Sample output** \n",
    "\n",
    "```\n",
    "3\n",
    "2 1 1\n",
    "```\n",
    "\n",
    "**Explanation**\n",
    "\n",
    "There are 3 distinct words. Here, **\"bcdef\"** appears twice in the input at the first and last positions. The other words appear once each. The order of the first appearances are **\"bcdef\"**, **\"abcdefg\"** and **\"bcde\"** which corresponds to the output.\n",
    "\n"
   ]
  },
  {
   "cell_type": "code",
   "execution_count": 20,
   "metadata": {
    "execution": {
     "iopub.execute_input": "2022-02-07T20:56:10.417252Z",
     "iopub.status.busy": "2022-02-07T20:56:10.417252Z",
     "iopub.status.idle": "2022-02-07T20:56:10.434252Z",
     "shell.execute_reply": "2022-02-07T20:56:10.433248Z",
     "shell.execute_reply.started": "2022-02-07T20:56:10.417252Z"
    }
   },
   "outputs": [
    {
     "name": "stdout",
     "output_type": "stream",
     "text": [
      "3\n",
      "2 1 1\n"
     ]
    }
   ],
   "source": [
    "from collections import OrderedDict, Counter\n",
    "N = 4\n",
    "word_list = ['bcdef', 'abcdefg', 'bcde', 'bcdef']\n",
    "\n",
    "# od = OrderedDict()\n",
    "# print(od)\n",
    "word_counts = dict()\n",
    "for i in word_list:\n",
    "    word_counts[i] = word_counts.get(i, 0) + 1\n",
    "\n",
    "vals = word_counts.values()\n",
    "str_to_return = ''\n",
    "for val in vals:\n",
    "    str_to_return += (str(val) + ' ')\n",
    "    \n",
    "final = str_to_return.strip()\n",
    "print(len(word_counts))\n",
    "print(final)\n",
    "\n",
    "\n"
   ]
  },
  {
   "cell_type": "code",
   "execution_count": null,
   "metadata": {},
   "outputs": [],
   "source": []
  },
  {
   "cell_type": "code",
   "execution_count": null,
   "metadata": {},
   "outputs": [],
   "source": []
  },
  {
   "cell_type": "code",
   "execution_count": null,
   "metadata": {},
   "outputs": [],
   "source": []
  },
  {
   "cell_type": "markdown",
   "metadata": {},
   "source": [
    "# Minion Game\n",
    "\n",
    "Kevin and Stuart want to play the 'The Minion Game'.\n",
    "\n",
    "**Game Rules**\n",
    "\n",
    "Both players are given the same string, .\n",
    "Both players have to make substrings using the letters of the string .\n",
    "Stuart has to make words starting with consonants.\n",
    "Kevin has to make words starting with vowels (AEIOU).\n",
    "The game ends when both players have made all possible substrings.\n",
    "\n",
    "**Scoring**\n",
    "A player gets +1 point for each occurrence of substring in the string `S`.\n",
    "\n",
    "**Game Rules**\n",
    "\n",
    "Both players are given the same string, `S`.\n",
    "Both players have to make substrings using the letters of the string `S`.\n",
    "Stuart has to make words starting with consonants.\n",
    "Kevin has to make words starting with vowels.\n",
    "The game ends when both players have made all possible substrings.\n",
    "\n",
    "**Scoring**\n",
    "A player gets +1 point for each occurrence of the substring in the string `S`.\n",
    "\n",
    "**For Example:**  \n",
    "String `S` = BANANA  \n",
    "Kevin's vowel beginning word = ANA  \n",
    "Here, ANA occurs twice in BANANA. Hence, Kevin will get 2 Points.  \n",
    "\n",
    "For better understanding, see the image below:\n",
    "\n",
    "![img](https://s3.amazonaws.com/hr-challenge-images/9693/1450330231-04db904008-banana.png)\n",
    "\n",
    "\n",
    "\n",
    "Your task is to determine the winner of the game and their score.\n",
    "\n",
    "**Function Description**\n",
    "\n",
    "Complete the minion_game in the editor below.\n",
    "\n",
    "minion_game has the following parameters:\n",
    "\n",
    "- *string:* the string to analyze\n",
    "\n",
    "**Prints**\n",
    "\n",
    "- *string:* the winner's name and score, separated by a space on one line, or `Draw` if there is no winner\n",
    "\n",
    "**Input Format**\n",
    "\n",
    "A single line of input containing the string `S`.\n",
    "**Note**: The string will contain only uppercase letters [A-Z].\n",
    "\n",
    "**Sample Input**\n",
    "\n",
    "```BANANA```\n",
    "\n",
    "**Sample Output**\n",
    "\n",
    "```Stuart 12``` \n",
    "\n",
    "substring in the string .\n",
    "\n",
    "**For Example:**\n",
    "String  = BANANA\n",
    "Kevin's vowel beginning word = ANA\n",
    "Here, ANA occurs twice in BANANA. Hence, Kevin will get 2 Points.\n",
    "\n",
    "For better understanding, see the image below:"
   ]
  },
  {
   "cell_type": "code",
   "execution_count": null,
   "metadata": {},
   "outputs": [],
   "source": []
  },
  {
   "cell_type": "markdown",
   "metadata": {},
   "source": [
    "Me: The instructions make no sense. What's the substring?"
   ]
  },
  {
   "cell_type": "code",
   "execution_count": null,
   "metadata": {},
   "outputs": [],
   "source": []
  }
 ],
 "metadata": {
  "kernelspec": {
   "display_name": "Python 3",
   "language": "python",
   "name": "python3"
  },
  "language_info": {
   "codemirror_mode": {
    "name": "ipython",
    "version": 3
   },
   "file_extension": ".py",
   "mimetype": "text/x-python",
   "name": "python",
   "nbconvert_exporter": "python",
   "pygments_lexer": "ipython3",
   "version": "3.6.9"
  }
 },
 "nbformat": 4,
 "nbformat_minor": 4
}
