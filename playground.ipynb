{
 "cells": [
  {
   "cell_type": "code",
   "execution_count": 13,
   "metadata": {
    "execution": {
     "iopub.execute_input": "2021-06-20T22:38:50.387454Z",
     "iopub.status.busy": "2021-06-20T22:38:50.386453Z",
     "iopub.status.idle": "2021-06-20T22:38:50.403452Z",
     "shell.execute_reply": "2021-06-20T22:38:50.402452Z",
     "shell.execute_reply.started": "2021-06-20T22:38:50.387454Z"
    }
   },
   "outputs": [
    {
     "data": {
      "text/plain": [
       "['Hello', 'World']"
      ]
     },
     "execution_count": 13,
     "metadata": {},
     "output_type": "execute_result"
    }
   ],
   "source": [
    "words = [\"Hello  \", \" World\"]\n",
    "[word.strip() for word in words]"
   ]
  },
  {
   "cell_type": "code",
   "execution_count": 16,
   "metadata": {
    "execution": {
     "iopub.execute_input": "2021-06-20T22:49:00.702803Z",
     "iopub.status.busy": "2021-06-20T22:49:00.701799Z",
     "iopub.status.idle": "2021-06-20T22:49:00.711801Z",
     "shell.execute_reply": "2021-06-20T22:49:00.710801Z",
     "shell.execute_reply.started": "2021-06-20T22:49:00.702803Z"
    }
   },
   "outputs": [
    {
     "data": {
      "text/plain": [
       "['world', 'Hello']"
      ]
     },
     "execution_count": 16,
     "metadata": {},
     "output_type": "execute_result"
    }
   ],
   "source": [
    "words = [\"Hello\", \"world\"]\n",
    "words.reverse()\n",
    "words"
   ]
  },
  {
   "cell_type": "code",
   "execution_count": null,
   "metadata": {},
   "outputs": [],
   "source": []
  },
  {
   "cell_type": "code",
   "execution_count": 1,
   "metadata": {
    "execution": {
     "iopub.execute_input": "2021-06-20T22:19:32.421130Z",
     "iopub.status.busy": "2021-06-20T22:19:32.420128Z",
     "iopub.status.idle": "2021-06-20T22:19:32.438129Z",
     "shell.execute_reply": "2021-06-20T22:19:32.436134Z",
     "shell.execute_reply.started": "2021-06-20T22:19:32.421130Z"
    }
   },
   "outputs": [
    {
     "data": {
      "text/plain": [
       "0"
      ]
     },
     "execution_count": 1,
     "metadata": {},
     "output_type": "execute_result"
    }
   ],
   "source": [
    "len(\"\")"
   ]
  },
  {
   "cell_type": "code",
   "execution_count": 2,
   "metadata": {
    "execution": {
     "iopub.execute_input": "2021-06-20T22:23:47.400647Z",
     "iopub.status.busy": "2021-06-20T22:23:47.400647Z",
     "iopub.status.idle": "2021-06-20T22:23:47.420648Z",
     "shell.execute_reply": "2021-06-20T22:23:47.418660Z",
     "shell.execute_reply.started": "2021-06-20T22:23:47.400647Z"
    }
   },
   "outputs": [
    {
     "data": {
      "text/plain": [
       "True"
      ]
     },
     "execution_count": 2,
     "metadata": {},
     "output_type": "execute_result"
    }
   ],
   "source": [
    "\"abb\".endswith(\"b\")"
   ]
  },
  {
   "cell_type": "code",
   "execution_count": 3,
   "metadata": {
    "execution": {
     "iopub.execute_input": "2021-06-20T22:26:27.645489Z",
     "iopub.status.busy": "2021-06-20T22:26:27.644489Z",
     "iopub.status.idle": "2021-06-20T22:26:27.664490Z",
     "shell.execute_reply": "2021-06-20T22:26:27.662491Z",
     "shell.execute_reply.started": "2021-06-20T22:26:27.645489Z"
    }
   },
   "outputs": [],
   "source": [
    "txt = \"Hello\""
   ]
  },
  {
   "cell_type": "code",
   "execution_count": 8,
   "metadata": {
    "execution": {
     "iopub.execute_input": "2021-06-20T22:27:20.425489Z",
     "iopub.status.busy": "2021-06-20T22:27:20.424489Z",
     "iopub.status.idle": "2021-06-20T22:27:20.441488Z",
     "shell.execute_reply": "2021-06-20T22:27:20.439487Z",
     "shell.execute_reply.started": "2021-06-20T22:27:20.425489Z"
    }
   },
   "outputs": [
    {
     "data": {
      "text/plain": [
       "''"
      ]
     },
     "execution_count": 8,
     "metadata": {},
     "output_type": "execute_result"
    }
   ],
   "source": [
    "txt[0:3:-3]"
   ]
  },
  {
   "cell_type": "code",
   "execution_count": 13,
   "metadata": {
    "execution": {
     "iopub.execute_input": "2021-06-18T02:04:55.667042Z",
     "iopub.status.busy": "2021-06-18T02:04:55.667042Z",
     "iopub.status.idle": "2021-06-18T02:04:55.674047Z",
     "shell.execute_reply": "2021-06-18T02:04:55.673044Z",
     "shell.execute_reply.started": "2021-06-18T02:04:55.667042Z"
    }
   },
   "outputs": [
    {
     "data": {
      "text/plain": [
       "True"
      ]
     },
     "execution_count": 13,
     "metadata": {},
     "output_type": "execute_result"
    }
   ],
   "source": [
    "y = 3 == 3\n",
    "y "
   ]
  },
  {
   "cell_type": "code",
   "execution_count": 15,
   "metadata": {
    "execution": {
     "iopub.execute_input": "2021-06-18T02:06:28.308148Z",
     "iopub.status.busy": "2021-06-18T02:06:28.307147Z",
     "iopub.status.idle": "2021-06-18T02:06:28.330150Z",
     "shell.execute_reply": "2021-06-18T02:06:28.329148Z",
     "shell.execute_reply.started": "2021-06-18T02:06:28.307147Z"
    }
   },
   "outputs": [
    {
     "data": {
      "text/plain": [
       "False"
      ]
     },
     "execution_count": 15,
     "metadata": {},
     "output_type": "execute_result"
    }
   ],
   "source": [
    "y = True if 3==4 else False\n",
    "y"
   ]
  },
  {
   "cell_type": "code",
   "execution_count": 1,
   "metadata": {
    "execution": {
     "iopub.execute_input": "2021-06-17T14:28:42.832541Z",
     "iopub.status.busy": "2021-06-17T14:28:42.832541Z",
     "iopub.status.idle": "2021-06-17T14:28:42.855542Z",
     "shell.execute_reply": "2021-06-17T14:28:42.854541Z",
     "shell.execute_reply.started": "2021-06-17T14:28:42.832541Z"
    }
   },
   "outputs": [
    {
     "data": {
      "text/plain": [
       "[3, 5, 7, 9, 11, 13, 15, 17, 19]"
      ]
     },
     "execution_count": 1,
     "metadata": {},
     "output_type": "execute_result"
    }
   ],
   "source": [
    "nums = list(range(100))\n",
    "nums[3:20:2]"
   ]
  },
  {
   "cell_type": "code",
   "execution_count": 6,
   "metadata": {
    "execution": {
     "iopub.execute_input": "2021-06-17T14:30:57.851415Z",
     "iopub.status.busy": "2021-06-17T14:30:57.850411Z",
     "iopub.status.idle": "2021-06-17T14:30:57.866413Z",
     "shell.execute_reply": "2021-06-17T14:30:57.865412Z",
     "shell.execute_reply.started": "2021-06-17T14:30:57.851415Z"
    }
   },
   "outputs": [
    {
     "data": {
      "text/plain": [
       "2"
      ]
     },
     "execution_count": 6,
     "metadata": {},
     "output_type": "execute_result"
    }
   ],
   "source": [
    "import string\n",
    "\n",
    "# list of letters\n",
    "alpha = list(string.ascii_lowercase)\n",
    "\n",
    "# the letter 'c' is at index position 2\n",
    "alpha.index(\"c\")"
   ]
  },
  {
   "cell_type": "code",
   "execution_count": 7,
   "metadata": {
    "execution": {
     "iopub.execute_input": "2021-06-17T21:42:39.301998Z",
     "iopub.status.busy": "2021-06-17T21:42:39.296998Z",
     "iopub.status.idle": "2021-06-17T21:42:39.349002Z",
     "shell.execute_reply": "2021-06-17T21:42:39.346002Z",
     "shell.execute_reply.started": "2021-06-17T21:42:39.301998Z"
    }
   },
   "outputs": [
    {
     "data": {
      "text/plain": [
       "['a', 'b', 'c', 'd', 'e', 'f', 'g', 'h', 'i', 'j', 'k', 'l', 'm']"
      ]
     },
     "execution_count": 7,
     "metadata": {},
     "output_type": "execute_result"
    }
   ],
   "source": [
    "list('abcdefghijklm')"
   ]
  },
  {
   "cell_type": "code",
   "execution_count": 9,
   "metadata": {
    "execution": {
     "iopub.execute_input": "2021-06-17T21:52:34.444219Z",
     "iopub.status.busy": "2021-06-17T21:52:34.443221Z",
     "iopub.status.idle": "2021-06-17T21:52:34.470243Z",
     "shell.execute_reply": "2021-06-17T21:52:34.468219Z",
     "shell.execute_reply.started": "2021-06-17T21:52:34.444219Z"
    }
   },
   "outputs": [
    {
     "data": {
      "text/plain": [
       "3"
      ]
     },
     "execution_count": 9,
     "metadata": {},
     "output_type": "execute_result"
    }
   ],
   "source": [
    "len(range(3))"
   ]
  },
  {
   "cell_type": "code",
   "execution_count": 16,
   "metadata": {
    "execution": {
     "iopub.execute_input": "2021-06-18T02:29:44.808101Z",
     "iopub.status.busy": "2021-06-18T02:29:44.795102Z",
     "iopub.status.idle": "2021-06-18T02:29:44.899103Z",
     "shell.execute_reply": "2021-06-18T02:29:44.895104Z",
     "shell.execute_reply.started": "2021-06-18T02:29:44.808101Z"
    }
   },
   "outputs": [
    {
     "data": {
      "text/plain": [
       "True"
      ]
     },
     "execution_count": 16,
     "metadata": {},
     "output_type": "execute_result"
    }
   ],
   "source": [
    "1 == 3-2"
   ]
  },
  {
   "cell_type": "code",
   "execution_count": 17,
   "metadata": {
    "execution": {
     "iopub.execute_input": "2021-06-18T02:29:56.839929Z",
     "iopub.status.busy": "2021-06-18T02:29:56.839929Z",
     "iopub.status.idle": "2021-06-18T02:29:56.861926Z",
     "shell.execute_reply": "2021-06-18T02:29:56.860926Z",
     "shell.execute_reply.started": "2021-06-18T02:29:56.839929Z"
    }
   },
   "outputs": [
    {
     "data": {
      "text/plain": [
       "False"
      ]
     },
     "execution_count": 17,
     "metadata": {},
     "output_type": "execute_result"
    }
   ],
   "source": [
    "1 + 0 == 10"
   ]
  },
  {
   "cell_type": "code",
   "execution_count": 18,
   "metadata": {
    "execution": {
     "iopub.execute_input": "2021-06-18T02:30:17.096730Z",
     "iopub.status.busy": "2021-06-18T02:30:17.096730Z",
     "iopub.status.idle": "2021-06-18T02:30:17.112733Z",
     "shell.execute_reply": "2021-06-18T02:30:17.111734Z",
     "shell.execute_reply.started": "2021-06-18T02:30:17.096730Z"
    }
   },
   "outputs": [
    {
     "data": {
      "text/plain": [
       "True"
      ]
     },
     "execution_count": 18,
     "metadata": {},
     "output_type": "execute_result"
    }
   ],
   "source": [
    "1 + 0 != 10"
   ]
  },
  {
   "cell_type": "code",
   "execution_count": 19,
   "metadata": {
    "execution": {
     "iopub.execute_input": "2021-06-18T02:30:35.868429Z",
     "iopub.status.busy": "2021-06-18T02:30:35.868429Z",
     "iopub.status.idle": "2021-06-18T02:30:35.879427Z",
     "shell.execute_reply": "2021-06-18T02:30:35.877431Z",
     "shell.execute_reply.started": "2021-06-18T02:30:35.868429Z"
    }
   },
   "outputs": [
    {
     "data": {
      "text/plain": [
       "True"
      ]
     },
     "execution_count": 19,
     "metadata": {},
     "output_type": "execute_result"
    }
   ],
   "source": [
    "5 != 60"
   ]
  },
  {
   "cell_type": "code",
   "execution_count": null,
   "metadata": {},
   "outputs": [],
   "source": []
  }
 ],
 "metadata": {
  "kernelspec": {
   "display_name": "Python 3",
   "language": "python",
   "name": "python3"
  },
  "language_info": {
   "codemirror_mode": {
    "name": "ipython",
    "version": 3
   },
   "file_extension": ".py",
   "mimetype": "text/x-python",
   "name": "python",
   "nbconvert_exporter": "python",
   "pygments_lexer": "ipython3",
   "version": "3.6.9"
  }
 },
 "nbformat": 4,
 "nbformat_minor": 4
}
