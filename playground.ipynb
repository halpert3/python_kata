{
 "cells": [
  {
   "cell_type": "code",
   "execution_count": 13,
   "metadata": {
    "execution": {
     "iopub.execute_input": "2021-06-18T02:04:55.667042Z",
     "iopub.status.busy": "2021-06-18T02:04:55.667042Z",
     "iopub.status.idle": "2021-06-18T02:04:55.674047Z",
     "shell.execute_reply": "2021-06-18T02:04:55.673044Z",
     "shell.execute_reply.started": "2021-06-18T02:04:55.667042Z"
    }
   },
   "outputs": [
    {
     "data": {
      "text/plain": [
       "True"
      ]
     },
     "execution_count": 13,
     "metadata": {},
     "output_type": "execute_result"
    }
   ],
   "source": [
    "y = 3 == 3\n",
    "y "
   ]
  },
  {
   "cell_type": "code",
   "execution_count": 15,
   "metadata": {
    "execution": {
     "iopub.execute_input": "2021-06-18T02:06:28.308148Z",
     "iopub.status.busy": "2021-06-18T02:06:28.307147Z",
     "iopub.status.idle": "2021-06-18T02:06:28.330150Z",
     "shell.execute_reply": "2021-06-18T02:06:28.329148Z",
     "shell.execute_reply.started": "2021-06-18T02:06:28.307147Z"
    }
   },
   "outputs": [
    {
     "data": {
      "text/plain": [
       "False"
      ]
     },
     "execution_count": 15,
     "metadata": {},
     "output_type": "execute_result"
    }
   ],
   "source": [
    "y = True if 3==4 else False\n",
    "y"
   ]
  },
  {
   "cell_type": "code",
   "execution_count": 1,
   "metadata": {
    "execution": {
     "iopub.execute_input": "2021-06-17T14:28:42.832541Z",
     "iopub.status.busy": "2021-06-17T14:28:42.832541Z",
     "iopub.status.idle": "2021-06-17T14:28:42.855542Z",
     "shell.execute_reply": "2021-06-17T14:28:42.854541Z",
     "shell.execute_reply.started": "2021-06-17T14:28:42.832541Z"
    }
   },
   "outputs": [
    {
     "data": {
      "text/plain": [
       "[3, 5, 7, 9, 11, 13, 15, 17, 19]"
      ]
     },
     "execution_count": 1,
     "metadata": {},
     "output_type": "execute_result"
    }
   ],
   "source": [
    "nums = list(range(100))\n",
    "nums[3:20:2]"
   ]
  },
  {
   "cell_type": "code",
   "execution_count": 6,
   "metadata": {
    "execution": {
     "iopub.execute_input": "2021-06-17T14:30:57.851415Z",
     "iopub.status.busy": "2021-06-17T14:30:57.850411Z",
     "iopub.status.idle": "2021-06-17T14:30:57.866413Z",
     "shell.execute_reply": "2021-06-17T14:30:57.865412Z",
     "shell.execute_reply.started": "2021-06-17T14:30:57.851415Z"
    }
   },
   "outputs": [
    {
     "data": {
      "text/plain": [
       "2"
      ]
     },
     "execution_count": 6,
     "metadata": {},
     "output_type": "execute_result"
    }
   ],
   "source": [
    "import string\n",
    "\n",
    "# list of letters\n",
    "alpha = list(string.ascii_lowercase)\n",
    "\n",
    "# the letter 'c' is at index position 2\n",
    "alpha.index(\"c\")"
   ]
  },
  {
   "cell_type": "code",
   "execution_count": 7,
   "metadata": {
    "execution": {
     "iopub.execute_input": "2021-06-17T21:42:39.301998Z",
     "iopub.status.busy": "2021-06-17T21:42:39.296998Z",
     "iopub.status.idle": "2021-06-17T21:42:39.349002Z",
     "shell.execute_reply": "2021-06-17T21:42:39.346002Z",
     "shell.execute_reply.started": "2021-06-17T21:42:39.301998Z"
    }
   },
   "outputs": [
    {
     "data": {
      "text/plain": [
       "['a', 'b', 'c', 'd', 'e', 'f', 'g', 'h', 'i', 'j', 'k', 'l', 'm']"
      ]
     },
     "execution_count": 7,
     "metadata": {},
     "output_type": "execute_result"
    }
   ],
   "source": [
    "list('abcdefghijklm')"
   ]
  },
  {
   "cell_type": "code",
   "execution_count": 9,
   "metadata": {
    "execution": {
     "iopub.execute_input": "2021-06-17T21:52:34.444219Z",
     "iopub.status.busy": "2021-06-17T21:52:34.443221Z",
     "iopub.status.idle": "2021-06-17T21:52:34.470243Z",
     "shell.execute_reply": "2021-06-17T21:52:34.468219Z",
     "shell.execute_reply.started": "2021-06-17T21:52:34.444219Z"
    }
   },
   "outputs": [
    {
     "data": {
      "text/plain": [
       "3"
      ]
     },
     "execution_count": 9,
     "metadata": {},
     "output_type": "execute_result"
    }
   ],
   "source": [
    "len(range(3))"
   ]
  }
 ],
 "metadata": {
  "kernelspec": {
   "display_name": "Python 3",
   "language": "python",
   "name": "python3"
  },
  "language_info": {
   "codemirror_mode": {
    "name": "ipython",
    "version": 3
   },
   "file_extension": ".py",
   "mimetype": "text/x-python",
   "name": "python",
   "nbconvert_exporter": "python",
   "pygments_lexer": "ipython3",
   "version": "3.6.9"
  }
 },
 "nbformat": 4,
 "nbformat_minor": 4
}
