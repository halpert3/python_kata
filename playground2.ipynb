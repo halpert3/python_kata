{
 "cells": [
  {
   "cell_type": "markdown",
   "metadata": {},
   "source": [
    "# HP Hacker Rank Notes"
   ]
  },
  {
   "cell_type": "markdown",
   "metadata": {},
   "source": [
    "## Fizz Buzz\n",
    "- If i is multiple of 3 and 5 --> FizzBuzz\n",
    "- if a multiple of just 3 but not 5 --> Fizz\n",
    "- if a multiple of 5 but not 3 --> Buzz\n",
    "- if not a multiple of 3 or 5 --> i"
   ]
  },
  {
   "cell_type": "code",
   "execution_count": 29,
   "metadata": {
    "execution": {
     "iopub.execute_input": "2022-02-10T20:25:58.219812Z",
     "iopub.status.busy": "2022-02-10T20:25:58.219812Z",
     "iopub.status.idle": "2022-02-10T20:25:58.243812Z",
     "shell.execute_reply": "2022-02-10T20:25:58.242843Z",
     "shell.execute_reply.started": "2022-02-10T20:25:58.219812Z"
    }
   },
   "outputs": [],
   "source": [
    "def fizzbuzz(n):\n",
    "    for i in range(1,n+1):\n",
    "        if (i % 3 == 0) and not (i % 5 == 0):\n",
    "            print(\"Fizz\")\n",
    "        elif (i % 5 == 0) and not (i % 3 == 0):\n",
    "            print('Buzz')\n",
    "        elif (i % 3 == 0) & (i % 5 == 0):\n",
    "            print('FizzBuzz')\n",
    "        else:\n",
    "            print(i)\n",
    "\n"
   ]
  },
  {
   "cell_type": "code",
   "execution_count": 30,
   "metadata": {
    "execution": {
     "iopub.execute_input": "2022-02-10T20:26:00.272304Z",
     "iopub.status.busy": "2022-02-10T20:26:00.271308Z",
     "iopub.status.idle": "2022-02-10T20:26:00.293309Z",
     "shell.execute_reply": "2022-02-10T20:26:00.291305Z",
     "shell.execute_reply.started": "2022-02-10T20:26:00.272304Z"
    }
   },
   "outputs": [
    {
     "name": "stdout",
     "output_type": "stream",
     "text": [
      "1\n",
      "2\n",
      "Fizz\n",
      "4\n",
      "Buzz\n",
      "Fizz\n",
      "7\n",
      "8\n",
      "Fizz\n",
      "Buzz\n",
      "11\n",
      "Fizz\n",
      "13\n",
      "14\n",
      "FizzBuzz\n"
     ]
    }
   ],
   "source": [
    "fizzbuzz(15)"
   ]
  },
  {
   "cell_type": "markdown",
   "metadata": {},
   "source": [
    "# Even\n",
    "takes 2 integer arguments, start and n\n",
    "returns a list of n smallest even integers greater than or equal to start in ascending order "
   ]
  },
  {
   "cell_type": "markdown",
   "metadata": {},
   "source": [
    "--\n",
    "So if I am given 2, 4\n",
    "I should return\n",
    "2 4 6 8"
   ]
  },
  {
   "cell_type": "code",
   "execution_count": 39,
   "metadata": {
    "execution": {
     "iopub.execute_input": "2022-02-10T20:35:35.659080Z",
     "iopub.status.busy": "2022-02-10T20:35:35.659080Z",
     "iopub.status.idle": "2022-02-10T20:35:35.670078Z",
     "shell.execute_reply": "2022-02-10T20:35:35.669072Z",
     "shell.execute_reply.started": "2022-02-10T20:35:35.659080Z"
    }
   },
   "outputs": [],
   "source": [
    "def even(start, n):\n",
    "    list_to_return = []\n",
    "    i = start\n",
    "    if not i  > n:\n",
    "        if i % 2 == 0:\n",
    "            list_to_return.append(i)\n",
    "        i += 2\n",
    "        print(i)\n",
    "    return list_to_return\n",
    "    \n",
    "    \n",
    "    \n",
    "    "
   ]
  },
  {
   "cell_type": "code",
   "execution_count": 36,
   "metadata": {
    "execution": {
     "iopub.execute_input": "2022-02-10T20:34:06.877479Z",
     "iopub.status.busy": "2022-02-10T20:34:06.877479Z",
     "iopub.status.idle": "2022-02-10T20:34:06.890481Z",
     "shell.execute_reply": "2022-02-10T20:34:06.889477Z",
     "shell.execute_reply.started": "2022-02-10T20:34:06.877479Z"
    }
   },
   "outputs": [
    {
     "name": "stdout",
     "output_type": "stream",
     "text": [
      "4\n"
     ]
    },
    {
     "data": {
      "text/plain": [
       "[2]"
      ]
     },
     "execution_count": 36,
     "metadata": {},
     "output_type": "execute_result"
    }
   ],
   "source": [
    "even(2,4)"
   ]
  },
  {
   "cell_type": "code",
   "execution_count": 50,
   "metadata": {
    "execution": {
     "iopub.execute_input": "2022-02-10T20:40:04.141936Z",
     "iopub.status.busy": "2022-02-10T20:40:04.141936Z",
     "iopub.status.idle": "2022-02-10T20:40:04.165936Z",
     "shell.execute_reply": "2022-02-10T20:40:04.163947Z",
     "shell.execute_reply.started": "2022-02-10T20:40:04.141936Z"
    }
   },
   "outputs": [],
   "source": [
    "def even(start, n):\n",
    "    list_to_return = []\n",
    "    count = 0\n",
    "    if start % 2 != 0:\n",
    "        start +=1\n",
    "    while count < n:\n",
    "        list_to_return.append(start)\n",
    "        start += 2\n",
    "        count += 1\n",
    "    return list_to_return\n",
    "    "
   ]
  },
  {
   "cell_type": "code",
   "execution_count": 51,
   "metadata": {
    "execution": {
     "iopub.execute_input": "2022-02-10T20:40:05.463975Z",
     "iopub.status.busy": "2022-02-10T20:40:05.462975Z",
     "iopub.status.idle": "2022-02-10T20:40:05.496996Z",
     "shell.execute_reply": "2022-02-10T20:40:05.492978Z",
     "shell.execute_reply.started": "2022-02-10T20:40:05.463975Z"
    }
   },
   "outputs": [
    {
     "data": {
      "text/plain": [
       "[6, 8, 10, 12, 14, 16, 18]"
      ]
     },
     "execution_count": 51,
     "metadata": {},
     "output_type": "execute_result"
    }
   ],
   "source": [
    "even(5,7)"
   ]
  },
  {
   "cell_type": "markdown",
   "metadata": {
    "execution": {
     "iopub.execute_input": "2022-02-10T20:40:48.699535Z",
     "iopub.status.busy": "2022-02-10T20:40:48.698534Z",
     "iopub.status.idle": "2022-02-10T20:40:48.719536Z",
     "shell.execute_reply": "2022-02-10T20:40:48.717536Z",
     "shell.execute_reply.started": "2022-02-10T20:40:48.699535Z"
    }
   },
   "source": [
    "# Alphabet filter\n",
    "- string of lowercase characters\n",
    "- create 2 methods to remove all vowels or consonents from word\n"
   ]
  },
  {
   "cell_type": "code",
   "execution_count": null,
   "metadata": {},
   "outputs": [],
   "source": [
    "def filter_vowels(word):\n",
    "    vowels = 'aeiouy'\n",
    "    string_to_return = ''\n",
    "    for char in word:\n",
    "        if not char in vowels:\n",
    "            string_to_return += char\n",
    "    return string_to_return"
   ]
  },
  {
   "cell_type": "code",
   "execution_count": 60,
   "metadata": {
    "execution": {
     "iopub.execute_input": "2022-02-10T20:44:31.113760Z",
     "iopub.status.busy": "2022-02-10T20:44:31.113760Z",
     "iopub.status.idle": "2022-02-10T20:44:31.131758Z",
     "shell.execute_reply": "2022-02-10T20:44:31.130760Z",
     "shell.execute_reply.started": "2022-02-10T20:44:31.113760Z"
    }
   },
   "outputs": [
    {
     "data": {
      "text/plain": [
       "'hckrrnk'"
      ]
     },
     "execution_count": 60,
     "metadata": {},
     "output_type": "execute_result"
    }
   ],
   "source": [
    "filter_vowels('hackerrank')"
   ]
  },
  {
   "cell_type": "code",
   "execution_count": 61,
   "metadata": {
    "execution": {
     "iopub.execute_input": "2022-02-10T20:45:32.894048Z",
     "iopub.status.busy": "2022-02-10T20:45:32.894048Z",
     "iopub.status.idle": "2022-02-10T20:45:32.907014Z",
     "shell.execute_reply": "2022-02-10T20:45:32.906016Z",
     "shell.execute_reply.started": "2022-02-10T20:45:32.894048Z"
    }
   },
   "outputs": [],
   "source": [
    "def filter_consonents(word):\n",
    "    cons = 'bcdfghjklmnpqrstvwxz'\n",
    "    string_to_return = ''\n",
    "    for char in word:\n",
    "        if not char in cons:\n",
    "            string_to_return += char\n",
    "    return string_to_return"
   ]
  },
  {
   "cell_type": "code",
   "execution_count": 62,
   "metadata": {
    "execution": {
     "iopub.execute_input": "2022-02-10T20:45:41.695040Z",
     "iopub.status.busy": "2022-02-10T20:45:41.694041Z",
     "iopub.status.idle": "2022-02-10T20:45:41.706041Z",
     "shell.execute_reply": "2022-02-10T20:45:41.705042Z",
     "shell.execute_reply.started": "2022-02-10T20:45:41.695040Z"
    }
   },
   "outputs": [
    {
     "data": {
      "text/plain": [
       "'aea'"
      ]
     },
     "execution_count": 62,
     "metadata": {},
     "output_type": "execute_result"
    }
   ],
   "source": [
    "filter_consonents('hackerrank')"
   ]
  },
  {
   "cell_type": "markdown",
   "metadata": {},
   "source": [
    "# return or raise value error\n",
    "function multiply take 3 ints: a, b, bound\n",
    "\n",
    "if a * b less than or equal to bound, return result\n"
   ]
  },
  {
   "cell_type": "code",
   "execution_count": 23,
   "metadata": {
    "execution": {
     "iopub.execute_input": "2022-02-10T21:18:36.162892Z",
     "iopub.status.busy": "2022-02-10T21:18:36.162892Z",
     "iopub.status.idle": "2022-02-10T21:18:36.171891Z",
     "shell.execute_reply": "2022-02-10T21:18:36.170902Z",
     "shell.execute_reply.started": "2022-02-10T21:18:36.162892Z"
    }
   },
   "outputs": [],
   "source": [
    "def multiply(a, b, bound):\n",
    "    result = a * b\n",
    "    if result <= bound:\n",
    "        print(True)\n",
    "        return result\n",
    "    else:\n",
    "        raise ValueError('{}'.format(a))\n"
   ]
  },
  {
   "cell_type": "code",
   "execution_count": 24,
   "metadata": {
    "execution": {
     "iopub.execute_input": "2022-02-10T21:18:36.769478Z",
     "iopub.status.busy": "2022-02-10T21:18:36.769478Z",
     "iopub.status.idle": "2022-02-10T21:18:36.785478Z",
     "shell.execute_reply": "2022-02-10T21:18:36.784511Z",
     "shell.execute_reply.started": "2022-02-10T21:18:36.769478Z"
    }
   },
   "outputs": [
    {
     "ename": "ValueError",
     "evalue": "2",
     "output_type": "error",
     "traceback": [
      "\u001b[1;31m---------------------------------------------------------------------------\u001b[0m",
      "\u001b[1;31mValueError\u001b[0m                                Traceback (most recent call last)",
      "\u001b[1;32m<ipython-input-24-0c7d27710089>\u001b[0m in \u001b[0;36m<module>\u001b[1;34m\u001b[0m\n\u001b[1;32m----> 1\u001b[1;33m \u001b[0mmultiply\u001b[0m\u001b[1;33m(\u001b[0m\u001b[1;36m2\u001b[0m\u001b[1;33m,\u001b[0m\u001b[1;36m3\u001b[0m\u001b[1;33m,\u001b[0m\u001b[1;36m2\u001b[0m\u001b[1;33m)\u001b[0m\u001b[1;33m\u001b[0m\u001b[1;33m\u001b[0m\u001b[0m\n\u001b[0m",
      "\u001b[1;32m<ipython-input-23-6517aa01cd04>\u001b[0m in \u001b[0;36mmultiply\u001b[1;34m(a, b, bound)\u001b[0m\n\u001b[0;32m      5\u001b[0m         \u001b[1;32mreturn\u001b[0m \u001b[0mresult\u001b[0m\u001b[1;33m\u001b[0m\u001b[1;33m\u001b[0m\u001b[0m\n\u001b[0;32m      6\u001b[0m     \u001b[1;32melse\u001b[0m\u001b[1;33m:\u001b[0m\u001b[1;33m\u001b[0m\u001b[1;33m\u001b[0m\u001b[0m\n\u001b[1;32m----> 7\u001b[1;33m         \u001b[1;32mraise\u001b[0m \u001b[0mValueError\u001b[0m\u001b[1;33m(\u001b[0m\u001b[1;34m'{}'\u001b[0m\u001b[1;33m.\u001b[0m\u001b[0mformat\u001b[0m\u001b[1;33m(\u001b[0m\u001b[0ma\u001b[0m\u001b[1;33m)\u001b[0m\u001b[1;33m)\u001b[0m\u001b[1;33m\u001b[0m\u001b[1;33m\u001b[0m\u001b[0m\n\u001b[0m",
      "\u001b[1;31mValueError\u001b[0m: 2"
     ]
    }
   ],
   "source": [
    "multiply(2,3,2)"
   ]
  },
  {
   "cell_type": "code",
   "execution_count": null,
   "metadata": {},
   "outputs": [],
   "source": []
  },
  {
   "cell_type": "code",
   "execution_count": null,
   "metadata": {},
   "outputs": [],
   "source": []
  },
  {
   "cell_type": "code",
   "execution_count": null,
   "metadata": {},
   "outputs": [],
   "source": []
  },
  {
   "cell_type": "code",
   "execution_count": null,
   "metadata": {},
   "outputs": [],
   "source": []
  },
  {
   "cell_type": "code",
   "execution_count": null,
   "metadata": {},
   "outputs": [],
   "source": []
  },
  {
   "cell_type": "code",
   "execution_count": 42,
   "metadata": {
    "execution": {
     "iopub.execute_input": "2022-02-10T21:27:16.664214Z",
     "iopub.status.busy": "2022-02-10T21:27:16.664214Z",
     "iopub.status.idle": "2022-02-10T21:27:16.671216Z",
     "shell.execute_reply": "2022-02-10T21:27:16.670215Z",
     "shell.execute_reply.started": "2022-02-10T21:27:16.664214Z"
    }
   },
   "outputs": [],
   "source": [
    "def multiply(a, b, bound):\n",
    "    result = a * b\n",
    "    try:\n",
    "        result >= bound\n",
    "    except ValueError:\n",
    "        print(\"error\")\n",
    "    return result"
   ]
  },
  {
   "cell_type": "code",
   "execution_count": 43,
   "metadata": {
    "execution": {
     "iopub.execute_input": "2022-02-10T21:27:25.028497Z",
     "iopub.status.busy": "2022-02-10T21:27:25.028497Z",
     "iopub.status.idle": "2022-02-10T21:27:25.040503Z",
     "shell.execute_reply": "2022-02-10T21:27:25.039499Z",
     "shell.execute_reply.started": "2022-02-10T21:27:25.028497Z"
    }
   },
   "outputs": [
    {
     "data": {
      "text/plain": [
       "100"
      ]
     },
     "execution_count": 43,
     "metadata": {},
     "output_type": "execute_result"
    }
   ],
   "source": [
    "multiply(10,10,9)"
   ]
  },
  {
   "cell_type": "code",
   "execution_count": 54,
   "metadata": {
    "execution": {
     "iopub.execute_input": "2022-02-10T21:39:59.014801Z",
     "iopub.status.busy": "2022-02-10T21:39:59.012800Z",
     "iopub.status.idle": "2022-02-10T21:39:59.031801Z",
     "shell.execute_reply": "2022-02-10T21:39:59.030805Z",
     "shell.execute_reply.started": "2022-02-10T21:39:59.014801Z"
    }
   },
   "outputs": [],
   "source": [
    "def multiply(a, b, bound):\n",
    "    result = a * b\n",
    "    try:\n",
    "        if result >= bound:\n",
    "            raise ValueError\n",
    "        else:\n",
    "            return result\n",
    "    except ValueError:\n",
    "        print(f'Raised value error. Here are the inputs to interpolate in the message: {a} {b} {bound}')\n",
    "\n",
    "        "
   ]
  },
  {
   "cell_type": "code",
   "execution_count": 55,
   "metadata": {
    "execution": {
     "iopub.execute_input": "2022-02-10T21:40:00.149483Z",
     "iopub.status.busy": "2022-02-10T21:40:00.149483Z",
     "iopub.status.idle": "2022-02-10T21:40:00.155481Z",
     "shell.execute_reply": "2022-02-10T21:40:00.154489Z",
     "shell.execute_reply.started": "2022-02-10T21:40:00.149483Z"
    }
   },
   "outputs": [
    {
     "name": "stdout",
     "output_type": "stream",
     "text": [
      "Raised value error. Here are the inputs to interpolate in the message: 10 10 9\n"
     ]
    }
   ],
   "source": [
    "multiply(10,10,9)"
   ]
  },
  {
   "cell_type": "code",
   "execution_count": 56,
   "metadata": {
    "execution": {
     "iopub.execute_input": "2022-02-10T21:40:01.719005Z",
     "iopub.status.busy": "2022-02-10T21:40:01.718003Z",
     "iopub.status.idle": "2022-02-10T21:40:01.728005Z",
     "shell.execute_reply": "2022-02-10T21:40:01.727006Z",
     "shell.execute_reply.started": "2022-02-10T21:40:01.719005Z"
    }
   },
   "outputs": [
    {
     "data": {
      "text/plain": [
       "100"
      ]
     },
     "execution_count": 56,
     "metadata": {},
     "output_type": "execute_result"
    }
   ],
   "source": [
    "multiply(10,10,1000)"
   ]
  },
  {
   "cell_type": "code",
   "execution_count": null,
   "metadata": {},
   "outputs": [],
   "source": []
  }
 ],
 "metadata": {
  "kernelspec": {
   "display_name": "Python 3",
   "language": "python",
   "name": "python3"
  },
  "language_info": {
   "codemirror_mode": {
    "name": "ipython",
    "version": 3
   },
   "file_extension": ".py",
   "mimetype": "text/x-python",
   "name": "python",
   "nbconvert_exporter": "python",
   "pygments_lexer": "ipython3",
   "version": "3.6.9"
  }
 },
 "nbformat": 4,
 "nbformat_minor": 4
}
