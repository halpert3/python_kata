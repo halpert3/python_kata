{
 "cells": [
  {
   "cell_type": "markdown",
   "metadata": {},
   "source": [
    "# Find the party outlier - 6th\n",
    "\n",
    "You are given an array (which will have a length of at least 3, but could be very large) containing integers. The array is either entirely comprised of odd integers or entirely comprised of even integers except for a single integer N. Write a method that takes the array as an argument and returns this \"outlier\" N.\n",
    "\n",
    "```\n",
    "[2, 4, 0, 100, 4, 11, 2602, 36]\n",
    "Should return: 11 (the only odd number)\n",
    "\n",
    "[160, 3, 1719, 19, 11, 13, -21]\n",
    "Should return: 160 (the only even number)\n",
    "```"
   ]
  },
  {
   "cell_type": "code",
   "execution_count": 301,
   "metadata": {
    "execution": {
     "iopub.execute_input": "2021-06-17T23:59:12.862294Z",
     "iopub.status.busy": "2021-06-17T23:59:12.861292Z",
     "iopub.status.idle": "2021-06-17T23:59:12.874293Z",
     "shell.execute_reply": "2021-06-17T23:59:12.873291Z",
     "shell.execute_reply.started": "2021-06-17T23:59:12.862294Z"
    }
   },
   "outputs": [],
   "source": [
    "# this works unless the first number is odd\n",
    "def find_outlier(integers):\n",
    "    \n",
    "    even_set = True if (integers[0] % 2 == 0 and integers[1] % 2 == 0) or (integers[0] % 2 == 0 and integers[2] % 2 == 0) else False\n",
    "    print(even_set)\n",
    "    if even_set:\n",
    "        for x in range(len(integers)):\n",
    "            if integers[x] % 2 != 0:\n",
    "                return integers[x]\n",
    "    else:\n",
    "        for x in range(len(integers)):\n",
    "            if integers[x] % 2 == 0:\n",
    "                return integers[x]\n",
    "    \n",
    "\n",
    "    "
   ]
  },
  {
   "cell_type": "code",
   "execution_count": 322,
   "metadata": {
    "execution": {
     "iopub.execute_input": "2021-06-18T02:19:22.929106Z",
     "iopub.status.busy": "2021-06-18T02:19:22.929106Z",
     "iopub.status.idle": "2021-06-18T02:19:22.952104Z",
     "shell.execute_reply": "2021-06-18T02:19:22.951108Z",
     "shell.execute_reply.started": "2021-06-18T02:19:22.929106Z"
    }
   },
   "outputs": [],
   "source": [
    "def find_outlier(integers):\n",
    "    \n",
    "    # Check if the first three numbers are even\n",
    "    num_1_even = 1 if (integers[0] % 2 == 0) else 0\n",
    "    num_2_even = 1 if (integers[1] % 2 == 0) else 0\n",
    "    num_3_even = 1 if (integers[2] % 2 == 0) else 0\n",
    "    \n",
    "    # the set is an 'even' set if at least 2 out of the first 3 numbers are even \n",
    "    even_set = True if sum([num_1_even, num_2_even, num_3_even]) >= 2 else False\n",
    "    \n",
    "    # find the outlier if an even set\n",
    "    if even_set:\n",
    "        for x in range(len(integers)):\n",
    "            if integers[x] % 2 != 0:\n",
    "                return integers[x]\n",
    "    # find the outlier if an odd set\n",
    "    else:\n",
    "        for x in range(len(integers)):\n",
    "            if integers[x] % 2 == 0:\n",
    "                return integers[x]\n",
    "    \n"
   ]
  },
  {
   "cell_type": "code",
   "execution_count": 323,
   "metadata": {
    "execution": {
     "iopub.execute_input": "2021-06-18T02:19:25.211442Z",
     "iopub.status.busy": "2021-06-18T02:19:25.210442Z",
     "iopub.status.idle": "2021-06-18T02:19:25.227447Z",
     "shell.execute_reply": "2021-06-18T02:19:25.225443Z",
     "shell.execute_reply.started": "2021-06-18T02:19:25.211442Z"
    }
   },
   "outputs": [
    {
     "name": "stdout",
     "output_type": "stream",
     "text": [
      "num_1_even: 1\n",
      "num_2_even: 0\n",
      "num_3_even: 0\n"
     ]
    },
    {
     "data": {
      "text/plain": [
       "160"
      ]
     },
     "execution_count": 323,
     "metadata": {},
     "output_type": "execute_result"
    }
   ],
   "source": [
    "integers = [160, 3, 1719, 19, 11, 13, -21]\n",
    "find_outlier(integers)"
   ]
  },
  {
   "cell_type": "code",
   "execution_count": 324,
   "metadata": {
    "execution": {
     "iopub.execute_input": "2021-06-18T02:19:27.126337Z",
     "iopub.status.busy": "2021-06-18T02:19:27.126337Z",
     "iopub.status.idle": "2021-06-18T02:19:27.149338Z",
     "shell.execute_reply": "2021-06-18T02:19:27.147336Z",
     "shell.execute_reply.started": "2021-06-18T02:19:27.126337Z"
    }
   },
   "outputs": [
    {
     "name": "stdout",
     "output_type": "stream",
     "text": [
      "num_1_even: 1\n",
      "num_2_even: 1\n",
      "num_3_even: 1\n"
     ]
    },
    {
     "data": {
      "text/plain": [
       "11"
      ]
     },
     "execution_count": 324,
     "metadata": {},
     "output_type": "execute_result"
    }
   ],
   "source": [
    "integers = [2, 4, 0, 100, 4, 11, 2602, 36]\n",
    "find_outlier(integers)"
   ]
  },
  {
   "cell_type": "code",
   "execution_count": 325,
   "metadata": {
    "execution": {
     "iopub.execute_input": "2021-06-18T02:19:29.362338Z",
     "iopub.status.busy": "2021-06-18T02:19:29.361334Z",
     "iopub.status.idle": "2021-06-18T02:19:29.381337Z",
     "shell.execute_reply": "2021-06-18T02:19:29.380341Z",
     "shell.execute_reply.started": "2021-06-18T02:19:29.362338Z"
    }
   },
   "outputs": [
    {
     "name": "stdout",
     "output_type": "stream",
     "text": [
      "num_1_even: 0\n",
      "num_2_even: 1\n",
      "num_3_even: 1\n"
     ]
    },
    {
     "data": {
      "text/plain": [
       "-4028645"
      ]
     },
     "execution_count": 325,
     "metadata": {},
     "output_type": "execute_result"
    }
   ],
   "source": [
    "integers = [-4028645, 7536636, -3130152, 4005908, 6024006, 2302982, 6518154, 6439818, -3320684, 4170042, -2204478, -3365240, -8584540, -4659544, 9584132, 9317906, 3178276, -7137868, -2282176, 288036, 6223786, 2690730, 6038492, -8441372, -5194224, 4268204, 1581912, -4244094, -7807180, -9218948, 1448742, 6488118, 4629400]\n",
    "\n",
    "find_outlier(integers)"
   ]
  },
  {
   "cell_type": "markdown",
   "metadata": {},
   "source": [
    "# Return a string's even characters - 7th\n",
    "\n",
    "Write a function that returns a sequence (index begins with 1) of all the even characters from a string. If the string is smaller than two characters or longer than 100 characters, the function should return \"invalid string\".\n",
    "\n",
    "For example:\n",
    "```\n",
    "\"abcdefghijklm\" --> [\"b\", \"d\", \"f\", \"h\", \"j\", \"l\"]\n",
    "\"a\"             --> \"invalid string\"\n",
    "\n",
    "```"
   ]
  },
  {
   "cell_type": "markdown",
   "metadata": {},
   "source": [
    "### Notes\n",
    " - Split string\n",
    " - find index of lists"
   ]
  },
  {
   "cell_type": "code",
   "execution_count": 240,
   "metadata": {
    "execution": {
     "iopub.execute_input": "2021-06-17T21:28:05.544291Z",
     "iopub.status.busy": "2021-06-17T21:28:05.543292Z",
     "iopub.status.idle": "2021-06-17T21:28:05.553293Z",
     "shell.execute_reply": "2021-06-17T21:28:05.552292Z",
     "shell.execute_reply.started": "2021-06-17T21:28:05.544291Z"
    }
   },
   "outputs": [],
   "source": [
    "# this works\n",
    "def even_chars(st):     \n",
    "    if len(st) < 2 or len(st) > 100:\n",
    "        return \"invalid string\"\n",
    "    \n",
    "    # split st into list of chars\n",
    "    chars = [x for x in st]\n",
    "    \n",
    "    new_list = []\n",
    "    for x in range(len(chars)):\n",
    "        if ((x + 1)) % 2 == 0:\n",
    "            new_list.append(chars[x])\n",
    "    return new_list\n"
   ]
  },
  {
   "cell_type": "code",
   "execution_count": 251,
   "metadata": {
    "execution": {
     "iopub.execute_input": "2021-06-17T21:38:52.906846Z",
     "iopub.status.busy": "2021-06-17T21:38:52.905848Z",
     "iopub.status.idle": "2021-06-17T21:38:52.932847Z",
     "shell.execute_reply": "2021-06-17T21:38:52.931843Z",
     "shell.execute_reply.started": "2021-06-17T21:38:52.906846Z"
    }
   },
   "outputs": [],
   "source": [
    "# re-factor\n",
    "def even_chars(st):     \n",
    "    if len(st) < 2 or len(st) > 100:\n",
    "        return \"invalid string\"\n",
    "    \n",
    "    chars = [x for x in st]\n",
    "    \n",
    "    return [chars[x] for x in range(len(chars)) if ((x % 2 == 1))]\n"
   ]
  },
  {
   "cell_type": "code",
   "execution_count": null,
   "metadata": {},
   "outputs": [],
   "source": [
    "# re-factor 2\n",
    "\n",
    "def even_chars(st):     \n",
    "    if len(st) < 2 or len(st) > 100:\n",
    "        return \"invalid string\"\n",
    "    \n",
    "    chars = list(st)\n",
    "    \n",
    "    return [chars[x] for x in range(len(chars)) if ((x % 2 == 1))]\n"
   ]
  },
  {
   "cell_type": "code",
   "execution_count": 252,
   "metadata": {
    "execution": {
     "iopub.execute_input": "2021-06-17T21:38:53.785846Z",
     "iopub.status.busy": "2021-06-17T21:38:53.784848Z",
     "iopub.status.idle": "2021-06-17T21:38:53.797848Z",
     "shell.execute_reply": "2021-06-17T21:38:53.796846Z",
     "shell.execute_reply.started": "2021-06-17T21:38:53.785846Z"
    }
   },
   "outputs": [
    {
     "data": {
      "text/plain": [
       "['b', 'd', 'f', 'h', 'j', 'l']"
      ]
     },
     "execution_count": 252,
     "metadata": {},
     "output_type": "execute_result"
    }
   ],
   "source": [
    "# st = \"abcdefghijklm\"\n",
    "st = 'abcdefghijklm'\n",
    "even_chars(st)"
   ]
  },
  {
   "cell_type": "markdown",
   "metadata": {},
   "source": [
    "# Who likes it - 6th kyu\n",
    "\n",
    "You probably know the \"like\" system from Facebook and other pages. People can \"like\" blog posts, pictures or other items. We want to create the text that should be displayed next to such an item.\n",
    "\n",
    "Implement a function likes :: [String] -> String, which must take in input array, containing the names of people who like an item. It must return the display text as shown in the examples:\n",
    "\n",
    "```\n",
    "likes([]) # must be \"no one likes this\"\n",
    "likes([\"Peter\"]) # must be \"Peter likes this\"\n",
    "likes([\"Jacob\", \"Alex\"]) # must be \"Jacob and Alex like this\"\n",
    "likes([\"Max\", \"John\", \"Mark\"]) # must be \"Max, John and Mark like this\"\n",
    "likes([\"Alex\", \"Jacob\", \"Mark\", \"Max\"]) # must be \"Alex, Jacob and 2 others like this\"\n",
    "```"
   ]
  },
  {
   "cell_type": "code",
   "execution_count": 218,
   "metadata": {
    "execution": {
     "iopub.execute_input": "2021-06-17T14:39:53.667565Z",
     "iopub.status.busy": "2021-06-17T14:39:53.666564Z",
     "iopub.status.idle": "2021-06-17T14:39:53.677568Z",
     "shell.execute_reply": "2021-06-17T14:39:53.676564Z",
     "shell.execute_reply.started": "2021-06-17T14:39:53.666564Z"
    }
   },
   "outputs": [],
   "source": [
    "def likes(names):\n",
    "    if not names:\n",
    "        return \"no one likes this\"\n",
    "    elif len(names) == 1:\n",
    "        return f\"{names[0]} likes this\"\n",
    "    elif len(names) == 2:\n",
    "        return  f\"{names[0]} and {names[1]} like this\"\n",
    "    elif len(names) == 3:\n",
    "        return  f\"{names[0]}, {names[1]} and {names[2]} like this\"\n",
    "    else:\n",
    "        return f\"{names[0]}, {names[1]} and {len(names) - 2} others like this\""
   ]
  },
  {
   "cell_type": "code",
   "execution_count": 221,
   "metadata": {
    "execution": {
     "iopub.execute_input": "2021-06-17T14:40:08.790786Z",
     "iopub.status.busy": "2021-06-17T14:40:08.789787Z",
     "iopub.status.idle": "2021-06-17T14:40:08.808787Z",
     "shell.execute_reply": "2021-06-17T14:40:08.806791Z",
     "shell.execute_reply.started": "2021-06-17T14:40:08.790786Z"
    }
   },
   "outputs": [
    {
     "data": {
      "text/plain": [
       "'Peter, Alex and 3 others like this'"
      ]
     },
     "execution_count": 221,
     "metadata": {},
     "output_type": "execute_result"
    }
   ],
   "source": [
    "names = [\"Peter\", \"Alex\", \"Mary\", \"George\", \"Sam\"]\n",
    "likes(names)"
   ]
  },
  {
   "cell_type": "code",
   "execution_count": null,
   "metadata": {},
   "outputs": [],
   "source": []
  },
  {
   "cell_type": "markdown",
   "metadata": {},
   "source": [
    "# Find the missing letter - 6th Kyu\n",
    "\n",
    "Write a method that takes an array of consecutive (increasing) letters as input and that returns the missing letter in the array.\n",
    "\n",
    "You will always get an valid array. And it will be always exactly one letter be missing. The length of the array will always be at least 2.\n",
    "The array will always contain letters in only one case.\n",
    "\n",
    "Example:\n",
    "```\n",
    "['a','b','c','d','f'] -> 'e' \n",
    "['O','Q','R','S'] -> 'P'\n",
    "```"
   ]
  },
  {
   "cell_type": "markdown",
   "metadata": {},
   "source": [
    "So, you'll get a list. You'll have to iterate over the list.\n",
    "First, how would I make a list of all not in alphabet"
   ]
  },
  {
   "cell_type": "code",
   "execution_count": 189,
   "metadata": {
    "execution": {
     "iopub.execute_input": "2021-06-17T14:09:11.120069Z",
     "iopub.status.busy": "2021-06-17T14:09:11.120069Z",
     "iopub.status.idle": "2021-06-17T14:09:11.139066Z",
     "shell.execute_reply": "2021-06-17T14:09:11.137070Z",
     "shell.execute_reply.started": "2021-06-17T14:09:11.120069Z"
    }
   },
   "outputs": [],
   "source": [
    "# this works\n",
    "import string\n",
    "\n",
    "def find_missing_letter(chars):\n",
    "    # making alpha either all lower or all upper depending on 'chars'\n",
    "    alpha = list(string.ascii_lowercase) if chars[0].islower() else list(string.ascii_uppercase)\n",
    "    \n",
    "    # figuring out which letter to start using 'alpha'\n",
    "    starting_point = None\n",
    "    for i in range(len(alpha)):\n",
    "        if alpha[i] == chars[0]:\n",
    "            starting_point = i \n",
    "    print(f\"alphabet starting character is {alpha[starting_point]}\")\n",
    "    \n",
    "    # determining which letter is missing from 'chars'\n",
    "    missing_letter = None\n",
    "    for i in range(len(chars)):\n",
    "        print(f\"At character {chars[i]}\")\n",
    "        print(f\"At alphabet {alpha[starting_point + i]}\")\n",
    "        if chars[i] != alpha[starting_point + i]:\n",
    "            missing_letter = alpha[starting_point + i]b\n",
    "            break\n",
    "    return missing_letter"
   ]
  },
  {
   "cell_type": "code",
   "execution_count": 195,
   "metadata": {
    "execution": {
     "iopub.execute_input": "2021-06-17T14:20:43.792067Z",
     "iopub.status.busy": "2021-06-17T14:20:43.791068Z",
     "iopub.status.idle": "2021-06-17T14:20:43.805068Z",
     "shell.execute_reply": "2021-06-17T14:20:43.804067Z",
     "shell.execute_reply.started": "2021-06-17T14:20:43.792067Z"
    }
   },
   "outputs": [],
   "source": [
    "# refactoring above after seeing solution\n",
    "import string\n",
    "\n",
    "def find_missing_letter(chars):\n",
    "    # one long alpha list\n",
    "    alpha = list(string.ascii_lowercase) + list(string.ascii_uppercase)\n",
    "    \n",
    "    # figuring out which letter to start using 'alpha'\n",
    "    starting_point = alpha.index(chars[0])\n",
    "    \n",
    "    # determining which letter is missing from 'chars'\n",
    "    for i in range(len(chars)):\n",
    "        if chars[i] != alpha[starting_point + i]:\n",
    "            return alpha[starting_point + i]\n",
    "            "
   ]
  },
  {
   "cell_type": "code",
   "execution_count": 196,
   "metadata": {
    "execution": {
     "iopub.execute_input": "2021-06-17T14:20:44.718070Z",
     "iopub.status.busy": "2021-06-17T14:20:44.718070Z",
     "iopub.status.idle": "2021-06-17T14:20:44.727069Z",
     "shell.execute_reply": "2021-06-17T14:20:44.725069Z",
     "shell.execute_reply.started": "2021-06-17T14:20:44.718070Z"
    }
   },
   "outputs": [
    {
     "data": {
      "text/plain": [
       "'P'"
      ]
     },
     "execution_count": 196,
     "metadata": {},
     "output_type": "execute_result"
    }
   ],
   "source": [
    "chars = ['O', 'Q', 'R', 'S']\n",
    "find_missing_letter(chars)"
   ]
  },
  {
   "cell_type": "code",
   "execution_count": null,
   "metadata": {},
   "outputs": [],
   "source": [
    "# works for lowercase\n",
    "def find_missing_letter(chars):\n",
    "    starting_point = None\n",
    "    for i in range(len(alpha)):\n",
    "        if alpha[i] == chars[0]:\n",
    "            starting_point = i \n",
    "    letter_to_return = None\n",
    "    for i in range(len(chars)):\n",
    "        if chars[i] != alpha[starting_point + i]:\n",
    "            letter_to_return = alpha[starting_point + i]\n",
    "    return letter_to_return"
   ]
  },
  {
   "cell_type": "code",
   "execution_count": 156,
   "metadata": {
    "execution": {
     "iopub.execute_input": "2021-06-17T01:51:01.882630Z",
     "iopub.status.busy": "2021-06-17T01:51:01.882630Z",
     "iopub.status.idle": "2021-06-17T01:51:01.900633Z",
     "shell.execute_reply": "2021-06-17T01:51:01.899632Z",
     "shell.execute_reply.started": "2021-06-17T01:51:01.882630Z"
    }
   },
   "outputs": [],
   "source": [
    "def find_missing_letter(chars):\n",
    "    starting_point = None\n",
    "    for i in range(len(alpha)):\n",
    "        if alpha[i] == chars[0]:\n",
    "            starting_point = i \n",
    "    print(starting_point)    \n",
    "    letter_to_return = None\n",
    "\n",
    "    for i in range(len(chars)):\n",
    "        j = (i + 26) if chars[0].isupper else i\n",
    "        print(f\"i is {i}\")\n",
    "        print(f\"j is {j}\")\n",
    "        print(f\"chars[{i}] is {chars[i]}\")\n",
    "        print(f\"alpha[{starting_point + j}] is {alpha[starting_point + j]}\")\n",
    "        if chars[i] != alpha[starting_point + j]:\n",
    "            letter_to_return = alpha[starting_point + j]\n",
    "    return letter_to_return"
   ]
  },
  {
   "cell_type": "markdown",
   "metadata": {},
   "source": [
    "# Split Strings - 6th kyu \n",
    "\n",
    "Complete the solution so that it splits the string into pairs of two characters. If the string contains an odd number of characters then it should replace the missing second character of the final pair with an underscore ('_').\n",
    "\n",
    "Examples:\n",
    "```\n",
    "solution('abc') # should return ['ab', 'c_']\n",
    "solution('abcdef') # should return ['ab', 'cd', 'ef']\n",
    "```"
   ]
  },
  {
   "cell_type": "code",
   "execution_count": null,
   "metadata": {},
   "outputs": [],
   "source": []
  },
  {
   "cell_type": "code",
   "execution_count": 24,
   "metadata": {
    "execution": {
     "iopub.execute_input": "2021-06-16T21:36:07.317437Z",
     "iopub.status.busy": "2021-06-16T21:36:07.316438Z",
     "iopub.status.idle": "2021-06-16T21:36:07.330444Z",
     "shell.execute_reply": "2021-06-16T21:36:07.328442Z",
     "shell.execute_reply.started": "2021-06-16T21:36:07.317437Z"
    }
   },
   "outputs": [],
   "source": [
    "def solution(text):\n",
    "    split_text = [text[i:i+2] for i in range(0, len(text), 2)]\n",
    "    to_return = []\n",
    "    for chars in split_text:\n",
    "        if len(chars) == 1:\n",
    "            to_return.append(chars + \"_\")\n",
    "        else:\n",
    "            to_return.append(chars)\n",
    "    return to_return "
   ]
  },
  {
   "cell_type": "code",
   "execution_count": 27,
   "metadata": {
    "execution": {
     "iopub.execute_input": "2021-06-16T21:44:57.341440Z",
     "iopub.status.busy": "2021-06-16T21:44:57.341440Z",
     "iopub.status.idle": "2021-06-16T21:44:57.349436Z",
     "shell.execute_reply": "2021-06-16T21:44:57.348434Z",
     "shell.execute_reply.started": "2021-06-16T21:44:57.341440Z"
    }
   },
   "outputs": [],
   "source": [
    "def solution(text):\n",
    "    split_text = [text[i:i+2] for i in range(0, len(text), 2)]\n",
    "    to_return = [chars if len(chars) == 2 else chars+\"_\" for chars in split_text]\n",
    "    return to_return "
   ]
  },
  {
   "cell_type": "code",
   "execution_count": 31,
   "metadata": {
    "execution": {
     "iopub.execute_input": "2021-06-16T21:45:45.371973Z",
     "iopub.status.busy": "2021-06-16T21:45:45.370994Z",
     "iopub.status.idle": "2021-06-16T21:45:45.388978Z",
     "shell.execute_reply": "2021-06-16T21:45:45.385975Z",
     "shell.execute_reply.started": "2021-06-16T21:45:45.371973Z"
    }
   },
   "outputs": [],
   "source": [
    "def solution(text):\n",
    "    split_text = [text[i:i+2] for i in range(0, len(text), 2)]\n",
    "    return [chars if len(chars) == 2 else chars + \"_\" for chars in split_text]"
   ]
  },
  {
   "cell_type": "code",
   "execution_count": 32,
   "metadata": {
    "execution": {
     "iopub.execute_input": "2021-06-16T21:45:46.124976Z",
     "iopub.status.busy": "2021-06-16T21:45:46.124976Z",
     "iopub.status.idle": "2021-06-16T21:45:46.141989Z",
     "shell.execute_reply": "2021-06-16T21:45:46.140973Z",
     "shell.execute_reply.started": "2021-06-16T21:45:46.124976Z"
    }
   },
   "outputs": [
    {
     "data": {
      "text/plain": [
       "['ab', 'cd', 'e_']"
      ]
     },
     "execution_count": 32,
     "metadata": {},
     "output_type": "execute_result"
    }
   ],
   "source": [
    "txt = \"abcde\"\n",
    "solution(txt)"
   ]
  },
  {
   "cell_type": "markdown",
   "metadata": {},
   "source": [
    "# Multiples of 3 or 5 - 6th kyu\n",
    "\n",
    "If we list all the natural numbers below 10 that are multiples of 3 or 5, we get 3, 5, 6 and 9. The sum of these multiples is 23.\n",
    "\n",
    "Finish the solution so that it returns the sum of all the multiples of 3 or 5 below the number passed in.\n",
    "\n",
    "Note: If the number is a multiple of both 3 and 5, only count it once. Also, if a number is negative, return 0(for languages that do have them)"
   ]
  },
  {
   "cell_type": "markdown",
   "metadata": {},
   "source": [
    "## Notes\n",
    "\n",
    "1. Make a list of the numbers below input\n",
    "2. Divide each number by 3 and add it to the list if there's no remainder\n",
    "3. Divide each by 5, etc.\n",
    "4. Make a set to remove duplicates\n",
    "5. Add the set together and return it."
   ]
  },
  {
   "cell_type": "code",
   "execution_count": 51,
   "metadata": {
    "execution": {
     "iopub.execute_input": "2021-06-16T15:56:09.188845Z",
     "iopub.status.busy": "2021-06-16T15:56:09.188845Z",
     "iopub.status.idle": "2021-06-16T15:56:09.210831Z",
     "shell.execute_reply": "2021-06-16T15:56:09.208831Z",
     "shell.execute_reply.started": "2021-06-16T15:56:09.188845Z"
    }
   },
   "outputs": [],
   "source": [
    "def add_multiples(num):\n",
    "    all_nums = [x for x in range(num)]\n",
    "    nums_to_sum = []\n",
    "    for x in range(len(all_nums)):\n",
    "        if (all_nums[x] % 3 == 0) or (all_nums[x] % 5 == 0):\n",
    "            nums_to_sum.append(all_nums[x])\n",
    "    nums_to_sum = list(set(nums_to_sum))\n",
    "    return sum(nums_to_sum)"
   ]
  },
  {
   "cell_type": "code",
   "execution_count": 53,
   "metadata": {
    "execution": {
     "iopub.execute_input": "2021-06-16T15:56:18.904431Z",
     "iopub.status.busy": "2021-06-16T15:56:18.904431Z",
     "iopub.status.idle": "2021-06-16T15:56:18.917438Z",
     "shell.execute_reply": "2021-06-16T15:56:18.914432Z",
     "shell.execute_reply.started": "2021-06-16T15:56:18.904431Z"
    }
   },
   "outputs": [
    {
     "data": {
      "text/plain": [
       "2318"
      ]
     },
     "execution_count": 53,
     "metadata": {},
     "output_type": "execute_result"
    }
   ],
   "source": [
    "add_multiples(100)"
   ]
  },
  {
   "cell_type": "markdown",
   "metadata": {},
   "source": [
    "Here's how to do it in one line"
   ]
  },
  {
   "cell_type": "code",
   "execution_count": null,
   "metadata": {},
   "outputs": [],
   "source": [
    "def solution(number):\n",
    "    return sum(x for x in range(number) if x % 3 == 0 or x % 5 == 0)"
   ]
  },
  {
   "cell_type": "markdown",
   "metadata": {
    "execution": {
     "iopub.execute_input": "2021-06-16T15:32:28.083487Z",
     "iopub.status.busy": "2021-06-16T15:32:28.083487Z",
     "iopub.status.idle": "2021-06-16T15:32:28.102487Z",
     "shell.execute_reply": "2021-06-16T15:32:28.100490Z",
     "shell.execute_reply.started": "2021-06-16T15:32:28.083487Z"
    }
   },
   "source": [
    "# Tech interview"
   ]
  },
  {
   "cell_type": "markdown",
   "metadata": {},
   "source": [
    "From the tech interview: Write a function that will remove all duplicates from a list of intergers.\n",
    "\n",
    "[1, 2, 3, 4, 2, 3, 1, 4] --> [1, 2, 3, 4]"
   ]
  },
  {
   "cell_type": "code",
   "execution_count": 19,
   "metadata": {
    "execution": {
     "iopub.execute_input": "2021-06-16T15:31:58.152316Z",
     "iopub.status.busy": "2021-06-16T15:31:58.151344Z",
     "iopub.status.idle": "2021-06-16T15:31:58.162308Z",
     "shell.execute_reply": "2021-06-16T15:31:58.160306Z",
     "shell.execute_reply.started": "2021-06-16T15:31:58.152316Z"
    }
   },
   "outputs": [],
   "source": [
    "def remove_dups(list_input):\n",
    "    new_set = set(list_input)\n",
    "    new_list = list(new_set)\n",
    "    return new_list"
   ]
  },
  {
   "cell_type": "code",
   "execution_count": 57,
   "metadata": {
    "execution": {
     "iopub.execute_input": "2021-06-16T16:01:52.065693Z",
     "iopub.status.busy": "2021-06-16T16:01:52.065693Z",
     "iopub.status.idle": "2021-06-16T16:01:52.086690Z",
     "shell.execute_reply": "2021-06-16T16:01:52.083697Z",
     "shell.execute_reply.started": "2021-06-16T16:01:52.065693Z"
    }
   },
   "outputs": [
    {
     "data": {
      "text/plain": [
       "[1, 2]"
      ]
     },
     "execution_count": 57,
     "metadata": {},
     "output_type": "execute_result"
    }
   ],
   "source": [
    "remove_dups([1, 2, 1, 2])"
   ]
  },
  {
   "cell_type": "markdown",
   "metadata": {},
   "source": [
    "An easier way"
   ]
  },
  {
   "cell_type": "code",
   "execution_count": 54,
   "metadata": {
    "execution": {
     "iopub.execute_input": "2021-06-16T16:01:26.945632Z",
     "iopub.status.busy": "2021-06-16T16:01:26.944631Z",
     "iopub.status.idle": "2021-06-16T16:01:26.959627Z",
     "shell.execute_reply": "2021-06-16T16:01:26.958632Z",
     "shell.execute_reply.started": "2021-06-16T16:01:26.945632Z"
    }
   },
   "outputs": [],
   "source": [
    "def remove_dups(list_input):\n",
    "    return list(set(list_input))"
   ]
  },
  {
   "cell_type": "code",
   "execution_count": 56,
   "metadata": {
    "execution": {
     "iopub.execute_input": "2021-06-16T16:01:42.003724Z",
     "iopub.status.busy": "2021-06-16T16:01:42.003724Z",
     "iopub.status.idle": "2021-06-16T16:01:42.025720Z",
     "shell.execute_reply": "2021-06-16T16:01:42.024722Z",
     "shell.execute_reply.started": "2021-06-16T16:01:42.003724Z"
    }
   },
   "outputs": [
    {
     "data": {
      "text/plain": [
       "[1, 2]"
      ]
     },
     "execution_count": 56,
     "metadata": {},
     "output_type": "execute_result"
    }
   ],
   "source": [
    "remove_dups([1, 2, 1, 2])"
   ]
  }
 ],
 "metadata": {
  "kernelspec": {
   "display_name": "Python 3",
   "language": "python",
   "name": "python3"
  },
  "language_info": {
   "codemirror_mode": {
    "name": "ipython",
    "version": 3
   },
   "file_extension": ".py",
   "mimetype": "text/x-python",
   "name": "python",
   "nbconvert_exporter": "python",
   "pygments_lexer": "ipython3",
   "version": "3.6.9"
  }
 },
 "nbformat": 4,
 "nbformat_minor": 4
}
