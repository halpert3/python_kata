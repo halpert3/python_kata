{
 "cells": [
  {
   "cell_type": "markdown",
   "metadata": {},
   "source": [
    "# Multiples of 3 or 5 - 6th kyu\n",
    "\n",
    "If we list all the natural numbers below 10 that are multiples of 3 or 5, we get 3, 5, 6 and 9. The sum of these multiples is 23.\n",
    "\n",
    "Finish the solution so that it returns the sum of all the multiples of 3 or 5 below the number passed in.\n",
    "\n",
    "Note: If the number is a multiple of both 3 and 5, only count it once. Also, if a number is negative, return 0(for languages that do have them)"
   ]
  },
  {
   "cell_type": "markdown",
   "metadata": {},
   "source": [
    "## Notes\n",
    "\n",
    "1. Make a list of the numbers below input\n",
    "2. Divide each number by 3 and add it to the list if there's no remainder\n",
    "3. Divide each by 5, etc.\n",
    "4. Make a set to remove duplicates\n",
    "5. Add the set together and return it."
   ]
  },
  {
   "cell_type": "code",
   "execution_count": 51,
   "metadata": {
    "execution": {
     "iopub.execute_input": "2021-06-16T15:56:09.188845Z",
     "iopub.status.busy": "2021-06-16T15:56:09.188845Z",
     "iopub.status.idle": "2021-06-16T15:56:09.210831Z",
     "shell.execute_reply": "2021-06-16T15:56:09.208831Z",
     "shell.execute_reply.started": "2021-06-16T15:56:09.188845Z"
    }
   },
   "outputs": [],
   "source": [
    "def add_multiples(num):\n",
    "    all_nums = [x for x in range(num)]\n",
    "    nums_to_sum = []\n",
    "    for x in range(len(all_nums)):\n",
    "        if (all_nums[x] % 3 == 0) or (all_nums[x] % 5 == 0):\n",
    "            nums_to_sum.append(all_nums[x])\n",
    "    nums_to_sum = list(set(nums_to_sum))\n",
    "    return sum(nums_to_sum)"
   ]
  },
  {
   "cell_type": "code",
   "execution_count": 53,
   "metadata": {
    "execution": {
     "iopub.execute_input": "2021-06-16T15:56:18.904431Z",
     "iopub.status.busy": "2021-06-16T15:56:18.904431Z",
     "iopub.status.idle": "2021-06-16T15:56:18.917438Z",
     "shell.execute_reply": "2021-06-16T15:56:18.914432Z",
     "shell.execute_reply.started": "2021-06-16T15:56:18.904431Z"
    }
   },
   "outputs": [
    {
     "data": {
      "text/plain": [
       "2318"
      ]
     },
     "execution_count": 53,
     "metadata": {},
     "output_type": "execute_result"
    }
   ],
   "source": [
    "add_multiples(100)"
   ]
  },
  {
   "cell_type": "markdown",
   "metadata": {},
   "source": [
    "Here's how to do it in one line"
   ]
  },
  {
   "cell_type": "code",
   "execution_count": null,
   "metadata": {},
   "outputs": [],
   "source": [
    "def solution(number):\n",
    "    return sum(x for x in range(number) if x % 3 == 0 or x % 5 == 0)"
   ]
  },
  {
   "cell_type": "markdown",
   "metadata": {
    "execution": {
     "iopub.execute_input": "2021-06-16T15:32:28.083487Z",
     "iopub.status.busy": "2021-06-16T15:32:28.083487Z",
     "iopub.status.idle": "2021-06-16T15:32:28.102487Z",
     "shell.execute_reply": "2021-06-16T15:32:28.100490Z",
     "shell.execute_reply.started": "2021-06-16T15:32:28.083487Z"
    }
   },
   "source": [
    "# Tech interview"
   ]
  },
  {
   "cell_type": "markdown",
   "metadata": {},
   "source": [
    "From the tech interview: Write a function that will remove all duplicates from a list of intergers.\n",
    "\n",
    "[1, 2, 3, 4, 2, 3, 1, 4] --> [1, 2, 3, 4]"
   ]
  },
  {
   "cell_type": "code",
   "execution_count": 19,
   "metadata": {
    "execution": {
     "iopub.execute_input": "2021-06-16T15:31:58.152316Z",
     "iopub.status.busy": "2021-06-16T15:31:58.151344Z",
     "iopub.status.idle": "2021-06-16T15:31:58.162308Z",
     "shell.execute_reply": "2021-06-16T15:31:58.160306Z",
     "shell.execute_reply.started": "2021-06-16T15:31:58.152316Z"
    }
   },
   "outputs": [],
   "source": [
    "def remove_dups(list_input):\n",
    "    new_set = set(list_input)\n",
    "    new_list = list(new_set)\n",
    "    return new_list"
   ]
  },
  {
   "cell_type": "code",
   "execution_count": 57,
   "metadata": {
    "execution": {
     "iopub.execute_input": "2021-06-16T16:01:52.065693Z",
     "iopub.status.busy": "2021-06-16T16:01:52.065693Z",
     "iopub.status.idle": "2021-06-16T16:01:52.086690Z",
     "shell.execute_reply": "2021-06-16T16:01:52.083697Z",
     "shell.execute_reply.started": "2021-06-16T16:01:52.065693Z"
    }
   },
   "outputs": [
    {
     "data": {
      "text/plain": [
       "[1, 2]"
      ]
     },
     "execution_count": 57,
     "metadata": {},
     "output_type": "execute_result"
    }
   ],
   "source": [
    "remove_dups([1, 2, 1, 2])"
   ]
  },
  {
   "cell_type": "markdown",
   "metadata": {},
   "source": [
    "An easier way"
   ]
  },
  {
   "cell_type": "code",
   "execution_count": 54,
   "metadata": {
    "execution": {
     "iopub.execute_input": "2021-06-16T16:01:26.945632Z",
     "iopub.status.busy": "2021-06-16T16:01:26.944631Z",
     "iopub.status.idle": "2021-06-16T16:01:26.959627Z",
     "shell.execute_reply": "2021-06-16T16:01:26.958632Z",
     "shell.execute_reply.started": "2021-06-16T16:01:26.945632Z"
    }
   },
   "outputs": [],
   "source": [
    "def remove_dups(list_input):\n",
    "    return list(set(list_input))"
   ]
  },
  {
   "cell_type": "code",
   "execution_count": 56,
   "metadata": {
    "execution": {
     "iopub.execute_input": "2021-06-16T16:01:42.003724Z",
     "iopub.status.busy": "2021-06-16T16:01:42.003724Z",
     "iopub.status.idle": "2021-06-16T16:01:42.025720Z",
     "shell.execute_reply": "2021-06-16T16:01:42.024722Z",
     "shell.execute_reply.started": "2021-06-16T16:01:42.003724Z"
    }
   },
   "outputs": [
    {
     "data": {
      "text/plain": [
       "[1, 2]"
      ]
     },
     "execution_count": 56,
     "metadata": {},
     "output_type": "execute_result"
    }
   ],
   "source": [
    "remove_dups([1, 2, 1, 2])"
   ]
  }
 ],
 "metadata": {
  "kernelspec": {
   "display_name": "Python 3",
   "language": "python",
   "name": "python3"
  },
  "language_info": {
   "codemirror_mode": {
    "name": "ipython",
    "version": 3
   },
   "file_extension": ".py",
   "mimetype": "text/x-python",
   "name": "python",
   "nbconvert_exporter": "python",
   "pygments_lexer": "ipython3",
   "version": "3.6.9"
  }
 },
 "nbformat": 4,
 "nbformat_minor": 4
}
